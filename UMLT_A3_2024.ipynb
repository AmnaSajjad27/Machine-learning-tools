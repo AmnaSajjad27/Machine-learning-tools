{
 "cells": [
  {
   "cell_type": "markdown",
   "id": "bc04cb78",
   "metadata": {},
   "source": [
    "# Assignment 3\n",
    "## Sign Language Image Classification using Deep Learning"
   ]
  },
  {
   "cell_type": "markdown",
   "id": "0de859f4",
   "metadata": {
    "tags": []
   },
   "source": [
    "In this assignment you will implement different deep learning networks to classify images of hands in poses that correspond to letters in American Sign Language. The dataset is contained in the assignment zip file, along with some images and a text file describing the dataset. It is similar in many ways to other MNIST datasets.\n",
    "\n",
    "The American Sign Language letter database of hand gestures represent a multi-class problem with 24 classes of letters (**excluding J and Z which require motion**). The dataset format is patterned to match closely with the classic MNIST. Each training and test case represents a label (0-25) as a one-to-one map for each alphabetic letter A-Z (and **no cases for 9=J or 25=Z because of gesture motions**). The training data (27,455 cases) and test data (7172 cases) are approximately half the size of the standard MNIST but otherwise similar with a header row of label, $pixel_{1}$,$pixel_{2}$….$pixel_{784}$ which represent a single 28x28 pixel image with grayscale values between 0-255.\n",
    "\n",
    "## Scenario\n",
    "\n",
    "A client is interested in having you (or rather the company that you work for) investigate whether it is possible to develop an app that would enable American sign language to be translated for people that do not sign, or those that sign in different languages/styles. They have provided you with a labelled data of images related to signs (hand positions) that represent individual letters in order to do a preliminary test of feasibility.\n",
    "\n",
    "Your manager has asked you to do this feasibility assessment, but subject to a constraint on the computational facilities available.  More specifically, you are asked to do **no more than 100 training runs in total** (including all models and hyperparameter settings that you consider).  \n",
    "\n",
    "The task requires you to create a Jupyter Notebook to perform 22 steps. These steps involve loading the dataset, fixing data problems, converting labels to one-hot encoding, plotting sample images, creating, training, and evaluating two sequential models with 20 Dense layers with 100 neurons each, checking for better accuracy using MC Dropout, retraining the first model with performance scheduling, evaluating both models, using transfer learning to create a new model using pre-trained weights, freezing the weights of the pre-trained layers, adding new Dense layers, training and evaluating the new model, predicting and converting sign language to text using the best model.\n",
    "\n",
    "### IMPORTANT\n",
    "* Train all the models locally on your own machine. No model training should occur on Gradescope (GS).\n",
    "* After completing the training, upload the trained models' **h5 files** and their training histories along with your notebook to GS.\n",
    "    * best_dnn_bn_model.keras\n",
    "    * best_dnn_bn_perf_model.keras\n",
    "    * best_dnn_selu_model.keras\n",
    "    * best_mobilenet_model.keras\n",
    "    * history1\n",
    "    * history2\n",
    "    * history1_perf\n",
    "    * historymb\n",
    "* To avoid any confusion and poor training on GS, please remember to comment out the training code in your notebook before uploading it to GS.\n"
   ]
  },
  {
   "cell_type": "code",
   "execution_count": 111,
   "id": "1095cc67-6b26-4695-a4cd-5d1996cf9290",
   "metadata": {
    "tags": []
   },
   "outputs": [
    {
     "name": "stdout",
     "output_type": "stream",
     "text": [
      "Requirement already satisfied: tensorflow in c:\\users\\honey\\anaconda3\\lib\\site-packages (2.16.1)\n",
      "Requirement already satisfied: tensorflow-intel==2.16.1 in c:\\users\\honey\\anaconda3\\lib\\site-packages (from tensorflow) (2.16.1)\n",
      "Requirement already satisfied: absl-py>=1.0.0 in c:\\users\\honey\\anaconda3\\lib\\site-packages (from tensorflow-intel==2.16.1->tensorflow) (2.1.0)\n",
      "Requirement already satisfied: astunparse>=1.6.0 in c:\\users\\honey\\anaconda3\\lib\\site-packages (from tensorflow-intel==2.16.1->tensorflow) (1.6.3)\n",
      "Requirement already satisfied: flatbuffers>=23.5.26 in c:\\users\\honey\\anaconda3\\lib\\site-packages (from tensorflow-intel==2.16.1->tensorflow) (24.3.25)\n",
      "Requirement already satisfied: gast!=0.5.0,!=0.5.1,!=0.5.2,>=0.2.1 in c:\\users\\honey\\anaconda3\\lib\\site-packages (from tensorflow-intel==2.16.1->tensorflow) (0.5.4)\n",
      "Requirement already satisfied: google-pasta>=0.1.1 in c:\\users\\honey\\anaconda3\\lib\\site-packages (from tensorflow-intel==2.16.1->tensorflow) (0.2.0)\n",
      "Requirement already satisfied: h5py>=3.10.0 in c:\\users\\honey\\anaconda3\\lib\\site-packages (from tensorflow-intel==2.16.1->tensorflow) (3.11.0)\n",
      "Requirement already satisfied: libclang>=13.0.0 in c:\\users\\honey\\anaconda3\\lib\\site-packages (from tensorflow-intel==2.16.1->tensorflow) (18.1.1)\n",
      "Requirement already satisfied: ml-dtypes~=0.3.1 in c:\\users\\honey\\anaconda3\\lib\\site-packages (from tensorflow-intel==2.16.1->tensorflow) (0.3.2)\n",
      "Requirement already satisfied: opt-einsum>=2.3.2 in c:\\users\\honey\\anaconda3\\lib\\site-packages (from tensorflow-intel==2.16.1->tensorflow) (3.3.0)\n",
      "Requirement already satisfied: packaging in c:\\users\\honey\\anaconda3\\lib\\site-packages (from tensorflow-intel==2.16.1->tensorflow) (23.1)\n",
      "Requirement already satisfied: protobuf!=4.21.0,!=4.21.1,!=4.21.2,!=4.21.3,!=4.21.4,!=4.21.5,<5.0.0dev,>=3.20.3 in c:\\users\\honey\\anaconda3\\lib\\site-packages (from tensorflow-intel==2.16.1->tensorflow) (3.20.3)\n",
      "Requirement already satisfied: requests<3,>=2.21.0 in c:\\users\\honey\\anaconda3\\lib\\site-packages (from tensorflow-intel==2.16.1->tensorflow) (2.31.0)\n",
      "Requirement already satisfied: setuptools in c:\\users\\honey\\anaconda3\\lib\\site-packages (from tensorflow-intel==2.16.1->tensorflow) (68.2.2)\n",
      "Requirement already satisfied: six>=1.12.0 in c:\\users\\honey\\anaconda3\\lib\\site-packages (from tensorflow-intel==2.16.1->tensorflow) (1.16.0)\n",
      "Requirement already satisfied: termcolor>=1.1.0 in c:\\users\\honey\\anaconda3\\lib\\site-packages (from tensorflow-intel==2.16.1->tensorflow) (2.4.0)\n",
      "Requirement already satisfied: typing-extensions>=3.6.6 in c:\\users\\honey\\anaconda3\\lib\\site-packages (from tensorflow-intel==2.16.1->tensorflow) (4.9.0)\n",
      "Requirement already satisfied: wrapt>=1.11.0 in c:\\users\\honey\\anaconda3\\lib\\site-packages (from tensorflow-intel==2.16.1->tensorflow) (1.14.1)\n",
      "Requirement already satisfied: grpcio<2.0,>=1.24.3 in c:\\users\\honey\\anaconda3\\lib\\site-packages (from tensorflow-intel==2.16.1->tensorflow) (1.63.0)\n",
      "Requirement already satisfied: tensorboard<2.17,>=2.16 in c:\\users\\honey\\anaconda3\\lib\\site-packages (from tensorflow-intel==2.16.1->tensorflow) (2.16.2)\n",
      "Requirement already satisfied: keras>=3.0.0 in c:\\users\\honey\\anaconda3\\lib\\site-packages (from tensorflow-intel==2.16.1->tensorflow) (3.3.3)\n",
      "Requirement already satisfied: tensorflow-io-gcs-filesystem>=0.23.1 in c:\\users\\honey\\anaconda3\\lib\\site-packages (from tensorflow-intel==2.16.1->tensorflow) (0.31.0)\n",
      "Requirement already satisfied: numpy<2.0.0,>=1.23.5 in c:\\users\\honey\\anaconda3\\lib\\site-packages (from tensorflow-intel==2.16.1->tensorflow) (1.26.4)\n",
      "Requirement already satisfied: wheel<1.0,>=0.23.0 in c:\\users\\honey\\anaconda3\\lib\\site-packages (from astunparse>=1.6.0->tensorflow-intel==2.16.1->tensorflow) (0.41.2)\n",
      "Requirement already satisfied: rich in c:\\users\\honey\\anaconda3\\lib\\site-packages (from keras>=3.0.0->tensorflow-intel==2.16.1->tensorflow) (13.3.5)\n",
      "Requirement already satisfied: namex in c:\\users\\honey\\anaconda3\\lib\\site-packages (from keras>=3.0.0->tensorflow-intel==2.16.1->tensorflow) (0.0.8)\n",
      "Requirement already satisfied: optree in c:\\users\\honey\\anaconda3\\lib\\site-packages (from keras>=3.0.0->tensorflow-intel==2.16.1->tensorflow) (0.11.0)\n",
      "Requirement already satisfied: charset-normalizer<4,>=2 in c:\\users\\honey\\anaconda3\\lib\\site-packages (from requests<3,>=2.21.0->tensorflow-intel==2.16.1->tensorflow) (2.0.4)\n",
      "Requirement already satisfied: idna<4,>=2.5 in c:\\users\\honey\\anaconda3\\lib\\site-packages (from requests<3,>=2.21.0->tensorflow-intel==2.16.1->tensorflow) (3.4)\n",
      "Requirement already satisfied: urllib3<3,>=1.21.1 in c:\\users\\honey\\anaconda3\\lib\\site-packages (from requests<3,>=2.21.0->tensorflow-intel==2.16.1->tensorflow) (2.0.7)\n",
      "Requirement already satisfied: certifi>=2017.4.17 in c:\\users\\honey\\anaconda3\\lib\\site-packages (from requests<3,>=2.21.0->tensorflow-intel==2.16.1->tensorflow) (2024.2.2)\n",
      "Requirement already satisfied: markdown>=2.6.8 in c:\\users\\honey\\anaconda3\\lib\\site-packages (from tensorboard<2.17,>=2.16->tensorflow-intel==2.16.1->tensorflow) (3.4.1)\n",
      "Requirement already satisfied: tensorboard-data-server<0.8.0,>=0.7.0 in c:\\users\\honey\\anaconda3\\lib\\site-packages (from tensorboard<2.17,>=2.16->tensorflow-intel==2.16.1->tensorflow) (0.7.2)\n",
      "Requirement already satisfied: werkzeug>=1.0.1 in c:\\users\\honey\\anaconda3\\lib\\site-packages (from tensorboard<2.17,>=2.16->tensorflow-intel==2.16.1->tensorflow) (2.2.3)\n",
      "Requirement already satisfied: MarkupSafe>=2.1.1 in c:\\users\\honey\\anaconda3\\lib\\site-packages (from werkzeug>=1.0.1->tensorboard<2.17,>=2.16->tensorflow-intel==2.16.1->tensorflow) (2.1.3)\n",
      "Requirement already satisfied: markdown-it-py<3.0.0,>=2.2.0 in c:\\users\\honey\\anaconda3\\lib\\site-packages (from rich->keras>=3.0.0->tensorflow-intel==2.16.1->tensorflow) (2.2.0)\n",
      "Requirement already satisfied: pygments<3.0.0,>=2.13.0 in c:\\users\\honey\\anaconda3\\lib\\site-packages (from rich->keras>=3.0.0->tensorflow-intel==2.16.1->tensorflow) (2.15.1)\n",
      "Requirement already satisfied: mdurl~=0.1 in c:\\users\\honey\\anaconda3\\lib\\site-packages (from markdown-it-py<3.0.0,>=2.2.0->rich->keras>=3.0.0->tensorflow-intel==2.16.1->tensorflow) (0.1.0)\n",
      "Requirement already satisfied: opencv-python in c:\\users\\honey\\anaconda3\\lib\\site-packages (4.9.0.80)\n",
      "Requirement already satisfied: numpy>=1.21.2 in c:\\users\\honey\\anaconda3\\lib\\site-packages (from opencv-python) (1.26.4)\n"
     ]
    }
   ],
   "source": [
    "# import the necessary libraries (TensorFlow, sklearn NumPy, Pandas, and Matplotlib)\n",
    "\n",
    "\n",
    "!pip install tensorflow\n",
    "!pip install opencv-python\n",
    "\n",
    "import tensorflow as tf\n",
    "from tensorflow import keras\n",
    "import numpy as np\n",
    "import pandas as pd\n",
    "import matplotlib.pyplot as plt\n",
    "import os\n",
    "\n",
    "# Install opencv using \"pip install opencv-python\" in order to use cv2.\n",
    "import cv2\n"
   ]
  },
  {
   "cell_type": "markdown",
   "id": "635a681f",
   "metadata": {
    "deletable": false,
    "editable": false
   },
   "source": [
    "**Step0** This test is for checking whether all the required files are submitted. Once you submit all the required files to the autograder, you will be able to pass this step.\n",
    "\n",
    "**IMPORTANT:** Run this step to determine whether you have created all the required files correctly.\n",
    "\n",
    "_Points:_ 1"
   ]
  },
  {
   "cell_type": "code",
   "execution_count": 54,
   "id": "389c363a",
   "metadata": {
    "tags": []
   },
   "outputs": [],
   "source": [
    "# Don't change this cell code\n",
    "required_files = ['best_dnn_bn_model.keras','best_dnn_bn_perf_model.keras','best_dnn_selu_model.keras','best_mobilenet_model.keras','history1','history2','history1_perf','historymb']\n",
    "step0_files = True\n",
    "for file in required_files:\n",
    "    if os.path.exists(file) == False:\n",
    "        step0_files = False\n",
    "        print(\"One or more files are missing!\")\n",
    "        break\n",
    "\n",
    "# The following code is used by the autograder. Do not modify it.   \n",
    "step0_data = step0_files"
   ]
  },
  {
   "cell_type": "raw",
   "id": "51bd8fdb-6300-46fa-81a7-e1c5de1e6377",
   "metadata": {
    "deletable": false,
    "editable": false
   },
   "source": [
    "grader.check(\"step00\")"
   ]
  },
  {
   "cell_type": "markdown",
   "id": "ce5069b1",
   "metadata": {
    "tags": []
   },
   "source": [
    "### Data Preprocessing"
   ]
  },
  {
   "cell_type": "markdown",
   "id": "fc35b67c",
   "metadata": {
    "deletable": false,
    "editable": false
   },
   "source": [
    "**STEP1** Load the dataset (train and test) using `Pandas` from the CSV file.\n",
    "\n",
    "_Points:_ 1"
   ]
  },
  {
   "cell_type": "code",
   "execution_count": 55,
   "id": "d1538915",
   "metadata": {
    "tags": []
   },
   "outputs": [],
   "source": [
    "# Load the dataset using Pandas from the CSV file\n",
    "train_df = pd.read_csv('sign_mnist_train.csv')\n",
    "test_df = pd.read_csv('sign_mnist_test.csv')\n",
    "\n",
    "# The following code is used by the autograder. Do not modify it.\n",
    "step1_sol = test_df.shape"
   ]
  },
  {
   "cell_type": "raw",
   "id": "e64db119-ec76-4834-9ed8-74d213781695",
   "metadata": {
    "deletable": false,
    "editable": false
   },
   "source": [
    "grader.check(\"step01\")"
   ]
  },
  {
   "cell_type": "markdown",
   "id": "5f455b8d",
   "metadata": {
    "deletable": false,
    "editable": false
   },
   "source": [
    "**STEP2** Examine the data and fix any problems. It is important that you don't have gaps in the number of classes, therefore, check the classes which are not available and shift the labels in order to ensure 24 classes, starting from class 0. In addition, normalize the values of your images in a range of 0 and 1.\n",
    "\n",
    "_Points:_ 1"
   ]
  },
  {
   "cell_type": "code",
   "execution_count": 56,
   "id": "d390567e",
   "metadata": {
    "tags": []
   },
   "outputs": [],
   "source": [
    "# Separate labels and pixel values in training and testing sets\n",
    "\n",
    "# Define the number of classes\n",
    "num_classes = 24\n",
    "\n",
    "# Separate labels and pixel values in training and testing sets\n",
    "train_labels = train_df['label'].values\n",
    "train_images = train_df.drop('label', axis=1).values\n",
    "\n",
    "test_labels = test_df['label'].values\n",
    "test_images = test_df.drop('label', axis=1).values\n",
    "\n",
    "# Shift labels to ensure 24 classes starting from class 0\n",
    "train_labels -= min(train_labels)\n",
    "test_labels -= min(test_labels)\n",
    "\n",
    "# Ensure correct label encoding\n",
    "train_labels = train_labels % num_classes\n",
    "test_labels = test_labels % num_classes\n",
    "\n",
    "# Print min and max shifted train labels for debugging\n",
    "min_shifted_train_label = min(train_labels)\n",
    "max_shifted_train_label = max(train_labels)\n",
    "#print(\"Min shifted train label:\", min_shifted_train_label)\n",
    "#print(\"Max shifted train label:\", max_shifted_train_label)\n",
    "\n",
    "train_images = train_images / 255.0\n",
    "test_images = test_images / 255.0\n",
    "\n",
    "#train_labels = ...\n",
    "#test_labels = ...\n",
    "#train_images = ...\n",
    "#test_images = ...\n",
    "\n",
    "# The following code is used by the autograder. Do not modify it.\n",
    "step2_sol = {\n",
    "    \"max_label_train\": max(train_labels),\n",
    "    \"min_label_train\": min(train_labels),\n",
    "    \"max_pixel_value_train\": max(train_images.ravel()),\n",
    "    \"min_pixel_value_train\": min(train_images.ravel()),\n",
    "    \"max_label_test\": max(test_labels),\n",
    "    \"min_label_test\": min(test_labels),\n",
    "    \"max_pixel_value_test\": max(test_images.ravel()),\n",
    "    \"min_pixel_value_test\": min(test_images.ravel())\n",
    "}"
   ]
  },
  {
   "cell_type": "raw",
   "id": "28e6ed83-eeec-4308-af55-921a6572c28b",
   "metadata": {
    "deletable": false,
    "editable": false
   },
   "source": [
    "grader.check(\"step02\")"
   ]
  },
  {
   "cell_type": "code",
   "execution_count": 57,
   "id": "55662822-96be-4433-8226-95a8ea8e1089",
   "metadata": {},
   "outputs": [
    {
     "name": "stdout",
     "output_type": "stream",
     "text": [
      "{'max_label_train': 23, 'min_label_train': 0, 'max_pixel_value_train': 1.0, 'min_pixel_value_train': 0.0, 'max_label_test': 23, 'min_label_test': 0, 'max_pixel_value_test': 1.0, 'min_pixel_value_test': 0.0}\n"
     ]
    }
   ],
   "source": [
    "print(step2_sol)"
   ]
  },
  {
   "cell_type": "markdown",
   "id": "3e153719",
   "metadata": {
    "deletable": false,
    "editable": false
   },
   "source": [
    "**STEP3** Convert Labels to One-Hot Encoding both train and test.\n",
    "\n",
    "_Points:_ 1"
   ]
  },
  {
   "cell_type": "code",
   "execution_count": 58,
   "id": "6be3bda2",
   "metadata": {
    "tags": []
   },
   "outputs": [],
   "source": [
    "# Convert labels to one-hot encoding\n",
    "\n",
    "from tensorflow.keras.utils import to_categorical\n",
    "\n",
    "# Convert labels to one-hot encoding\n",
    "train_labels_encoded = to_categorical(train_labels, num_classes=24)\n",
    "test_labels_encoded = to_categorical(test_labels, num_classes=24)\n",
    "\n",
    "# The following code is used by the autograder. Do not modify it.\n",
    "step3_sol = {\n",
    "    \"train_labels_shape\": train_labels_encoded.shape,\n",
    "    \"test_labels_shape\": test_labels_encoded.shape,\n",
    "    \"sample_train_label\": train_labels_encoded[0],\n",
    "    \"sample_test_label\": test_labels_encoded[0]\n",
    "}"
   ]
  },
  {
   "cell_type": "raw",
   "id": "6b284a53-ebf6-433f-a027-b71f334fdb19",
   "metadata": {
    "deletable": false,
    "editable": false
   },
   "source": [
    "grader.check(\"step03\")"
   ]
  },
  {
   "cell_type": "markdown",
   "id": "b5c368ad",
   "metadata": {
    "deletable": false,
    "editable": false
   },
   "source": [
    "**STEP4** Plot one sample image for each letter in the dataset given in the training set. To solve this step you should use the function `imshow` to diplay your images in a similar to the image below.\n",
    "\n",
    "<center><img src=\"example_letters.jpg\" width=400 height=300/></center>\n",
    "\n",
    "\n",
    "\n",
    "\n",
    "\n",
    "_Points:_ 0"
   ]
  },
  {
   "cell_type": "code",
   "execution_count": 59,
   "id": "28128d68",
   "metadata": {
    "tags": []
   },
   "outputs": [
    {
     "name": "stdout",
     "output_type": "stream",
     "text": [
      "Label: 0, Indices: [   26    46    50 ... 27418 27422 27442]\n",
      "Label: 1, Indices: [   29    30    95 ... 27411 27417 27435]\n",
      "Label: 2, Indices: [    2     3    32 ... 27381 27386 27432]\n",
      "Label: 3, Indices: [    0     8     9 ... 27336 27355 27362]\n",
      "Label: 4, Indices: [   44    60    84    98   113   141   161   170   177   272   319   398\n",
      "   437   451   488   516   534   537   539   601   613   628   631   632\n",
      "   634   638   707   717   740   744   824   845   852   872   873   944\n",
      "   975  1004  1027  1050  1092  1112  1116  1128  1182  1183  1185  1189\n",
      "  1199  1244  1276  1346  1350  1352  1380  1391  1444  1460  1464  1468\n",
      "  1543  1575  1638  1639  1649  1666  1668  1692  1735  1799  1805  1808\n",
      "  1898  1963  1974  2024  2086  2153  2221  2256  2261  2271  2278  2281\n",
      "  2294  2312  2317  2389  2419  2422  2436  2461  2463  2550  2561  2562\n",
      "  2606  2641  2654  2663  2676  2678  2697  2717  2770  2772  2814  2819\n",
      "  2845  2866  2867  2879  2896  2910  2938  2953  2972  2982  2998  3044\n",
      "  3045  3093  3153  3195  3219  3248  3269  3316  3361  3365  3397  3424\n",
      "  3429  3454  3484  3653  3655  3709  3712  3728  3750  3821  3877  3884\n",
      "  3896  3907  3915  3980  3990  4016  4023  4156  4269  4285  4335  4347\n",
      "  4397  4408  4410  4484  4531  4566  4570  4587  4659  4681  4697  4736\n",
      "  4746  4756  4761  4818  4838  4849  4876  4917  5031  5041  5058  5062\n",
      "  5106  5120  5122  5125  5227  5248  5304  5314  5317  5373  5388  5408\n",
      "  5440  5552  5595  5633  5657  5659  5674  5677  5689  5695  5710  5738\n",
      "  5739  5759  5773  5782  5829  5833  5907  5962  6008  6039  6055  6071\n",
      "  6083  6110  6150  6252  6302  6309  6331  6339  6365  6409  6446  6452\n",
      "  6510  6521  6552  6561  6589  6633  6644  6645  6675  6689  6695  6772\n",
      "  6787  6803  6865  6951  6962  6976  6995  6997  7039  7048  7054  7060\n",
      "  7095  7116  7190  7225  7239  7290  7314  7339  7374  7396  7402  7427\n",
      "  7430  7464  7481  7487  7520  7529  7606  7680  7702  7732  7787  7829\n",
      "  7835  7883  7929  7961  7968  8025  8040  8052  8053  8064  8128  8143\n",
      "  8195  8200  8266  8327  8352  8405  8429  8432  8453  8462  8514  8528\n",
      "  8571  8593  8610  8650  8659  8691  8717  8723  8730  8791  8862  8873\n",
      "  8898  8961  8980  8992  8996  9113  9121  9136  9171  9172  9190  9225\n",
      "  9259  9282  9298  9388  9443  9448  9452  9458  9550  9564  9616  9724\n",
      "  9760  9764  9778  9816  9829  9832  9883  9898  9903  9905  9917  9967\n",
      " 10028 10033 10062 10073 10084 10094 10096 10147 10186 10194 10210 10212\n",
      " 10217 10218 10232 10240 10344 10371 10380 10410 10436 10450 10515 10532\n",
      " 10564 10576 10578 10594 10624 10635 10717 10728 10745 10754 10773 10782\n",
      " 10789 10807 10830 10853 10878 10904 10910 10911 10921 10923 10937 10975\n",
      " 11001 11010 11011 11069 11073 11079 11104 11123 11155 11169 11183 11186\n",
      " 11189 11205 11207 11220 11273 11277 11295 11303 11363 11393 11419 11441\n",
      " 11450 11454 11464 11485 11513 11533 11556 11565 11574 11583 11676 11677\n",
      " 11687 11693 11706 11730 11801 11832 11865 11867 11928 11990 12012 12026\n",
      " 12038 12062 12068 12071 12082 12086 12116 12150 12247 12283 12290 12295\n",
      " 12344 12368 12430 12517 12523 12531 12536 12565 12701 12707 12737 12797\n",
      " 12800 12802 12828 12844 12857 12871 12878 12884 12893 12901 12949 12992\n",
      " 13006 13017 13019 13108 13115 13119 13124 13138 13176 13401 13428 13430\n",
      " 13502 13513 13546 13556 13781 13915 13921 13937 13959 13971 13988 14041\n",
      " 14075 14079 14102 14103 14118 14158 14202 14226 14239 14257 14260 14306\n",
      " 14341 14350 14395 14432 14447 14467 14468 14501 14509 14549 14556 14586\n",
      " 14596 14607 14617 14657 14664 14674 14702 14703 14709 14722 14796 14812\n",
      " 14828 14863 14898 14934 14957 14986 14999 15035 15062 15067 15104 15190\n",
      " 15197 15210 15227 15241 15292 15347 15428 15447 15457 15482 15494 15570\n",
      " 15701 15756 15771 15773 15780 15850 15864 15886 15930 15970 15974 15987\n",
      " 16010 16011 16051 16065 16069 16109 16136 16151 16196 16200 16202 16210\n",
      " 16276 16360 16361 16395 16404 16412 16462 16469 16476 16497 16515 16573\n",
      " 16589 16612 16628 16633 16666 16673 16675 16717 16738 16742 16747 16752\n",
      " 16767 16776 16795 16804 16820 16827 16849 16874 16962 16972 16983 17065\n",
      " 17136 17217 17231 17262 17269 17289 17321 17393 17481 17484 17506 17558\n",
      " 17560 17605 17607 17681 17692 17711 17723 17731 17783 17797 17907 17922\n",
      " 17940 17974 18000 18002 18043 18055 18158 18171 18247 18273 18303 18307\n",
      " 18310 18333 18356 18383 18384 18393 18412 18434 18496 18520 18524 18552\n",
      " 18566 18609 18628 18634 18677 18701 18731 18800 18804 18887 18893 18998\n",
      " 19025 19083 19087 19101 19139 19143 19155 19186 19201 19214 19226 19239\n",
      " 19245 19312 19319 19340 19365 19368 19384 19394 19463 19485 19517 19552\n",
      " 19567 19637 19702 19727 19796 19845 19887 19906 19948 19970 20067 20073\n",
      " 20137 20145 20151 20184 20199 20210 20216 20217 20302 20368 20421 20496\n",
      " 20498 20507 20562 20605 20619 20630 20773 20799 20802 20803 20852 20861\n",
      " 20887 20904 20939 20974 20976 21050 21096 21104 21151 21159 21224 21259\n",
      " 21299 21320 21330 21344 21376 21479 21497 21523 21529 21643 21687 21688\n",
      " 21744 21795 21829 21856 21861 21883 21922 21937 22012 22073 22079 22087\n",
      " 22160 22199 22226 22259 22316 22332 22342 22372 22408 22470 22511 22547\n",
      " 22570 22595 22653 22658 22687 22731 22756 22759 22817 22825 22855 22857\n",
      " 22871 22900 22906 22935 22952 22966 22977 23019 23094 23096 23107 23124\n",
      " 23166 23174 23179 23210 23248 23256 23295 23307 23330 23332 23354 23398\n",
      " 23409 23418 23483 23570 23575 23597 23617 23690 23734 23799 23851 23897\n",
      " 23911 23925 23928 24038 24109 24118 24144 24160 24164 24190 24195 24216\n",
      " 24220 24227 24237 24251 24277 24466 24486 24491 24569 24583 24620 24636\n",
      " 24645 24651 24665 24681 24738 24780 24784 24788 24849 24860 24889 24905\n",
      " 24944 24994 24998 25003 25051 25088 25127 25163 25169 25220 25240 25248\n",
      " 25282 25295 25320 25376 25380 25438 25458 25501 25544 25593 25700 25719\n",
      " 25740 25772 25786 25788 25807 25844 25855 25899 25913 25938 25945 25946\n",
      " 26041 26051 26064 26107 26144 26162 26223 26228 26306 26315 26323 26331\n",
      " 26366 26398 26413 26419 26457 26502 26545 26596 26625 26631 26644 26683\n",
      " 26734 26739 26807 26834 26868 26873 26911 26947 26995 27039 27040 27102\n",
      " 27136 27153 27184 27218 27268 27293 27364 27404 27427]\n",
      "Label: 5, Indices: [   48    64   107 ... 27366 27429 27440]\n",
      "Label: 6, Indices: [    1    33    52 ... 27361 27370 27391]\n",
      "Label: 7, Indices: [   49    57    68 ... 27363 27400 27413]\n",
      "Label: 8, Indices: [    6    71   144 ... 27183 27249 27406]\n",
      "Label: 9, Indices: []\n",
      "Label: 10, Indices: [   11    45    63 ... 27345 27360 27384]\n",
      "Label: 11, Indices: [   40    51    73 ... 27397 27439 27447]\n",
      "Label: 12, Indices: [   31    35    70 ... 27430 27434 27448]\n",
      "Label: 13, Indices: [    4    17    18 ... 27347 27385 27450]\n",
      "Label: 14, Indices: [   61    75    81 ... 27335 27415 27445]\n",
      "Label: 15, Indices: [   41    62    72 ... 27300 27305 27403]\n",
      "Label: 16, Indices: [    5    12    15 ... 27324 27401 27437]\n",
      "Label: 17, Indices: [   16    94   157 ... 27421 27428 27453]\n",
      "Label: 18, Indices: [   10    20    27 ... 27441 27444 27452]\n",
      "Label: 19, Indices: [   19    47    55 ... 27431 27436 27446]\n",
      "Label: 20, Indices: [   14    42   120 ... 27368 27414 27449]\n",
      "Label: 21, Indices: [   21    53    56 ... 27426 27438 27443]\n",
      "Label: 22, Indices: [    7    13    28 ... 27410 27423 27433]\n",
      "Label: 23, Indices: [   23    25    36 ... 27395 27451 27454]\n"
     ]
    },
    {
     "data": {
      "image/png": "[encoded data removed]",
      "text/plain": [
       "<Figure size 1500x1000 with 24 Axes>"
      ]
     },
     "metadata": {},
     "output_type": "display_data"
    }
   ],
   "source": [
    "# Get one sample image for each label\n",
    "\n",
    "import matplotlib.pyplot as plt\n",
    "\n",
    "# Initialize a dictionary to store one sample image for each label\n",
    "sample_images = {}\n",
    "\n",
    "# Iterate through the training dataset\n",
    "for label in range(24):  # Assuming there are 24 unique labels\n",
    "    # Find indices of all occurrences of the current label\n",
    "    indices = np.where(train_labels == label)[0]\n",
    "    print(f\"Label: {label}, Indices: {indices}\")\n",
    "    # If there are no occurrences of the current label, skip\n",
    "    if len(indices) == 0:\n",
    "        continue\n",
    "    # Take the first occurrence of the label\n",
    "    index = indices[0]\n",
    "    # Extract the corresponding image\n",
    "    sample_image = train_images[index]\n",
    "    # Store the sample image for the current label\n",
    "    sample_images[label] = sample_image\n",
    "\n",
    "# Plot the sample images\n",
    "fig, axes = plt.subplots(4, 6, figsize=(15, 10))\n",
    "axes = axes.flatten()\n",
    "for i, (label, image) in enumerate(sample_images.items()):\n",
    "    # Reshape the image to its original dimensions\n",
    "    image = image.reshape(28, 28)\n",
    "    axes[i].imshow(image, cmap='gray')\n",
    "    axes[i].set_title(f'Label: {label}')\n",
    "    axes[i].axis('off')\n",
    "plt.tight_layout()\n",
    "plt.show()\n",
    "\n",
    "# Plot the sample images"
   ]
  },
  {
   "cell_type": "raw",
   "id": "5734168d-5652-4e1d-be0a-d6b6970cf2ed",
   "metadata": {
    "deletable": false,
    "editable": false
   },
   "source": [
    "grader.check(\"step04\")"
   ]
  },
  {
   "cell_type": "markdown",
   "id": "afc18e0e",
   "metadata": {},
   "source": [
    "## Create Neural Network Architectures\n",
    "\n",
    "In this part you should create two different models (model1 and model2) with different architectures."
   ]
  },
  {
   "cell_type": "markdown",
   "id": "6809ebf2",
   "metadata": {
    "deletable": false,
    "editable": false
   },
   "source": [
    "**STEP5** \n",
    "Create one sequential model in `TensorFlow` with 20 Dense layers with 100 neurons each one. Consider the specific modifications that you need to do in order to work with your specific input and those to get the required output. \n",
    "\n",
    "* This model uses Batch Normalization after each Dense layer and uses He initialization for all of them. Apply Swish activation following each Batch Normalization.\n",
    "* The input layer should be able to accept data of shape (784,), which corresponds to the flattened image data. The output layer should produce 24 outputs to correspond to each class.\n",
    "\n",
    "\n",
    "_Points:_ 5"
   ]
  },
  {
   "cell_type": "code",
   "execution_count": 60,
   "id": "cc0df7dd-4883-4b8a-ab2e-70ddbbdf19d6",
   "metadata": {
    "tags": []
   },
   "outputs": [
    {
     "name": "stderr",
     "output_type": "stream",
     "text": [
      "C:\\Users\\honey\\anaconda3\\Lib\\site-packages\\keras\\src\\layers\\core\\input_layer.py:25: UserWarning: Argument `input_shape` is deprecated. Use `shape` instead.\n",
      "  warnings.warn(\n"
     ]
    }
   ],
   "source": [
    "import tensorflow as tf\n",
    "from tensorflow.keras.layers import Dense, BatchNormalization, Activation\n",
    "from tensorflow.keras.activations import swish\n",
    "from tensorflow.keras.layers import InputLayer\n",
    "\n",
    "# Model 1: with Batch Normalization\n",
    "model1 = tf.keras.Sequential()\n",
    "\n",
    "# Add input layer\n",
    "model1.add(InputLayer(input_shape=(784,)))\n",
    "\n",
    "# Add Dense layers with Batch Normalization and Swish activation\n",
    "for _ in range(20):\n",
    "    model1.add(Dense(100, kernel_initializer='he_normal'))\n",
    "    model1.add(BatchNormalization())\n",
    "    model1.add(Activation(swish))\n",
    "\n",
    "# Add output layer\n",
    "model1.add(Dense(24, activation='softmax'))\n",
    "\n",
    "# The following code is used by the autograder. Do not modify it.\n",
    "step5_sol = {\n",
    "    \"total_layers\": len(model1.layers),\n",
    "    \"output_activation\": model1.layers[-1].activation.__name__,\n",
    "    \"first_layer_input_shape\": model1.layers[0].input.shape,\n",
    "    \"last_layer_output_units\": model1.layers[-1].units,\n",
    "    \"batch_norm_count\": sum([1 for layer in model1.layers if isinstance(layer, BatchNormalization)]),\n",
    "    \"swish_activation_count\": sum([1 for layer in model1.layers if hasattr(layer, 'activation') and layer.activation == swish]),\n",
    "}"
   ]
  },
  {
   "cell_type": "raw",
   "id": "20978bad-6613-46bd-9925-c3835663c1b8",
   "metadata": {
    "deletable": false,
    "editable": false
   },
   "source": [
    "grader.check(\"step05\")"
   ]
  },
  {
   "cell_type": "markdown",
   "id": "ed321f6a",
   "metadata": {
    "deletable": false,
    "editable": false
   },
   "source": [
    "**STEP6** \n",
    "Create a second sequential model in `TensorFlow` . This model should incorporate specific features to promote self-normalization and include regularization:\n",
    "\n",
    "* Layers and Neurons: Construct the model with 20 Dense layers, each containing 100 neurons.\n",
    "* Activation and Initialization:\n",
    "  * Use SELU (Scaled Exponential Linear Unit) activation for each Dense layer to ensure self-normalization.\n",
    "  * Initialize weights using the LeCun normal initializer in all Dense layers.\n",
    "* Regularization:\n",
    "  * Integrate Dropout with a rate of 0.1 after every second Dense layer starting from the second Dense layer to enhance model regularization without breaking self-normalization.\n",
    "* Input and Output:\n",
    "  * The input layer should accept flattened images with a dimension of 784 (28x28 images flattened).\n",
    "  * The output layer should consist of 24 neurons with softmax activation to handle multi-class classification.\n",
    "\n",
    "_Points:_ 5"
   ]
  },
  {
   "cell_type": "code",
   "execution_count": 61,
   "id": "e8fe3f51-f643-4cb8-916e-d136cfb88bbf",
   "metadata": {
    "tags": []
   },
   "outputs": [
    {
     "name": "stderr",
     "output_type": "stream",
     "text": [
      "C:\\Users\\honey\\anaconda3\\Lib\\site-packages\\keras\\src\\layers\\core\\dense.py:87: UserWarning: Do not pass an `input_shape`/`input_dim` argument to a layer. When using Sequential models, prefer using an `Input(shape)` object as the first layer in the model instead.\n",
      "  super().__init__(activity_regularizer=activity_regularizer, **kwargs)\n"
     ]
    }
   ],
   "source": [
    "# Model 2: with SELU and self-normalization\n",
    "\n",
    "from tensorflow.keras.layers import Dense, Dropout\n",
    "\n",
    "model2 = tf.keras.Sequential()\n",
    "\n",
    "# Add input layer\n",
    "model2.add(Dense(100, input_shape=(784,), activation='selu', kernel_initializer='lecun_normal'))\n",
    "\n",
    "# Add Dense layers with SELU activation and LeCun normal initialization\n",
    "selu_count = 1  # Start with 1 to include the input layer\n",
    "dropout_count = 0\n",
    "for i in range(2, 21):  # Loop through 20 Dense layers\n",
    "    # Add Dense layer\n",
    "    model2.add(Dense(100, activation='selu', kernel_initializer='lecun_normal'))\n",
    "    selu_count += 1  # Count SELU layers\n",
    "    # Add Dropout after every second Dense layer starting from the second Dense layer\n",
    "    if i % 2 == 0 and dropout_count < 10:  # Applying dropout starting from index 2 (second Dense layer)\n",
    "        model2.add(Dropout(0.1))\n",
    "        dropout_count += 1\n",
    "\n",
    "# Add output layer\n",
    "model2.add(Dense(24, activation='softmax'))\n",
    "\n",
    "\n",
    "# The following code is used by the autograder. Do not modify it.\n",
    "step6_sol = {\n",
    "    \"total_layers\": len(model2.layers),\n",
    "    \"dropout_count\": sum([1 for layer in model2.layers if isinstance(layer, Dropout)]),\n",
    "    \"selu_count\": sum([1 for layer in model2.layers if hasattr(layer, 'activation') and layer.activation.__name__ == 'selu']),\n",
    "    \"first_layer_config\": model2.layers[0].get_config(),\n",
    "    \"output_layer_activation\": model2.layers[-1].activation.__name__\n",
    "}"
   ]
  },
  {
   "cell_type": "raw",
   "id": "27b1e826-ab57-41df-baf3-c8e8a10c3709",
   "metadata": {
    "deletable": false,
    "editable": false
   },
   "source": [
    "grader.check(\"step06\")"
   ]
  },
  {
   "cell_type": "code",
   "execution_count": 62,
   "id": "fa14ee53-5233-4976-8cc7-19c8982dead7",
   "metadata": {},
   "outputs": [
    {
     "name": "stdout",
     "output_type": "stream",
     "text": [
      "{'total_layers': 31, 'dropout_count': 10, 'selu_count': 20, 'first_layer_config': {'name': 'dense_120', 'trainable': True, 'dtype': 'float32', 'units': 100, 'activation': 'selu', 'use_bias': True, 'kernel_initializer': {'module': 'keras.initializers', 'class_name': 'LecunNormal', 'config': {'seed': None}, 'registered_name': None}, 'bias_initializer': {'module': 'keras.initializers', 'class_name': 'Zeros', 'config': {}, 'registered_name': None}, 'kernel_regularizer': None, 'bias_regularizer': None, 'kernel_constraint': None, 'bias_constraint': None}, 'output_layer_activation': 'softmax'}\n"
     ]
    }
   ],
   "source": [
    "print(step6_sol)\n"
   ]
  },
  {
   "cell_type": "markdown",
   "id": "f3173843",
   "metadata": {},
   "source": [
    "## Compile the Models"
   ]
  },
  {
   "cell_type": "markdown",
   "id": "f94407f0",
   "metadata": {
    "deletable": false,
    "editable": false
   },
   "source": [
    "**STEP7** \n",
    "Compile the both previous models using **Nadam** optimization. Also:\n",
    "\n",
    "* Set the loss function to categorical cross-entropy. \n",
    "* Set the metric to accuracy.\n",
    "\n",
    "_Points:_ 2"
   ]
  },
  {
   "cell_type": "code",
   "execution_count": 63,
   "id": "88c2176c",
   "metadata": {
    "tags": []
   },
   "outputs": [],
   "source": [
    "# Compile first model\n",
    "model1.compile(optimizer='Nadam',\n",
    "               loss='categorical_crossentropy',\n",
    "               metrics=['accuracy'])\n",
    "\n",
    "# Compile second model\n",
    "model2.compile(optimizer='Nadam',\n",
    "               loss='categorical_crossentropy',\n",
    "               metrics=['accuracy'])\n",
    "                        \n",
    "# The following code is used by the autograder. Do not modify it.\n",
    "step7_sol = {\n",
    "    \"model1_config\": {\n",
    "        \"optimizer\": str(model1.optimizer.__class__.__name__),\n",
    "        \"loss\": model1.loss        \n",
    "    },\n",
    "    \"model2_config\": {\n",
    "        \"optimizer\": str(model2.optimizer.__class__.__name__),\n",
    "        \"loss\": model2.loss,        \n",
    "    }\n",
    "}"
   ]
  },
  {
   "cell_type": "raw",
   "id": "ce05a077-d493-4ae4-a55b-275a5dc87793",
   "metadata": {
    "deletable": false,
    "editable": false
   },
   "source": [
    "grader.check(\"step07\")"
   ]
  },
  {
   "cell_type": "markdown",
   "id": "ad11a550",
   "metadata": {
    "tags": []
   },
   "source": [
    "## Model Training"
   ]
  },
  {
   "cell_type": "markdown",
   "id": "3709e2ac",
   "metadata": {
    "deletable": false,
    "editable": false
   },
   "source": [
    "**STEP8** One of these models work preferably with data, which follow a normal distribution. Generate **train_images_scaled** and **test_images_scaled** using a `Sklearn` function that allow you to convert data to a normal distribution with mean 0 and variance equal 1. \n",
    "\n",
    "_Points:_ 2"
   ]
  },
  {
   "cell_type": "code",
   "execution_count": 64,
   "id": "7062385a",
   "metadata": {
    "tags": []
   },
   "outputs": [],
   "source": [
    "from sklearn.preprocessing import StandardScaler\n",
    "\n",
    "# initalise scaler\n",
    "scaler = StandardScaler()\n",
    "\n",
    "# Reshape the images for next step\n",
    "train_images_reshaped = train_images.reshape(-1, 784)\n",
    "test_images_reshaped = test_images.reshape(-1, 784)\n",
    "\n",
    "train_images_scaled = scaler.fit_transform(train_images)\n",
    "test_images_scaled = scaler.fit_transform(test_images)\n",
    "\n",
    "# The following code is used by the autograder. Do not modify it.\n",
    "step8_sol = (np.mean(train_images_scaled),np.mean(test_images_scaled),np.std(train_images_scaled),np.std(test_images_scaled))"
   ]
  },
  {
   "cell_type": "raw",
   "id": "60c26992-cd9d-40b9-a5fe-7f52d9832020",
   "metadata": {
    "deletable": false,
    "editable": false
   },
   "source": [
    "grader.check(\"step08\")"
   ]
  },
  {
   "cell_type": "markdown",
   "id": "61bce9ee",
   "metadata": {
    "deletable": false,
    "editable": false
   },
   "source": [
    "**STEP9** Train the two models on the training dataset using early stopping. In order to save the results given by your training for your models, create checkpoints saving the best model in each case using the function `ModelCheckpoint`. Note that one of the models use the scaled data obtained in **STEP8**. Meanwhile, the other model does not. Figure out which is the proper input data for each model.\n",
    "\n",
    "* Limit the number of epochs to 100. Set the batch size to or greater than 32.\n",
    "\n",
    "**IMPORTANT:** Comment out the code to train/fit the two models. Keep the code given to save the models.\n",
    "\n",
    "_Points:_ 3"
   ]
  },
  {
   "cell_type": "code",
   "execution_count": 65,
   "id": "305e2814-3763-45a5-afff-8da2f4511ea7",
   "metadata": {
    "scrolled": true,
    "tags": []
   },
   "outputs": [
    {
     "name": "stderr",
     "output_type": "stream",
     "text": [
      "C:\\Users\\honey\\anaconda3\\Lib\\site-packages\\keras\\src\\layers\\core\\input_layer.py:25: UserWarning: Argument `input_shape` is deprecated. Use `shape` instead.\n",
      "  warnings.warn(\n"
     ]
    }
   ],
   "source": [
    "import pickle\n",
    "from tensorflow.keras.callbacks import EarlyStopping, ModelCheckpoint\n",
    "from tensorflow.keras.utils import to_categorical\n",
    "\n",
    "train_labels_one_hot = to_categorical(train_labels, num_classes=24)\n",
    "test_labels_one_hot = to_categorical(test_labels, num_classes=24)\n",
    "\n",
    "# We go to set a seed to get the same results every run\n",
    "np.random.seed(42)\n",
    "tf.random.set_seed(42)\n",
    "\n",
    "# Set up early stopping\n",
    "early_stopping = EarlyStopping(monitor='val_loss', patience=5, restore_best_weights=True)\n",
    "\n",
    "# Model 1: with Batch Normalization\n",
    "model1 = tf.keras.Sequential()\n",
    "\n",
    "# Add input layer\n",
    "model1.add(InputLayer(input_shape=(784,)))\n",
    "\n",
    "# Add Dense layers with Batch Normalization and Swish activation\n",
    "for _ in range(20):\n",
    "    model1.add(Dense(100, kernel_initializer='he_normal'))\n",
    "    model1.add(BatchNormalization())\n",
    "    model1.add(Activation('swish'))\n",
    "\n",
    "# Configure the output layer\n",
    "model1.add(Dense(24, activation='softmax'))\n",
    "model1.compile(optimizer='adam', loss='categorical_crossentropy', metrics=['accuracy'])\n",
    "\n",
    "# Define model checkpoint callback\n",
    "model1_checkpoint_cb = ModelCheckpoint(\"best_dnn_bn_model.keras\", save_best_only=True)\n",
    "\n",
    "# Train model 1\n",
    "#history1 = model1.fit(train_images_scaled, train_labels_one_hot, epochs=100, batch_size=32,\n",
    "#                      validation_data=(test_images_scaled, test_labels_one_hot),\n",
    "#                      callbacks=[early_stopping, model1_checkpoint_cb])\n",
    "\n",
    " \n",
    "# Model 2: with SELU activation and Batch Normalization\n",
    "model2 = tf.keras.Sequential()\n",
    "\n",
    "# Add input layer\n",
    "model2.add(InputLayer(input_shape=(784,)))\n",
    "\n",
    "# Add Dense layers with SELU activation and Batch Normalization\n",
    "for _ in range(20):\n",
    "    model2.add(Dense(100, kernel_initializer='lecun_normal'))\n",
    "    model2.add(BatchNormalization())\n",
    "    model2.add(Activation('selu'))\n",
    "\n",
    "# Configure the output layer\n",
    "model2.add(Dense(24, activation='softmax'))\n",
    "\n",
    "# Compile model 2\n",
    "model2.compile(optimizer='adam', loss='categorical_crossentropy', metrics=['accuracy'])\n",
    "\n",
    "# Define model checkpoint callback\n",
    "model2_checkpoint_cb = ModelCheckpoint(\"best_dnn_selu_model.keras\", save_best_only=True)\n",
    "\n",
    "#Train model 2\n",
    "#history2 = model2.fit(train_images_scaled, train_labels_one_hot, epochs=100, batch_size=32,\n",
    "#                      validation_data=(test_images_scaled, test_labels_one_hot),\n",
    "#                      callbacks=[early_stopping, model2_checkpoint_cb])\n",
    "\n",
    "# The following code will save your history - don't change it.\n",
    "if 'history1' in globals():  \n",
    "    with open('./history1', 'wb') as file_pi:\n",
    "        pickle.dump(history1.history, file_pi)\n",
    "if 'history2' in globals():  \n",
    "    with open('./history2', 'wb') as file_pi:\n",
    "        pickle.dump(history2.history, file_pi)\n",
    "####################################\n",
    "\n",
    "# The following code is used by the autograder. Do not modify it.\n",
    "step9_sol = (model1_checkpoint_cb, model2_checkpoint_cb, early_stopping)"
   ]
  },
  {
   "cell_type": "raw",
   "id": "24c47028-ebc2-4a5b-ba3f-3fa52d35a07f",
   "metadata": {
    "deletable": false,
    "editable": false
   },
   "source": [
    "grader.check(\"step09\")"
   ]
  },
  {
   "cell_type": "markdown",
   "id": "56bf9ee5",
   "metadata": {
    "deletable": false,
    "editable": false
   },
   "source": [
    "**STEP10** After training, you must now evaluate the performance of the two previously saved models using the test datasets. Each model has different data requirements:\n",
    "* Model 1 should be evaluated using the original test dataset.\n",
    "* Model 2 should be evaluated using the scaled test dataset.\n",
    "Load each model from their saved states, then perform the evaluation. To pass this step, both models must achieve a test accuracy greater than 50%.\n",
    "\n",
    "_Points:_ 2"
   ]
  },
  {
   "cell_type": "code",
   "execution_count": 66,
   "id": "47883fd9",
   "metadata": {
    "tags": []
   },
   "outputs": [
    {
     "name": "stdout",
     "output_type": "stream",
     "text": [
      "\u001b[1m225/225\u001b[0m \u001b[32m━━━━━━━━━━━━━━━━━━━━\u001b[0m\u001b[37m\u001b[0m \u001b[1m10s\u001b[0m 11ms/step - accuracy: 0.7700 - loss: 0.9455\n",
      "\u001b[1m225/225\u001b[0m \u001b[32m━━━━━━━━━━━━━━━━━━━━\u001b[0m\u001b[37m\u001b[0m \u001b[1m6s\u001b[0m 7ms/step - accuracy: 0.7307 - loss: 1.2373\n",
      "Model 1| Test accuracy: 0.7794, Test loss: 0.8946\n",
      "Model 2| Test accuracy: 0.7355, Test loss: 1.1651\n"
     ]
    }
   ],
   "source": [
    "# Do not change the following 4 lines of code.\n",
    "# define the file name for the saved model\n",
    "model1_name = \"best_dnn_bn_model.keras\"\n",
    "# load the model\n",
    "model1 = keras.models.load_model(model1_name)\n",
    "# define the file name for the saved model\n",
    "model2_name = \"best_dnn_selu_model.keras\"\n",
    "# load the model\n",
    "model2 = keras.models.load_model(model2_name)\n",
    "\n",
    "# Ensure the models are compiled\n",
    "model1.compile(optimizer='adam', loss='categorical_crossentropy', metrics=['accuracy'])\n",
    "model2.compile(optimizer='adam', loss='categorical_crossentropy', metrics=['accuracy'])\n",
    "\n",
    "# Evaluate the models on the test set\n",
    "test_loss1, test_acc1 = model1.evaluate(test_images_scaled, test_labels_one_hot)\n",
    "test_loss2, test_acc2 = model2.evaluate(test_images_scaled, test_labels_one_hot)\n",
    "\n",
    "print(f\"Model 1| Test accuracy: {test_acc1:.4f}, Test loss: {test_loss1:.4f}\")\n",
    "print(f\"Model 2| Test accuracy: {test_acc2:.4f}, Test loss: {test_loss2:.4f}\")\n",
    "\n",
    "# The following code is used by the autograder. Do not modify it.\n",
    "step10_sol = (test_loss1, test_acc1, test_loss2, test_acc2, model1, model2)"
   ]
  },
  {
   "cell_type": "raw",
   "id": "63e71c8f-880b-4998-8030-b00294774dd7",
   "metadata": {
    "deletable": false,
    "editable": false
   },
   "source": [
    "grader.check(\"step10\")"
   ]
  },
  {
   "cell_type": "markdown",
   "id": "e195fb8f",
   "metadata": {
    "deletable": false,
    "editable": false
   },
   "source": [
    "**STEP11** From the loaded history of the two trained models, plot a graph of **accuracy** vs **number of epochs** for both training and validation. \n",
    "\n",
    "_Points:_ 0"
   ]
  },
  {
   "cell_type": "code",
   "execution_count": 67,
   "id": "57a8d535",
   "metadata": {
    "tags": []
   },
   "outputs": [],
   "source": [
    "# Load history for model 1 (Do not modify this code)\n",
    "history_name1 = \"./history1\"\n",
    "with open(history_name1, \"rb\") as file_pi:\n",
    "    loaded_history1 = pickle.load(file_pi)\n",
    "    \n",
    "# Load history for model 2 (Do not modify this code)\n",
    "history_name2 = \"./history2\"\n",
    "with open(history_name2, \"rb\") as file_pi:\n",
    "    loaded_history2 = pickle.load(file_pi)\n",
    "\n",
    "# Plot the training and validation accuracies during training for both models\n",
    "\n",
    "# The following code is used by the autograder. Do not modify it.\n",
    "step11_sol = (loaded_history1, loaded_history2)"
   ]
  },
  {
   "cell_type": "raw",
   "id": "1c904659-765a-4fe6-888e-b7b15489e5d9",
   "metadata": {
    "deletable": false,
    "editable": false
   },
   "source": [
    "grader.check(\"step11\")"
   ]
  },
  {
   "cell_type": "markdown",
   "id": "ebed0f51",
   "metadata": {},
   "source": [
    "## MC Dropout"
   ]
  },
  {
   "cell_type": "markdown",
   "id": "c4a5094c",
   "metadata": {
    "deletable": false,
    "editable": false
   },
   "source": [
    "**STEP12** Check if model2 achieves better accuracy using MC Dropout (without retraining).\n",
    "\n",
    "_Points:_ 3"
   ]
  },
  {
   "cell_type": "code",
   "execution_count": 68,
   "id": "4066462a",
   "metadata": {
    "tags": []
   },
   "outputs": [
    {
     "name": "stdout",
     "output_type": "stream",
     "text": [
      "\u001b[1m225/225\u001b[0m \u001b[32m━━━━━━━━━━━━━━━━━━━━\u001b[0m\u001b[37m\u001b[0m \u001b[1m6s\u001b[0m 16ms/step\n",
      "\u001b[1m225/225\u001b[0m \u001b[32m━━━━━━━━━━━━━━━━━━━━\u001b[0m\u001b[37m\u001b[0m \u001b[1m2s\u001b[0m 7ms/step\n",
      "\u001b[1m225/225\u001b[0m \u001b[32m━━━━━━━━━━━━━━━━━━━━\u001b[0m\u001b[37m\u001b[0m \u001b[1m2s\u001b[0m 7ms/step\n",
      "\u001b[1m225/225\u001b[0m \u001b[32m━━━━━━━━━━━━━━━━━━━━\u001b[0m\u001b[37m\u001b[0m \u001b[1m2s\u001b[0m 7ms/step\n",
      "\u001b[1m225/225\u001b[0m \u001b[32m━━━━━━━━━━━━━━━━━━━━\u001b[0m\u001b[37m\u001b[0m \u001b[1m2s\u001b[0m 7ms/step\n",
      "\u001b[1m225/225\u001b[0m \u001b[32m━━━━━━━━━━━━━━━━━━━━\u001b[0m\u001b[37m\u001b[0m \u001b[1m2s\u001b[0m 7ms/step\n",
      "\u001b[1m225/225\u001b[0m \u001b[32m━━━━━━━━━━━━━━━━━━━━\u001b[0m\u001b[37m\u001b[0m \u001b[1m2s\u001b[0m 7ms/step\n",
      "\u001b[1m225/225\u001b[0m \u001b[32m━━━━━━━━━━━━━━━━━━━━\u001b[0m\u001b[37m\u001b[0m \u001b[1m2s\u001b[0m 7ms/step\n",
      "\u001b[1m225/225\u001b[0m \u001b[32m━━━━━━━━━━━━━━━━━━━━\u001b[0m\u001b[37m\u001b[0m \u001b[1m2s\u001b[0m 7ms/step\n",
      "\u001b[1m225/225\u001b[0m \u001b[32m━━━━━━━━━━━━━━━━━━━━\u001b[0m\u001b[37m\u001b[0m \u001b[1m2s\u001b[0m 7ms/step\n",
      "\u001b[1m225/225\u001b[0m \u001b[32m━━━━━━━━━━━━━━━━━━━━\u001b[0m\u001b[37m\u001b[0m \u001b[1m2s\u001b[0m 7ms/step\n",
      "\u001b[1m225/225\u001b[0m \u001b[32m━━━━━━━━━━━━━━━━━━━━\u001b[0m\u001b[37m\u001b[0m \u001b[1m2s\u001b[0m 7ms/step\n",
      "\u001b[1m225/225\u001b[0m \u001b[32m━━━━━━━━━━━━━━━━━━━━\u001b[0m\u001b[37m\u001b[0m \u001b[1m2s\u001b[0m 7ms/step\n",
      "\u001b[1m225/225\u001b[0m \u001b[32m━━━━━━━━━━━━━━━━━━━━\u001b[0m\u001b[37m\u001b[0m \u001b[1m2s\u001b[0m 7ms/step\n",
      "\u001b[1m225/225\u001b[0m \u001b[32m━━━━━━━━━━━━━━━━━━━━\u001b[0m\u001b[37m\u001b[0m \u001b[1m2s\u001b[0m 7ms/step\n",
      "\u001b[1m225/225\u001b[0m \u001b[32m━━━━━━━━━━━━━━━━━━━━\u001b[0m\u001b[37m\u001b[0m \u001b[1m2s\u001b[0m 7ms/step\n",
      "\u001b[1m225/225\u001b[0m \u001b[32m━━━━━━━━━━━━━━━━━━━━\u001b[0m\u001b[37m\u001b[0m \u001b[1m2s\u001b[0m 7ms/step\n",
      "\u001b[1m225/225\u001b[0m \u001b[32m━━━━━━━━━━━━━━━━━━━━\u001b[0m\u001b[37m\u001b[0m \u001b[1m2s\u001b[0m 7ms/step\n",
      "\u001b[1m225/225\u001b[0m \u001b[32m━━━━━━━━━━━━━━━━━━━━\u001b[0m\u001b[37m\u001b[0m \u001b[1m2s\u001b[0m 7ms/step\n",
      "\u001b[1m225/225\u001b[0m \u001b[32m━━━━━━━━━━━━━━━━━━━━\u001b[0m\u001b[37m\u001b[0m \u001b[1m2s\u001b[0m 7ms/step\n",
      "Model 2 with MC Dropout: Test accuracy: 0.7355\n"
     ]
    }
   ],
   "source": [
    "#This function computes the MC (Monte Carlo) Dropout predictions for a given model and input data. \n",
    "# It returns the mean of multiple predictions obtained by running the model in training mode.\n",
    "#Parameters\n",
    "#   model: A trained model with a dropout layers.\n",
    "#   X    : The input data for which the predictions are to be made.\n",
    "#   n_samples: The number of Monte Carlo samples to generate..\n",
    "#Returns\n",
    "  # The function returns an array-like object containing the MC Dropout predictions for the given input data. \n",
    "  # The shape of the output should be the same as the model's output layer.\n",
    "\n",
    "def mc_dropout_predict(model, X, n_samples=20):\n",
    "    # Initialize an empty array to store predictions\n",
    "    predictions = []\n",
    "\n",
    "    # Generate predictions for each sample\n",
    "    for _ in range(n_samples):\n",
    "        predictions.append(model.predict(X))\n",
    "\n",
    "    # Compute the mean of the predictions\n",
    "    output_mc = np.mean(predictions, axis=0)\n",
    "\n",
    "    return output_mc\n",
    "\n",
    "# Call mc_dropout_predict to Compute the MC Dropout predictions for model 2\n",
    "output_mc = mc_dropout_predict(model2, test_images_scaled)\n",
    "\n",
    "# Compute the accuracy using MC Dropout\n",
    "accuracy_mc = np.mean(np.argmax(output_mc, axis=1) == np.argmax(test_labels_one_hot, axis=1))\n",
    "\n",
    "# Display result.\n",
    "print(f\"Model 2 with MC Dropout: Test accuracy: {accuracy_mc:.4f}\")\n",
    "\n",
    "# The following code is used by the autograder. Do not modify it.\n",
    "step12_sol = (output_mc, accuracy_mc)"
   ]
  },
  {
   "cell_type": "raw",
   "id": "1a18e671-e0d9-4245-883f-ea97cda707fc",
   "metadata": {
    "deletable": false,
    "editable": false
   },
   "source": [
    "grader.check(\"step12\")"
   ]
  },
  {
   "cell_type": "markdown",
   "id": "ee91debe",
   "metadata": {},
   "source": [
    "## Learning Rate (LR) scheduling"
   ]
  },
  {
   "cell_type": "markdown",
   "id": "e268228c",
   "metadata": {
    "deletable": false,
    "editable": false
   },
   "source": [
    "**STEP13** Retrain model1 using performance scheduling and see if it improves training speed and model accuracy.\n",
    "\n",
    "**IMPORTANT:** Define the model the same way model1 was defined and compile the model the same way as model1.\n",
    "\n",
    "_Points:_ 2"
   ]
  },
  {
   "cell_type": "code",
   "execution_count": 69,
   "id": "d0fb905e",
   "metadata": {
    "tags": []
   },
   "outputs": [],
   "source": [
    "from tensorflow.keras.callbacks import ReduceLROnPlateau\n",
    "from tensorflow.keras.models import Sequential\n",
    "from tensorflow.keras.optimizers import Nadam\n",
    "\n",
    "\n",
    "# Do not modify the following line of code.\n",
    "history1_perf = None\n",
    "\n",
    "\n",
    "train_labels_one_hot = to_categorical(train_labels, num_classes=24)\n",
    "test_labels_one_hot = to_categorical(test_labels, num_classes=24)\n",
    "\n",
    "np.random.seed(42)\n",
    "tf.random.set_seed(42)\n",
    "\n",
    "# Redefine Model 1 so we start again with random weights\n",
    "model1_perfLRS = Sequential()\n",
    "\n",
    "model1_perfLRS.add(InputLayer(input_shape=(784,)))\n",
    "\n",
    "# Configure the output layer\n",
    "model1_perfLRS.add(Dense(24, activation='softmax'))\n",
    "\n",
    "# Compile the model with Nadam optimizer and categorical cross-entropy loss\n",
    "model1_perfLRS.compile(optimizer=Nadam(), loss='categorical_crossentropy', metrics=['accuracy'])\n",
    "\n",
    "early_stopping_cb = EarlyStopping(monitor='val_loss', patience=5, restore_best_weights=True)\n",
    "# Compile the model with Nadam optimizer and categorical cross-entropy loss\n",
    "\n",
    "# Define the learning rate schedule\n",
    "lr_scheduler = ReduceLROnPlateau(monitor='val_loss', factor=0.1, patience=3, verbose=1)\n",
    "\n",
    "# Creating model checkpoint to save the best model. \n",
    "dnn_bn_perf_checkpoint_cb = ModelCheckpoint(\"best_dnn_bn_perf_model.keras\", save_best_only=True)\n",
    "\n",
    "#####Perform the training on your machine and then comment out the following section before uploading it to gradescope.\n",
    "####################################  \n",
    "# Make sure your best model is named as follows:\n",
    "# Model1 with performance scheduling filename = best_dnn_bn_perf_model.keras\n",
    "\n",
    "\n",
    "# Train the model using early stopping and exponential scheduling (Comment this out before submission)\n",
    "#history1_perf = model1_perfLRS.fit(train_images_scaled, train_labels_one_hot, epochs=100, batch_size=32,\n",
    "#                                   validation_data=(test_images_scaled, test_labels_one_hot),\n",
    "#                                   callbacks=[early_stopping_cb, lr_scheduler, dnn_bn_perf_checkpoint_cb])\n",
    "\n",
    "# The following code will save your history - don't change it - comment it out before uploading to GS\n",
    "#if \"history1_perf\" in globals():\n",
    "#    with open('./history1_perf', 'wb') as file_pi:\n",
    "#        pickle.dump(history1_perf.history, file_pi)\n",
    "####################################\n",
    "# The following code is used by the autograder. Do not modify it.\n",
    "step13_sol = (dnn_bn_perf_checkpoint_cb, lr_scheduler)"
   ]
  },
  {
   "cell_type": "raw",
   "id": "9e3d15e1-9397-44dd-b4b1-8b498f707550",
   "metadata": {
    "deletable": false,
    "editable": false
   },
   "source": [
    "grader.check(\"step13\")"
   ]
  },
  {
   "cell_type": "markdown",
   "id": "a48ebcef",
   "metadata": {
    "deletable": false,
    "editable": false
   },
   "source": [
    "**STEP14** Using the loaded model obtained from the code given below, evaluate the performance of the model on the test set.\n",
    "\n",
    "_Points:_ 1"
   ]
  },
  {
   "cell_type": "code",
   "execution_count": 98,
   "id": "bb91b2ca",
   "metadata": {
    "tags": []
   },
   "outputs": [
    {
     "name": "stdout",
     "output_type": "stream",
     "text": [
      "\u001b[1m225/225\u001b[0m \u001b[32m━━━━━━━━━━━━━━━━━━━━\u001b[0m\u001b[37m\u001b[0m \u001b[1m1s\u001b[0m 1ms/step - accuracy: 0.6617 - loss: 1.1936\n",
      "Model 1 with performance scheduling: Test accuracy: 0.6670\n"
     ]
    }
   ],
   "source": [
    "# Do not change the following 2 lines of code.\n",
    "# define the file name for the saved model\n",
    "model_name = \"best_dnn_bn_perf_model.keras\"\n",
    "# load the model\n",
    "model1_perf = keras.models.load_model(model_name)\n",
    "\n",
    "# Evaluate the model on the test set\n",
    "test_loss1_perf, test_acc1_perf = model1_perf.evaluate(test_images_scaled, test_labels_one_hot)\n",
    "print(f\"Model 1 with performance scheduling: Test accuracy: {test_acc1_perf:.4f}\")\n",
    "\n",
    "# The following code is used by the autograder. Do not modify it.\n",
    "step14_sol = (test_loss1_perf, test_acc1_perf)"
   ]
  },
  {
   "cell_type": "raw",
   "id": "875be856-7c68-4495-933b-6e8f1e372a4d",
   "metadata": {
    "deletable": false,
    "editable": false
   },
   "source": [
    "grader.check(\"step14\")"
   ]
  },
  {
   "cell_type": "markdown",
   "id": "b5d19f6f",
   "metadata": {
    "deletable": false,
    "editable": false
   },
   "source": [
    "<!-- BEGIN QUESTION -->\n",
    "\n",
    "**STEP15** From the history of the models loaded using the code given below, plot a graph of **accuracy** vs **number of epochs** for both training and validation.\n",
    "\n",
    "_Points:_ 0"
   ]
  },
  {
   "cell_type": "code",
   "execution_count": 99,
   "id": "aa06b48c",
   "metadata": {
    "tags": []
   },
   "outputs": [],
   "source": [
    "# load history for model 1 with learning rate scheduling (do not modify the following code)\n",
    "history_name1_perf = \"./history1_perf\"\n",
    "with open(history_name1_perf, \"rb\") as file_pi:\n",
    "    loaded_history1_perf = pickle.load(file_pi)\n",
    "\n",
    "# Load history for the original model1 (do not modify the following code)\n",
    "history_name1 = \"./history1\"\n",
    "with open(history_name1, \"rb\") as file_pi:\n",
    "    loaded_history1 = pickle.load(file_pi)\n",
    "\n",
    "# Plot the training and validation accuracy for both models"
   ]
  },
  {
   "cell_type": "raw",
   "id": "e06c852d-1da7-4d21-97b4-7f6cf7389f5d",
   "metadata": {
    "deletable": false,
    "editable": false
   },
   "source": [
    "grader.check(\"step15\")"
   ]
  },
  {
   "cell_type": "markdown",
   "id": "385e2ee7",
   "metadata": {
    "deletable": false,
    "editable": false
   },
   "source": [
    "<!-- END QUESTION -->\n",
    "\n",
    "## Transfer learning\n",
    "\n",
    "Use transfer learning by using a pre-trained **MobileNetV3Small** model on imagenet dataset, and fine-tuning it on the Sign Language MNIST dataset."
   ]
  },
  {
   "cell_type": "markdown",
   "id": "6eb24bd9",
   "metadata": {
    "deletable": false,
    "editable": false
   },
   "source": [
    "**STEP16** First of all, you to prepare your data for this model.\n",
    "* Reshape your input data (train and test) to (28, 28, 3).\n",
    "* Standardize your input. \n",
    "\n",
    "_Points:_ 2"
   ]
  },
  {
   "cell_type": "code",
   "execution_count": 212,
   "id": "2dbbfc40",
   "metadata": {
    "tags": []
   },
   "outputs": [],
   "source": [
    "# Reshape train data to (num_samples, 28, 28, 3)\n",
    "train_images_mb = np.stack([train_images_scaled] * 3, axis=-1).reshape((-1, 28, 28, 3))\n",
    "\n",
    "# Reshape test data to (num_samples, 28, 28, 3)\n",
    "test_images_mb = np.stack([test_images_scaled] * 3, axis=-1).reshape((-1, 28, 28, 3))\n",
    "\n",
    "# Normalise the data \n",
    "train_images_mb = train_images_mb.astype('float32')\n",
    "test_images_mb = test_images_mb.astype('float32')\n",
    "train_images_mb /= 255.0\n",
    "test_images_mb /= 255.0\n",
    "\n",
    "# The following code is used by the autograder. Do not modify it.\n",
    "step16_sol = (train_images_mb,test_images_mb)"
   ]
  },
  {
   "cell_type": "raw",
   "id": "d6f14953-66d0-46e3-bb53-abfb2cb34327",
   "metadata": {
    "deletable": false,
    "editable": false
   },
   "source": [
    "grader.check(\"step16\")"
   ]
  },
  {
   "cell_type": "markdown",
   "id": "01d86d3e",
   "metadata": {
    "deletable": false,
    "editable": false
   },
   "source": [
    "**Step17** Now, we need to define and set up the model. For this you need to follow the next steps:\n",
    "\n",
    "* Load the pre-trained **MobileNetV3Small** model with weights from ImageNet.\n",
    "* Modify the model to accept inputs of shape (56, 56, 3). \n",
    "* Freeze the weights of the pretrained layers.* \n",
    "* Add input layer that take an image of shape (28,28,3), then a layer `UpSampling2D` to upscale the input by a factor of 2 so they can go through the network.\n",
    "\n",
    "Consider that maybe you need to adapt the default output.\n",
    "\n",
    "_Points:_ 2"
   ]
  },
  {
   "cell_type": "code",
   "execution_count": 213,
   "id": "b414e273-4f69-42e5-9523-73d224f9d126",
   "metadata": {
    "tags": []
   },
   "outputs": [],
   "source": [
    "from tensorflow.keras.applications import MobileNetV3Small \n",
    "from tensorflow.keras.layers import Input, UpSampling2D, Dense, GlobalAveragePooling2D, BatchNormalization, Dropout\n",
    "from tensorflow.keras.models import Model\n",
    "from tensorflow.keras.regularizers import l2\n",
    "\n",
    "# Load the pre-trained MobileNet model with weights from ImageNet\n",
    "base_mb_model = MobileNetV3Small(input_shape=(56, 56, 3), include_top=False, weights='imagenet')\n",
    "\n",
    "# Freeze the base model layers\n",
    "for layer in base_mb_model.layers:\n",
    "    layer.trainable = False\n",
    "\n",
    "# Create the new model\n",
    "input_layer = Input(shape=(28, 28, 3))\n",
    "x = UpSampling2D(size=(2, 2))(input_layer)\n",
    "x = base_mb_model(x)\n",
    "x = GlobalAveragePooling2D()(x)\n",
    "x = BatchNormalization()(x)\n",
    "x = Dropout(0.5)(x)\n",
    "x = Dense(128, activation=\"swish\")(x)\n",
    "x = BatchNormalization()(x)\n",
    "x = Dropout(0.5)(x)\n",
    "output_layer = Dense(24, activation='softmax')(x)\n",
    "\n",
    "final_mb_model = Model(inputs=input_layer, outputs=output_layer)\n",
    "\n",
    "# The following code is used by the autograder. Do not modify it.\n",
    "step17_sol = final_mb_model"
   ]
  },
  {
   "cell_type": "raw",
   "id": "f93da8d6-168d-4996-be7f-8e7e8118a3f0",
   "metadata": {
    "deletable": false,
    "editable": false
   },
   "source": [
    "grader.check(\"step17\")"
   ]
  },
  {
   "cell_type": "markdown",
   "id": "1e93db0b",
   "metadata": {
    "deletable": false,
    "editable": false
   },
   "source": [
    "**Step18** Once we define the model and do the specific modifications to adjust to our data, we compile it.\n",
    "\n",
    "* Use a learning rate schedule that uses an exponential decay schedule.\n",
    "* Compile and train the model.\n",
    "\n",
    "_Points:_ 2"
   ]
  },
  {
   "cell_type": "code",
   "execution_count": 218,
   "id": "95d73560-3662-4f21-ba69-bc23a02320b7",
   "metadata": {
    "tags": []
   },
   "outputs": [],
   "source": [
    "from tensorflow.keras.optimizers.schedules import ExponentialDecay\n",
    "\n",
    "# Define an initial learning rate\n",
    "initial_learning_rate = 0.02\n",
    "\n",
    "# Create the proper learning rate schedule\n",
    "lr_schedule = tf.keras.optimizers.schedules.ExponentialDecay(\n",
    "    initial_learning_rate = initial_learning_rate,\n",
    "    decay_steps = 10000,\n",
    "    decay_rate = 0.96,\n",
    "    staircase = True \n",
    ")\n",
    "\n",
    "final_mb_model = Model(inputs=input_layer, outputs=output_layer)\n",
    "\n",
    "\n",
    "final_mb_model.compile(\n",
    "    optimizer=tf.keras.optimizers.Nadam(learning_rate=lr_schedule), loss='categorical_crossentropy', metrics=['accuracy'])\n",
    "\n",
    "# The following code is used by the autograder. Do not modify it.\n",
    "step18_sol = (lr_schedule, final_mb_model)"
   ]
  },
  {
   "cell_type": "raw",
   "id": "afe4ae05-bf5e-4374-975f-5674e2cfa7f8",
   "metadata": {
    "deletable": false,
    "editable": false
   },
   "source": [
    "grader.check(\"step18\")"
   ]
  },
  {
   "cell_type": "markdown",
   "id": "a761f99b",
   "metadata": {
    "deletable": false,
    "editable": false
   },
   "source": [
    "**Step19** Train the mobilenet model. Include early stopping in your training procedure.\n",
    "\n",
    "_Points:_ 2"
   ]
  },
  {
   "cell_type": "code",
   "execution_count": null,
   "id": "88b5c8af-9e74-4ef2-9790-cd8ed25f405b",
   "metadata": {
    "tags": []
   },
   "outputs": [
    {
     "name": "stdout",
     "output_type": "stream",
     "text": [
      "Epoch 1/50\n",
      "\u001b[1m215/215\u001b[0m \u001b[32m━━━━━━━━━━━━━━━━━━━━\u001b[0m\u001b[37m\u001b[0m \u001b[1m74s\u001b[0m 195ms/step - accuracy: 0.5111 - loss: 1.4875 - val_accuracy: 0.5516 - val_loss: 1.4434\n",
      "Epoch 2/50\n",
      "\u001b[1m215/215\u001b[0m \u001b[32m━━━━━━━━━━━━━━━━━━━━\u001b[0m\u001b[37m\u001b[0m \u001b[1m39s\u001b[0m 181ms/step - accuracy: 0.5050 - loss: 1.5107 - val_accuracy: 0.5703 - val_loss: 1.4336\n",
      "Epoch 3/50\n",
      "\u001b[1m215/215\u001b[0m \u001b[32m━━━━━━━━━━━━━━━━━━━━\u001b[0m\u001b[37m\u001b[0m \u001b[1m38s\u001b[0m 178ms/step - accuracy: 0.5015 - loss: 1.5082 - val_accuracy: 0.5506 - val_loss: 1.4225\n",
      "Epoch 4/50\n",
      "\u001b[1m215/215\u001b[0m \u001b[32m━━━━━━━━━━━━━━━━━━━━\u001b[0m\u001b[37m\u001b[0m \u001b[1m27s\u001b[0m 126ms/step - accuracy: 0.5149 - loss: 1.4676 - val_accuracy: 0.5680 - val_loss: 1.3824\n",
      "Epoch 5/50\n",
      "\u001b[1m215/215\u001b[0m \u001b[32m━━━━━━━━━━━━━━━━━━━━\u001b[0m\u001b[37m\u001b[0m \u001b[1m26s\u001b[0m 121ms/step - accuracy: 0.5172 - loss: 1.4784 - val_accuracy: 0.5499 - val_loss: 1.4277\n",
      "Epoch 6/50\n",
      "\u001b[1m215/215\u001b[0m \u001b[32m━━━━━━━━━━━━━━━━━━━━\u001b[0m\u001b[37m\u001b[0m \u001b[1m27s\u001b[0m 123ms/step - accuracy: 0.5299 - loss: 1.4374 - val_accuracy: 0.5710 - val_loss: 1.3490\n",
      "Epoch 7/50\n",
      "\u001b[1m215/215\u001b[0m \u001b[32m━━━━━━━━━━━━━━━━━━━━\u001b[0m\u001b[37m\u001b[0m \u001b[1m26s\u001b[0m 119ms/step - accuracy: 0.5205 - loss: 1.4490 - val_accuracy: 0.5768 - val_loss: 1.4424\n",
      "Epoch 8/50\n",
      "\u001b[1m215/215\u001b[0m \u001b[32m━━━━━━━━━━━━━━━━━━━━\u001b[0m\u001b[37m\u001b[0m \u001b[1m26s\u001b[0m 122ms/step - accuracy: 0.5256 - loss: 1.4362 - val_accuracy: 0.5757 - val_loss: 1.3352\n",
      "Epoch 9/50\n",
      "\u001b[1m215/215\u001b[0m \u001b[32m━━━━━━━━━━━━━━━━━━━━\u001b[0m\u001b[37m\u001b[0m \u001b[1m26s\u001b[0m 121ms/step - accuracy: 0.5320 - loss: 1.4292 - val_accuracy: 0.5726 - val_loss: 1.3576\n",
      "Epoch 10/50\n",
      "\u001b[1m215/215\u001b[0m \u001b[32m━━━━━━━━━━━━━━━━━━━━\u001b[0m\u001b[37m\u001b[0m \u001b[1m26s\u001b[0m 122ms/step - accuracy: 0.5239 - loss: 1.4308 - val_accuracy: 0.5814 - val_loss: 1.3160\n",
      "Epoch 11/50\n",
      "\u001b[1m215/215\u001b[0m \u001b[32m━━━━━━━━━━━━━━━━━━━━\u001b[0m\u001b[37m\u001b[0m \u001b[1m26s\u001b[0m 121ms/step - accuracy: 0.5334 - loss: 1.4165 - val_accuracy: 0.5858 - val_loss: 1.3431\n",
      "Epoch 12/50\n",
      "\u001b[1m215/215\u001b[0m \u001b[32m━━━━━━━━━━━━━━━━━━━━\u001b[0m\u001b[37m\u001b[0m \u001b[1m26s\u001b[0m 122ms/step - accuracy: 0.5296 - loss: 1.4290 - val_accuracy: 0.5931 - val_loss: 1.3216\n",
      "Epoch 13/50\n",
      "\u001b[1m215/215\u001b[0m \u001b[32m━━━━━━━━━━━━━━━━━━━━\u001b[0m\u001b[37m\u001b[0m \u001b[1m26s\u001b[0m 121ms/step - accuracy: 0.5408 - loss: 1.3987 - val_accuracy: 0.5805 - val_loss: 1.3493\n",
      "Epoch 14/50\n",
      "\u001b[1m215/215\u001b[0m \u001b[32m━━━━━━━━━━━━━━━━━━━━\u001b[0m\u001b[37m\u001b[0m \u001b[1m26s\u001b[0m 123ms/step - accuracy: 0.5376 - loss: 1.3906 - val_accuracy: 0.5962 - val_loss: 1.3044\n",
      "Epoch 15/50\n",
      "\u001b[1m215/215\u001b[0m \u001b[32m━━━━━━━━━━━━━━━━━━━━\u001b[0m\u001b[37m\u001b[0m \u001b[1m26s\u001b[0m 120ms/step - accuracy: 0.5428 - loss: 1.3970 - val_accuracy: 0.5841 - val_loss: 1.3295\n",
      "Epoch 16/50\n",
      "\u001b[1m215/215\u001b[0m \u001b[32m━━━━━━━━━━━━━━━━━━━━\u001b[0m\u001b[37m\u001b[0m \u001b[1m26s\u001b[0m 120ms/step - accuracy: 0.5432 - loss: 1.3833 - val_accuracy: 0.5881 - val_loss: 1.3294\n",
      "Epoch 17/50\n",
      "\u001b[1m215/215\u001b[0m \u001b[32m━━━━━━━━━━━━━━━━━━━━\u001b[0m\u001b[37m\u001b[0m \u001b[1m26s\u001b[0m 121ms/step - accuracy: 0.5448 - loss: 1.3823 - val_accuracy: 0.5740 - val_loss: 1.3693\n",
      "Epoch 18/50\n",
      "\u001b[1m215/215\u001b[0m \u001b[32m━━━━━━━━━━━━━━━━━━━━\u001b[0m\u001b[37m\u001b[0m \u001b[1m26s\u001b[0m 120ms/step - accuracy: 0.5462 - loss: 1.3825 - val_accuracy: 0.5849 - val_loss: 1.3361\n",
      "Epoch 19/50\n",
      "\u001b[1m215/215\u001b[0m \u001b[32m━━━━━━━━━━━━━━━━━━━━\u001b[0m\u001b[37m\u001b[0m \u001b[1m26s\u001b[0m 123ms/step - accuracy: 0.5462 - loss: 1.3749 - val_accuracy: 0.5954 - val_loss: 1.3032\n",
      "Epoch 20/50\n",
      "\u001b[1m215/215\u001b[0m \u001b[32m━━━━━━━━━━━━━━━━━━━━\u001b[0m\u001b[37m\u001b[0m \u001b[1m26s\u001b[0m 120ms/step - accuracy: 0.5516 - loss: 1.3551 - val_accuracy: 0.5855 - val_loss: 1.3197\n",
      "Epoch 21/50\n",
      "\u001b[1m 59/215\u001b[0m \u001b[32m━━━━━\u001b[0m\u001b[37m━━━━━━━━━━━━━━━\u001b[0m \u001b[1m14s\u001b[0m 94ms/step - accuracy: 0.5420 - loss: 1.3866"
     ]
    }
   ],
   "source": [
    "from tensorflow.keras.callbacks import ModelCheckpoint, EarlyStopping\n",
    "import pickle\n",
    "\n",
    "# Do not modify the following line of code.\n",
    "history_mb = None\n",
    "\n",
    "# Define model checkpoint callback (Do not modify this code).\n",
    "best_model_checkpoint = ModelCheckpoint(\"best_mobilenet_model.keras\", save_best_only=True)\n",
    "\n",
    "# Set up early stopping\n",
    "early_stopping_cb = EarlyStopping(monitor='val_loss', patience=5, restore_best_weights=True)\n",
    "\n",
    "# Perform the training on your machine and then comment out the following section before uploading it to gradescope. \n",
    "#################################### \n",
    "# Train the model (comment this section out)\n",
    "history_mb = final_mb_model.fit(\n",
    "    train_images_mb, train_labels_one_hot,\n",
    "    epochs=50,\n",
    "    batch_size=128,\n",
    "    validation_data=(test_images_mb, test_labels_one_hot),\n",
    "    callbacks=[best_model_checkpoint, early_stopping_cb]\n",
    ")\n",
    "\n",
    "# Save the training history\n",
    "if \"history_mb\" in globals():\n",
    "    with open('./historymb', 'wb') as file_pi:\n",
    "        pickle.dump(history_mb.history, file_pi)    \n",
    "####################################\n",
    "\n",
    "# The following code is used by the autograder. Do not modify it.\n",
    "step19_sol = (best_model_checkpoint, early_stopping_cb)"
   ]
  },
  {
   "cell_type": "raw",
   "id": "69a3bfa9-6c67-4ec9-8e23-6c752719ee25",
   "metadata": {
    "deletable": false,
    "editable": false
   },
   "source": [
    "grader.check(\"step19\")"
   ]
  },
  {
   "cell_type": "code",
   "execution_count": null,
   "id": "f0af2655-86fe-44e9-89dd-4ad5236eaaff",
   "metadata": {},
   "outputs": [],
   "source": [
    "print(step"
   ]
  },
  {
   "cell_type": "markdown",
   "id": "2e6f5bf8",
   "metadata": {
    "deletable": false,
    "editable": false
   },
   "source": [
    "**Step20** For the trained model loaded using the code given below, evaluate its performance on the test set.\n",
    "\n",
    "_Points:_ 1"
   ]
  },
  {
   "cell_type": "code",
   "execution_count": 207,
   "id": "299c256e",
   "metadata": {
    "tags": []
   },
   "outputs": [
    {
     "name": "stdout",
     "output_type": "stream",
     "text": [
      "Original test images shape: (7172, 784)\n",
      "\u001b[1m225/225\u001b[0m \u001b[32m━━━━━━━━━━━━━━━━━━━━\u001b[0m\u001b[37m\u001b[0m \u001b[1m24s\u001b[0m 82ms/step\n",
      "Most complex letter to predict: j\n",
      "Easiest letter to predict: o\n"
     ]
    }
   ],
   "source": [
    "# Do not modify the following two lines of code.\n",
    "# define the file name for the saved model\n",
    "model_name = \"best_mobilenet_model.keras\"\n",
    "print(\"Original test images shape:\", test_images.shape)\n",
    "\n",
    "# Assuming test_labels_one_hot is already defined and loaded\n",
    "test_labels = np.argmax(test_labels_one_hot, axis=1)\n",
    "\n",
    "# Make the prediction using MobileNet model. Use the function predict.\n",
    "prediction_test = np.argmax(final_mb_model.predict(test_images_mb), axis=1)\n",
    "\n",
    "# Initialize dictionaries to count correct predictions and total samples per letter\n",
    "correct_counts = {i: 0 for i in range(24)}\n",
    "total_counts = {i: 0 for i in range(24)}\n",
    "\n",
    "# Count correct predictions and total samples for each letter\n",
    "for true_label, predicted_label in zip(test_labels, prediction_test):\n",
    "    total_counts[true_label] += 1\n",
    "    if true_label == predicted_label:\n",
    "        correct_counts[true_label] += 1\n",
    "\n",
    "# Calculate proportions of correct predictions for each letter\n",
    "proportions = {i: correct_counts[i] / total_counts[i] if total_counts[i] > 0 else 0 for i in range(24)}\n",
    "\n",
    "# Find the most difficult and easiest letters to predict\n",
    "complex_letter_index = min(proportions, key=proportions.get)\n",
    "easiest_letter_index = max(proportions, key=proportions.get)\n",
    "\n",
    "# Map indices to letters\n",
    "letters = [chr(i + ord('a')) for i in range(24)]\n",
    "\n",
    "# Handle the letters j and z that are skipped in the dataset\n",
    "letters.insert(9, 'j')\n",
    "letters.insert(25, 'z')\n",
    "\n",
    "# Identify the complex and easiest letters\n",
    "complex_letter = letters[complex_letter_index]\n",
    "easiest_letter = letters[easiest_letter_index]\n",
    "\n",
    "# Print the results\n",
    "print(f\"Most complex letter to predict: {complex_letter}\")\n",
    "print(f\"Easiest letter to predict: {easiest_letter}\")\n",
    "\n",
    "# The following code is used by the autograder. Do not modify it.\n",
    "step20_sol = (test_loss1_mobilenet,test_acc1_mobilenet)"
   ]
  },
  {
   "cell_type": "raw",
   "id": "20e1c8e6-3a4b-466a-9af4-944e91c49408",
   "metadata": {
    "deletable": false,
    "editable": false
   },
   "source": [
    "grader.check(\"step20\")"
   ]
  },
  {
   "cell_type": "markdown",
   "id": "501c3477",
   "metadata": {
    "deletable": false,
    "editable": false
   },
   "source": [
    "**Step21** So far, you have seen the overall performance of your models. However, it is possible that some classes may be more difficult to classify than others. To gain a clearer understanding of which letters are the most difficult or easiest to predict, you can use your MobileNet model and make predictions on your test data using the predict function. Based on this, you can check the proportion of correct matches for each letter over the total number of that specific letter in the test data (as the proportion of one letter may differ from that of others). Finally, return the result as a string indicating the most complex and easiest letter to predict based on our analysis (e.g., \"a\" in lowercase).\n",
    "\n",
    "_Points:_ 2"
   ]
  },
  {
   "cell_type": "code",
   "execution_count": null,
   "id": "68bd430f-6e53-4b30-bdd4-99efe8a35a41",
   "metadata": {
    "tags": []
   },
   "outputs": [],
   "source": [
    "# Put here again the labels (not hot encoded)\n",
    "test_labels = np.argmax(test_labels_one_hot, axis=1)\n",
    "\n",
    "# Make the prediction using MobileNet model. Use the function predict.\n",
    "prediction_test = np.argmax(final_mb_model.predict(test_images_mb), axis=1)\n",
    "\n",
    "# Initialize dictionaries to count correct predictions and total samples per letter\n",
    "correct_counts = {i: 0 for i in range(24)}\n",
    "total_counts = {i: 0 for i in range(24)}\n",
    "\n",
    "# Count correct predictions and total samples for each letter\n",
    "for true_label, predicted_label in zip(test_labels, prediction_test):\n",
    "    total_counts[true_label] += 1\n",
    "    if true_label == predicted_label:\n",
    "        correct_counts[true_label] += 1\n",
    "\n",
    "# Calculate proportions of correct predictions for each letter\n",
    "proportions = {i: correct_counts[i] / total_counts[i] for i in range(24)}\n",
    "\n",
    "# Find the most difficult and easiest letters to predict\n",
    "complex_letter_index = min(proportions, key=proportions.get)\n",
    "easiest_letter_index = max(proportions, key=proportions.get)\n",
    "\n",
    "# What is the most difficult letter to predict? (if you have many letters which are equally difficult to predict, pick up any of them. Only one and put in a string (e.g. \"a\"))\n",
    "letters = [chr(i + ord('a')) for i in range(24)]\n",
    "complex_letter = letters[complex_letter_index]\n",
    "\n",
    "# What is the easist letter to predict? (if you have many letters which are equally easy to predict, pick up any of them. Only one and put in a string (e.g. \"a\"))\n",
    "easiest_letter = letters[easiest_letter_index]\n",
    "\n",
    "# Print the results\n",
    "print(f\"Most complex letter to predict: {complex_letter}\")\n",
    "print(f\"Easiest letter to predict: {easiest_letter}\")\n",
    "\n",
    "# The following code is used by the autograder. Do not modify it.\n",
    "step21_sol = (test_labels,prediction_test,complex_letter,easiest_letter)"
   ]
  },
  {
   "cell_type": "raw",
   "id": "c65524ff-426a-4641-8034-d5af4b0debfe",
   "metadata": {
    "deletable": false,
    "editable": false
   },
   "source": [
    "grader.check(\"step21\")"
   ]
  },
  {
   "cell_type": "markdown",
   "id": "9a5e0a43",
   "metadata": {},
   "source": [
    "## Using our final model"
   ]
  },
  {
   "cell_type": "markdown",
   "id": "a04a7fea",
   "metadata": {},
   "source": [
    "Finally, so far you got a powerful model capable to use it to predict in new data."
   ]
  },
  {
   "cell_type": "markdown",
   "id": "f3dd3c26",
   "metadata": {
    "deletable": false,
    "editable": false
   },
   "source": [
    "**Step22** \n",
    "\n",
    "**Predict on a new sample** Process the image `challenge1.jpg` and try to dechiper what is the letter in the image using your best model. Be aware that your model gives you numeric results, however you should convert this result in a proper output of letters (use lowercase letters).\n",
    "\n",
    "_Points:_ 2"
   ]
  },
  {
   "cell_type": "code",
   "execution_count": null,
   "id": "44da4da7",
   "metadata": {
    "tags": []
   },
   "outputs": [],
   "source": [
    "# Load the image (do not modify this line of code)\n",
    "img_challenge1 = cv2.imread('challenge1.jpg', cv2.IMREAD_GRAYSCALE)\n",
    "\n",
    "# Plot the image (do not modify the following 2 lines of code)\n",
    "plt.imshow(img_challenge1)\n",
    "plt.show()\n",
    "\n",
    "# Process the data\n",
    "# resize \n",
    "img_resized = cv2.resize(img_challenge1, (28, 28))\n",
    "img_rgb = cv2.cvtColor(img_resized, cv2.COLOR_GRAY2RGB)\n",
    "# Normalize the image\n",
    "img_normalized = img_rgb / 255.0\n",
    "# (1, 28, 28, 3)\n",
    "img_expanded = np.expand_dims(img_normalized, axis=0)\n",
    "\n",
    "# Load the best model\n",
    "model_name = \"best_mobilenet_model.keras\"\n",
    "final_mb_model = load_model(model_name)\n",
    "\n",
    "\n",
    "# Predict in this data using your best model\n",
    "prediction_challenge1 = final_mb_model.predict(img_expanded)\n",
    "predicted_label = np.argmax(prediction_challenge1, axis=1)[0]\n",
    "\n",
    "# Map the numeric prediction to the corresponding letter\n",
    "letters = [chr(i + ord('a')) for i in range(24)]\n",
    "\n",
    "# Decoding result. This should be the string representation of the output generated by your model.\n",
    "result_challenge1 = letters[predicted_label]\n",
    "\n",
    "# The following code is used by the autograder. Do not modify it.\n",
    "step22_sol = (result_challenge1)"
   ]
  },
  {
   "cell_type": "raw",
   "id": "9b5906a5-bc74-4918-8cdd-fb64f904c2e6",
   "metadata": {
    "deletable": false,
    "editable": false
   },
   "source": [
    "grader.check(\"step22\")"
   ]
  }
 ],
 "metadata": {
  "kernelspec": {
   "display_name": "Python 3 (ipykernel)",
   "language": "python",
   "name": "python3"
  },
  "language_info": {
   "codemirror_mode": {
    "name": "ipython",
    "version": 3
   },
   "file_extension": ".py",
   "mimetype": "text/x-python",
   "name": "python",
   "nbconvert_exporter": "python",
   "pygments_lexer": "ipython3",
   "version": "3.11.7"
  }
 },
 "nbformat": 4,
 "nbformat_minor": 5
}
