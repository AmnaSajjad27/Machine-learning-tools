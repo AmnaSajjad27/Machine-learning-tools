{
 "cells": [
  {
   "cell_type": "markdown",
   "id": "7fe98470-f20c-4017-8970-0fc425f0ca4b",
   "metadata": {},
   "source": [
    "# Using Machine Learning Tools Assignment 1\n",
    "\n",
    "## Overview\n",
    "\n",
    "In this assignment, you will apply some popular machine learning techniques to the problem of predicting bike rental demand. A data set has been provided containing records of bike rentals in Seoul, collected during 2017-18.\n",
    "\n",
    "## General instructions\n",
    "\n",
    "This assignment is divided into several tasks. Use the spaces provided in this notebook to answer the questions posed in each task. Note that some questions require writing a small amount of code and some require graphical results. It is your responsibility to make sure your responses are clearly labelled and your code has been fully executed (with the correct results displayed) before submission!\n",
    "\n",
    "**Do not** manually edit the data set file we have provided! For marking purposes, it's important that your code is written to run correctly on the original data file.\n",
    "\n",
    "When creating graphical output, label is clearly, with appropriate titles, xlabels and ylabels, as appropriate.\n",
    "\n",
    "Chapter 2 of the textbook is based on a similar workflow to this assignment, so you may look there for some further background and ideas. You can also use any other general resources on the internet that are relevant although do not use ones which directly relate to these questions with this dataset (which would normally only be found in someone else's assignment answers). If you take a large portion of code or text from the internet then you should reference where this was taken from, but we do not expect any references for small pieces of code. Taking, and adapting, small portions of code is expected and is common practice when solving real problems."
   ]
  },
  {
   "cell_type": "markdown",
   "id": "50a08e03-e275-4ab1-80bd-8128e15a58c7",
   "metadata": {},
   "source": [
    "## The following code imports some of the essential libraries that you will need. You should not need to modify it, but you are expected to import other libraries as needed."
   ]
  },
  {
   "cell_type": "code",
   "execution_count": 31,
   "id": "95c262c3-9ded-4f98-aafa-62b3d8c63d6e",
   "metadata": {},
   "outputs": [],
   "source": [
    "import pandas as pd\n",
    "import numpy as np\n",
    "import seaborn as sns\n",
    "import matplotlib.pyplot as plt\n",
    "from sklearn.pipeline import Pipeline\n",
    "from sklearn.impute import SimpleImputer\n",
    "from sklearn.preprocessing import StandardScaler\n",
    "from sklearn.model_selection import train_test_split\n",
    "from sklearn.linear_model import LinearRegression\n",
    "from sklearn.metrics import mean_squared_error\n",
    "\n",
    "# Impported by me \n",
    "from sklearn.preprocessing import OneHotEncoder\n",
    "import datetime\n",
    "from sklearn.base import BaseEstimator, TransformerMixin\n",
    "\n",
    "# For plots \n",
    "%matplotlib inline\n",
    "import matplotlib as mpl\n",
    "import matplotlib.pyplot as plt\n",
    "mpl.rc('axes',labelsize=14)\n",
    "mpl.rc('xtick',labelsize=12)\n",
    "mpl.rc('ytick',labelsize=12)"
   ]
  },
  {
   "cell_type": "markdown",
   "id": "7eb67336-c1a7-4592-afca-381db3d39261",
   "metadata": {
    "deletable": false,
    "editable": false,
    "tags": []
   },
   "source": [
    "**STEP01:** \n",
    "Load the data set from the csv file (SeoulBikeData.csv) into a DataFrame, and summarise it with the pandas functions `describe()` and `info()`.\n",
    "\n",
    "Download the data set from MyUni using the link provided on the assignment page. A paper that describes one related version of this dataset is: Sathishkumar V E, Jangwoo Park, and Yongyun Cho. 'Using data mining techniques for bike sharing demand prediction in metropolitan city.' Computer Communications, Vol.153, pp.353-366, March, 2020. Feel free to look at this if you want more information about the dataset.\n",
    "\n",
    "The data is stored in a CSV (comma separated variable) file and contains the following information \n",
    "\n",
    " - Date: year-month-day\n",
    " - Rented Bike Count: Count of bikes rented at each hour\n",
    " - Hour: Hour of the day\n",
    " - Temperature: Temperature in Celsius\n",
    " - Humidity: %\n",
    " - Windspeed: m/s\n",
    " - Visibility: 10m\n",
    " - Dew point temperature: Celsius\n",
    " - Solar radiation: MJ/m2\n",
    " - Rainfall: mm\n",
    " - Snowfall: cm\n",
    " - Seasons: Winter, Spring, Summer, Autumn\n",
    " - Holiday: Holiday/No holiday\n",
    " - Functional Day: NoFunc(Non Functional Hours), Fun(Functional hours)\n",
    "\n",
    "**Load the data set from the csv file into a DataFrame, and summarise it with at least two appropriate pandas functions.**\n",
    "\n",
    "_Points:_ 2"
   ]
  },
  {
   "cell_type": "code",
   "execution_count": 32,
   "id": "030b7803-61e3-4181-b20b-714c0a1ec542",
   "metadata": {
    "tags": []
   },
   "outputs": [],
   "source": [
    "# Load the data \n",
    "data = pd.read_csv(\"SeoulBikeData.csv\")\n",
    "\n",
    "# Take a peek into the data \n",
    "# DOES NOT LOAD \n",
    "data.head()\n",
    "\n",
    "# The following code is used by the autograder, don't change it\n",
    "step1_sol = data.shape"
   ]
  },
  {
   "cell_type": "code",
   "execution_count": 33,
   "id": "1a844615-d7f5-46b7-833a-f3ff4f5634b0",
   "metadata": {},
   "outputs": [
    {
     "name": "stdout",
     "output_type": "stream",
     "text": [
      "<class 'pandas.core.frame.DataFrame'>\n",
      "RangeIndex: 8760 entries, 0 to 8759\n",
      "Data columns (total 14 columns):\n",
      " #   Column                     Non-Null Count  Dtype  \n",
      "---  ------                     --------------  -----  \n",
      " 0   Date                       8760 non-null   object \n",
      " 1   Rented Bike Count          8760 non-null   int64  \n",
      " 2   Hour                       8760 non-null   int64  \n",
      " 3   Temperature (C)            8760 non-null   float64\n",
      " 4   Humidity (%)               8760 non-null   int64  \n",
      " 5   Wind speed (m/s)           8759 non-null   float64\n",
      " 6   Visibility (10m)           8760 non-null   int64  \n",
      " 7   Dew point temperature (C)  8759 non-null   float64\n",
      " 8   Solar Radiation (MJ/m2)    8760 non-null   float64\n",
      " 9   Rainfall(mm)               8758 non-null   object \n",
      " 10  Snowfall (cm)              8760 non-null   object \n",
      " 11  Seasons                    8760 non-null   object \n",
      " 12  Holiday                    8760 non-null   object \n",
      " 13  Functioning Day            8760 non-null   object \n",
      "dtypes: float64(4), int64(4), object(6)\n",
      "memory usage: 958.3+ KB\n"
     ]
    }
   ],
   "source": [
    "# Load a description of the data\n",
    "\n",
    "# Note that the dataset contains 8760 instances which is considered small in context of Machine Learning.\n",
    "# This data set may not be large enough to run certain complex models optimally. \n",
    "# Some features appear to have null values, these need to be addressed before applying any models.\n",
    "\n",
    "data.info()"
   ]
  },
  {
   "cell_type": "code",
   "execution_count": 34,
   "id": "afdcae68-446d-4fbb-bd3d-9e0816dac255",
   "metadata": {},
   "outputs": [
    {
     "data": {
      "text/plain": [
       "Seasons\n",
       "Spring    2208\n",
       "Summer    2208\n",
       "Autumn    2184\n",
       "Winter    2160\n",
       "Name: count, dtype: int64"
      ]
     },
     "execution_count": 34,
     "metadata": {},
     "output_type": "execute_result"
    }
   ],
   "source": [
    "# Load the season categories with count\n",
    "data[\"Seasons\"].value_counts()"
   ]
  },
  {
   "cell_type": "code",
   "execution_count": 35,
   "id": "f8c4eb1e-0051-405a-99d4-1645962b8554",
   "metadata": {},
   "outputs": [
    {
     "data": {
      "text/html": [
       "<div>\n",
       "<style scoped>\n",
       "    .dataframe tbody tr th:only-of-type {\n",
       "        vertical-align: middle;\n",
       "    }\n",
       "\n",
       "    .dataframe tbody tr th {\n",
       "        vertical-align: top;\n",
       "    }\n",
       "\n",
       "    .dataframe thead th {\n",
       "        text-align: right;\n",
       "    }\n",
       "</style>\n",
       "<table border=\"1\" class=\"dataframe\">\n",
       "  <thead>\n",
       "    <tr style=\"text-align: right;\">\n",
       "      <th></th>\n",
       "      <th>Rented Bike Count</th>\n",
       "      <th>Hour</th>\n",
       "      <th>Temperature (C)</th>\n",
       "      <th>Humidity (%)</th>\n",
       "      <th>Wind speed (m/s)</th>\n",
       "      <th>Visibility (10m)</th>\n",
       "      <th>Dew point temperature (C)</th>\n",
       "      <th>Solar Radiation (MJ/m2)</th>\n",
       "    </tr>\n",
       "  </thead>\n",
       "  <tbody>\n",
       "    <tr>\n",
       "      <th>count</th>\n",
       "      <td>8760.000000</td>\n",
       "      <td>8760.000000</td>\n",
       "      <td>8760.000000</td>\n",
       "      <td>8760.000000</td>\n",
       "      <td>8759.000000</td>\n",
       "      <td>8760.000000</td>\n",
       "      <td>8759.000000</td>\n",
       "      <td>8760.000000</td>\n",
       "    </tr>\n",
       "    <tr>\n",
       "      <th>mean</th>\n",
       "      <td>704.602055</td>\n",
       "      <td>11.502740</td>\n",
       "      <td>12.914361</td>\n",
       "      <td>58.240183</td>\n",
       "      <td>1.953237</td>\n",
       "      <td>1436.442808</td>\n",
       "      <td>4.074369</td>\n",
       "      <td>0.569111</td>\n",
       "    </tr>\n",
       "    <tr>\n",
       "      <th>std</th>\n",
       "      <td>644.997468</td>\n",
       "      <td>6.922779</td>\n",
       "      <td>12.347109</td>\n",
       "      <td>20.584774</td>\n",
       "      <td>21.376612</td>\n",
       "      <td>608.827735</td>\n",
       "      <td>13.061011</td>\n",
       "      <td>0.868746</td>\n",
       "    </tr>\n",
       "    <tr>\n",
       "      <th>min</th>\n",
       "      <td>0.000000</td>\n",
       "      <td>0.000000</td>\n",
       "      <td>-17.800000</td>\n",
       "      <td>-26.000000</td>\n",
       "      <td>0.000000</td>\n",
       "      <td>-678.000000</td>\n",
       "      <td>-30.600000</td>\n",
       "      <td>0.000000</td>\n",
       "    </tr>\n",
       "    <tr>\n",
       "      <th>25%</th>\n",
       "      <td>191.000000</td>\n",
       "      <td>6.000000</td>\n",
       "      <td>3.500000</td>\n",
       "      <td>42.000000</td>\n",
       "      <td>0.900000</td>\n",
       "      <td>939.500000</td>\n",
       "      <td>-4.700000</td>\n",
       "      <td>0.000000</td>\n",
       "    </tr>\n",
       "    <tr>\n",
       "      <th>50%</th>\n",
       "      <td>504.500000</td>\n",
       "      <td>12.000000</td>\n",
       "      <td>13.700000</td>\n",
       "      <td>57.000000</td>\n",
       "      <td>1.500000</td>\n",
       "      <td>1697.500000</td>\n",
       "      <td>5.100000</td>\n",
       "      <td>0.010000</td>\n",
       "    </tr>\n",
       "    <tr>\n",
       "      <th>75%</th>\n",
       "      <td>1065.250000</td>\n",
       "      <td>18.000000</td>\n",
       "      <td>22.500000</td>\n",
       "      <td>74.000000</td>\n",
       "      <td>2.300000</td>\n",
       "      <td>2000.000000</td>\n",
       "      <td>14.800000</td>\n",
       "      <td>0.930000</td>\n",
       "    </tr>\n",
       "    <tr>\n",
       "      <th>max</th>\n",
       "      <td>3556.000000</td>\n",
       "      <td>24.000000</td>\n",
       "      <td>306.000000</td>\n",
       "      <td>309.000000</td>\n",
       "      <td>2000.000000</td>\n",
       "      <td>2000.000000</td>\n",
       "      <td>27.200000</td>\n",
       "      <td>3.520000</td>\n",
       "    </tr>\n",
       "  </tbody>\n",
       "</table>\n",
       "</div>"
      ],
      "text/plain": [
       "       Rented Bike Count         Hour  Temperature (C)  Humidity (%)  \\\n",
       "count        8760.000000  8760.000000      8760.000000   8760.000000   \n",
       "mean          704.602055    11.502740        12.914361     58.240183   \n",
       "std           644.997468     6.922779        12.347109     20.584774   \n",
       "min             0.000000     0.000000       -17.800000    -26.000000   \n",
       "25%           191.000000     6.000000         3.500000     42.000000   \n",
       "50%           504.500000    12.000000        13.700000     57.000000   \n",
       "75%          1065.250000    18.000000        22.500000     74.000000   \n",
       "max          3556.000000    24.000000       306.000000    309.000000   \n",
       "\n",
       "       Wind speed (m/s)  Visibility (10m)  Dew point temperature (C)  \\\n",
       "count       8759.000000       8760.000000                8759.000000   \n",
       "mean           1.953237       1436.442808                   4.074369   \n",
       "std           21.376612        608.827735                  13.061011   \n",
       "min            0.000000       -678.000000                 -30.600000   \n",
       "25%            0.900000        939.500000                  -4.700000   \n",
       "50%            1.500000       1697.500000                   5.100000   \n",
       "75%            2.300000       2000.000000                  14.800000   \n",
       "max         2000.000000       2000.000000                  27.200000   \n",
       "\n",
       "       Solar Radiation (MJ/m2)  \n",
       "count              8760.000000  \n",
       "mean                  0.569111  \n",
       "std                   0.868746  \n",
       "min                   0.000000  \n",
       "25%                   0.000000  \n",
       "50%                   0.010000  \n",
       "75%                   0.930000  \n",
       "max                   3.520000  "
      ]
     },
     "execution_count": 35,
     "metadata": {},
     "output_type": "execute_result"
    }
   ],
   "source": [
    "# Summary of Temperature, humidity, wind speed and visibility attributes\n",
    "\n",
    "# Checking for outliers or unusal values i.e. humiditity less than 0 \n",
    "\n",
    "data.describe()"
   ]
  },
  {
   "cell_type": "markdown",
   "id": "dd67aa65-c02d-417f-8977-81edc91fea7c",
   "metadata": {
    "deletable": false,
    "editable": false
   },
   "source": [
    "grader.check(\"step01\")"
   ]
  },
  {
   "cell_type": "markdown",
   "id": "24ff81dd-e750-4ee7-96c0-65d0f9152b1f",
   "metadata": {
    "deletable": false,
    "editable": false
   },
   "source": [
    "**STEP02:** To get a feeling for the data it is a good idea to do some form of simple visualisation. Display a set of histograms for the features as they are right now, prior to any cleaning steps.\n",
    "\n",
    "_Points:_ 0"
   ]
  },
  {
   "cell_type": "code",
   "execution_count": 36,
   "id": "686c030f-3cfe-4c56-86a3-1b6b0d52d4ab",
   "metadata": {
    "scrolled": true,
    "tags": []
   },
   "outputs": [
    {
     "data": {
      "image/png": "[encoded data removed]",
      "text/plain": [
       "<Figure size 2000x2000 with 9 Axes>"
      ]
     },
     "metadata": {},
     "output_type": "display_data"
    }
   ],
   "source": [
    "data.hist(bins=50, figsize=(20,20))\n",
    "plt.show()"
   ]
  },
  {
   "cell_type": "markdown",
   "id": "ad69b11b-e5b9-4fe7-9609-6bc49b54fdfd",
   "metadata": {
    "deletable": false,
    "editable": false
   },
   "source": [
    "grader.check(\"step02\")"
   ]
  },
  {
   "cell_type": "markdown",
   "id": "ea0f972b-279b-4c48-b088-e342a264bce3",
   "metadata": {
    "deletable": false,
    "editable": false,
    "tags": []
   },
   "source": [
    "**STEP03:** The \"Functioning Day\" feature records whether the bike rental was open for business on that day. For this assignment we are only interested in predicting demand on days when the business is open, so remove rows from the DataFrame where the business is closed. After doing this, delete the Functioning Day feature from the DataFrame and verify that this worked. **While you might solve this question in one way, be aware that there are multiple methods to achieve the same result in pandas, and these methods might be the subject of a question in the PracQuiz1 about this assignment.**\n",
    "\n",
    "_Points:_ 3"
   ]
  },
  {
   "cell_type": "code",
   "execution_count": 37,
   "id": "dc13def6-6cd2-4350-90e7-d19d857b680c",
   "metadata": {
    "tags": []
   },
   "outputs": [
    {
     "name": "stdout",
     "output_type": "stream",
     "text": [
      "Empty DataFrame\n",
      "Columns: [Date, Rented Bike Count, Hour, Temperature (C), Humidity (%), Wind speed (m/s), Visibility (10m), Dew point temperature (C), Solar Radiation (MJ/m2), Rainfall(mm), Snowfall (cm), Seasons, Holiday, Functioning Day]\n",
      "Index: []\n"
     ]
    }
   ],
   "source": [
    "# Sanity check (ensure non bussiness days do not contain ant bike rentals)\n",
    "\n",
    "print(data[(data['Functioning Day'] == 'No') & (data['Rented Bike Count'] != 0)])\n",
    "\n",
    "# Now remove rows which represent non-bussiness days \n",
    "data = data[data['Functioning Day'] == 'Yes']\n",
    "\n",
    "# Delete the functioning Day feature \n",
    "data.drop(columns=['Functioning Day'], inplace=True)\n",
    "\n",
    "# The following code is used by the autograder\n",
    "# make sure your variable that contains that data from this step is the one assigned to step3_data\n",
    "step3_data = data.copy()"
   ]
  },
  {
   "cell_type": "code",
   "execution_count": 38,
   "id": "0fd0ca05-6f08-44c9-a0d8-77184e3fe5fb",
   "metadata": {},
   "outputs": [
    {
     "name": "stdout",
     "output_type": "stream",
     "text": [
      "<class 'pandas.core.frame.DataFrame'>\n",
      "Index: 8465 entries, 0 to 8759\n",
      "Data columns (total 13 columns):\n",
      " #   Column                     Non-Null Count  Dtype  \n",
      "---  ------                     --------------  -----  \n",
      " 0   Date                       8465 non-null   object \n",
      " 1   Rented Bike Count          8465 non-null   int64  \n",
      " 2   Hour                       8465 non-null   int64  \n",
      " 3   Temperature (C)            8465 non-null   float64\n",
      " 4   Humidity (%)               8465 non-null   int64  \n",
      " 5   Wind speed (m/s)           8464 non-null   float64\n",
      " 6   Visibility (10m)           8465 non-null   int64  \n",
      " 7   Dew point temperature (C)  8464 non-null   float64\n",
      " 8   Solar Radiation (MJ/m2)    8465 non-null   float64\n",
      " 9   Rainfall(mm)               8463 non-null   object \n",
      " 10  Snowfall (cm)              8465 non-null   object \n",
      " 11  Seasons                    8465 non-null   object \n",
      " 12  Holiday                    8465 non-null   object \n",
      "dtypes: float64(4), int64(4), object(5)\n",
      "memory usage: 925.9+ KB\n"
     ]
    }
   ],
   "source": [
    "# check if deleted\n",
    "data.info()"
   ]
  },
  {
   "cell_type": "markdown",
   "id": "44529a2b-6879-4967-bce5-9a9e1fb7e1fc",
   "metadata": {
    "deletable": false,
    "editable": false
   },
   "source": [
    "grader.check(\"step03\")"
   ]
  },
  {
   "cell_type": "markdown",
   "id": "bba264cb-6af0-428c-9dd6-e9a3ee677f8f",
   "metadata": {
    "deletable": false,
    "editable": false,
    "tags": []
   },
   "source": [
    "**STEP04:** \n",
    "The goal is to predict bike rental demand using historical data. To achieve this, you will use regression techniques with \"Bike Rental Count\" as the target feature for this prediction, *but for this*, it is important that all other features in the data are numerical. Two of the features in the data, \"Holiday\" and \"Season\", need to be converted to numerical format. Write code to convert the \"Holiday\" feature to 0 or 1 from its current format. For the \"Season\" feature, add 4 new columns, labeled as \"Winter\", \"Spring\", \"Summer\", and \"Autumn\" then remove the \"Season\" column. Each of these columns should store a 0 or 1, depending on the corresponding season in each row. **While you might solve this question in one way, be aware that there are multiple methods to achieve the same result in pandas, and these methods might be the subject of a question in the PracQuiz1 about this assignment.**\n",
    "\n",
    "_Points:_ 3"
   ]
  },
  {
   "cell_type": "code",
   "execution_count": 39,
   "id": "bd81b7dd-84ba-4eea-ba70-b676bd9fa185",
   "metadata": {
    "tags": []
   },
   "outputs": [
    {
     "data": {
      "text/html": [
       "<div>\n",
       "<style scoped>\n",
       "    .dataframe tbody tr th:only-of-type {\n",
       "        vertical-align: middle;\n",
       "    }\n",
       "\n",
       "    .dataframe tbody tr th {\n",
       "        vertical-align: top;\n",
       "    }\n",
       "\n",
       "    .dataframe thead th {\n",
       "        text-align: right;\n",
       "    }\n",
       "</style>\n",
       "<table border=\"1\" class=\"dataframe\">\n",
       "  <thead>\n",
       "    <tr style=\"text-align: right;\">\n",
       "      <th></th>\n",
       "      <th>Date</th>\n",
       "      <th>Rented Bike Count</th>\n",
       "      <th>Hour</th>\n",
       "      <th>Temperature (C)</th>\n",
       "      <th>Humidity (%)</th>\n",
       "      <th>Wind speed (m/s)</th>\n",
       "      <th>Visibility (10m)</th>\n",
       "      <th>Dew point temperature (C)</th>\n",
       "      <th>Solar Radiation (MJ/m2)</th>\n",
       "      <th>Rainfall(mm)</th>\n",
       "      <th>Snowfall (cm)</th>\n",
       "      <th>Seasons</th>\n",
       "      <th>Holiday</th>\n",
       "    </tr>\n",
       "  </thead>\n",
       "  <tbody>\n",
       "    <tr>\n",
       "      <th>0</th>\n",
       "      <td>01/12/2017</td>\n",
       "      <td>254</td>\n",
       "      <td>0</td>\n",
       "      <td>-5.2</td>\n",
       "      <td>37</td>\n",
       "      <td>2.2</td>\n",
       "      <td>2000</td>\n",
       "      <td>-17.6</td>\n",
       "      <td>0.0</td>\n",
       "      <td>0</td>\n",
       "      <td>0</td>\n",
       "      <td>Winter</td>\n",
       "      <td>0</td>\n",
       "    </tr>\n",
       "    <tr>\n",
       "      <th>1</th>\n",
       "      <td>01/12/2017</td>\n",
       "      <td>204</td>\n",
       "      <td>1</td>\n",
       "      <td>-5.5</td>\n",
       "      <td>38</td>\n",
       "      <td>0.8</td>\n",
       "      <td>2000</td>\n",
       "      <td>-17.6</td>\n",
       "      <td>0.0</td>\n",
       "      <td>0</td>\n",
       "      <td>0</td>\n",
       "      <td>Winter</td>\n",
       "      <td>0</td>\n",
       "    </tr>\n",
       "    <tr>\n",
       "      <th>2</th>\n",
       "      <td>01/12/2017</td>\n",
       "      <td>173</td>\n",
       "      <td>2</td>\n",
       "      <td>-6.0</td>\n",
       "      <td>39</td>\n",
       "      <td>1.0</td>\n",
       "      <td>2000</td>\n",
       "      <td>-17.7</td>\n",
       "      <td>0.0</td>\n",
       "      <td>0</td>\n",
       "      <td>0</td>\n",
       "      <td>Winter</td>\n",
       "      <td>0</td>\n",
       "    </tr>\n",
       "    <tr>\n",
       "      <th>3</th>\n",
       "      <td>01/12/2017</td>\n",
       "      <td>107</td>\n",
       "      <td>3</td>\n",
       "      <td>-6.2</td>\n",
       "      <td>40</td>\n",
       "      <td>0.9</td>\n",
       "      <td>2000</td>\n",
       "      <td>-17.6</td>\n",
       "      <td>0.0</td>\n",
       "      <td>0</td>\n",
       "      <td>0</td>\n",
       "      <td>Winter</td>\n",
       "      <td>0</td>\n",
       "    </tr>\n",
       "    <tr>\n",
       "      <th>4</th>\n",
       "      <td>01/12/2017</td>\n",
       "      <td>78</td>\n",
       "      <td>4</td>\n",
       "      <td>-6.0</td>\n",
       "      <td>36</td>\n",
       "      <td>2.3</td>\n",
       "      <td>2000</td>\n",
       "      <td>-18.6</td>\n",
       "      <td>0.0</td>\n",
       "      <td>0</td>\n",
       "      <td>0</td>\n",
       "      <td>Winter</td>\n",
       "      <td>0</td>\n",
       "    </tr>\n",
       "  </tbody>\n",
       "</table>\n",
       "</div>"
      ],
      "text/plain": [
       "         Date  Rented Bike Count  Hour  Temperature (C)  Humidity (%)  \\\n",
       "0  01/12/2017                254     0             -5.2            37   \n",
       "1  01/12/2017                204     1             -5.5            38   \n",
       "2  01/12/2017                173     2             -6.0            39   \n",
       "3  01/12/2017                107     3             -6.2            40   \n",
       "4  01/12/2017                 78     4             -6.0            36   \n",
       "\n",
       "   Wind speed (m/s)  Visibility (10m)  Dew point temperature (C)  \\\n",
       "0               2.2              2000                      -17.6   \n",
       "1               0.8              2000                      -17.6   \n",
       "2               1.0              2000                      -17.7   \n",
       "3               0.9              2000                      -17.6   \n",
       "4               2.3              2000                      -18.6   \n",
       "\n",
       "   Solar Radiation (MJ/m2) Rainfall(mm) Snowfall (cm) Seasons  Holiday  \n",
       "0                      0.0            0             0  Winter        0  \n",
       "1                      0.0            0             0  Winter        0  \n",
       "2                      0.0            0             0  Winter        0  \n",
       "3                      0.0            0             0  Winter        0  \n",
       "4                      0.0            0             0  Winter        0  "
      ]
     },
     "execution_count": 39,
     "metadata": {},
     "output_type": "execute_result"
    }
   ],
   "source": [
    "# convert holiday feature to 0 or 1\n",
    "data['Holiday'] = data['Holiday'].map({'No Holiday':0, 'Holiday':1})\n",
    "\n",
    "# view and verify Holiday feature \n",
    "data.head()\n",
    "\n",
    "# Moving this code after the last cell of part 4\n",
    "# The following code is used by the autograder, don't change it\n",
    "# step4_data = data.copy()"
   ]
  },
  {
   "cell_type": "code",
   "execution_count": 40,
   "id": "e4fdcbfc-6b95-48fb-91f6-d8b7466ef664",
   "metadata": {},
   "outputs": [],
   "source": [
    "# Season feature \n",
    "\n",
    "# Initialise encoder \n",
    "encoder = OneHotEncoder()\n",
    "\n",
    "# Apply fit transform to convert categorical variables to array\n",
    "seasons_encoder = encoder.fit_transform(data[['Seasons']]).toarray()\n",
    "\n",
    "# Creating data frames for encoded seasons \n",
    "seasons = pd.DataFrame(seasons_encoder, columns=encoder.categories_[0])\n",
    "\n",
    "# concatenate seasons with orginal data \n",
    "data=data.join(seasons)\n",
    "\n",
    "# delete the season feature \n",
    "data = data.drop(['Seasons'], axis=1)\n",
    "\n",
    "# verify \n",
    "data.head()\n",
    "\n",
    "# The following code is used by the autograder, don't change it\n",
    "step4_data = data.copy()"
   ]
  },
  {
   "cell_type": "markdown",
   "id": "49402cfb-2331-4524-81ad-a750e8690edf",
   "metadata": {
    "deletable": false,
    "editable": false
   },
   "source": [
    "grader.check(\"step04\")"
   ]
  },
  {
   "cell_type": "markdown",
   "id": "8621bb16-d096-49b7-a73b-c4ecbd253f6e",
   "metadata": {
    "deletable": false,
    "editable": false,
    "tags": []
   },
   "source": [
    "**STEP05**: It is known that bike rentals depend strongly on whether it's a weekday or a weekend. Replace the Date feature with a Weekday feature that stores 0 or 1 depending on whether the date represents a weekend or weekday. **While you might solve this question in one way, be aware that there are multiple methods to achieve the same result in pandas, and these methods might be the subject of a question in the PracQuiz1 about this assignment.**\n",
    "\n",
    "_Points:_ 3"
   ]
  },
  {
   "cell_type": "code",
   "execution_count": 41,
   "id": "69895a7f-3694-40a1-acf0-36a48f4a5baf",
   "metadata": {
    "tags": []
   },
   "outputs": [],
   "source": [
    "# Function to check if day is a weekday or not\n",
    "def is_weekday(datestring):\n",
    "    # split to extract year, month and date\n",
    "    dsplit = datestring.split('/')\n",
    "    # weekday() returns 0 if Monday ..., 6 if Sunday \n",
    "    weekday = datetime.datetime(int(dsplit[2]),int(dsplit[1]),int(dsplit[0])).weekday()\n",
    "    # returns 0 if weekday, 1 if weekend\n",
    "    return int(weekday<=4)\n",
    "\n",
    "# Apply function to data \n",
    "data['Weekday']=data['Date'].transform(is_weekday)\n",
    "\n",
    "# Remove date feature\n",
    "data = data.drop(['Date'], axis=1)\n",
    "\n",
    "# The following code is used by the autograder\n",
    "# make sure your variable that contains that data from this step is the one assigned to step5_data\n",
    "step5_data = data.copy()"
   ]
  },
  {
   "cell_type": "code",
   "execution_count": 42,
   "id": "d65692f7-9cc3-4837-8179-f6a66d13bcb5",
   "metadata": {},
   "outputs": [
    {
     "data": {
      "text/html": [
       "<div>\n",
       "<style scoped>\n",
       "    .dataframe tbody tr th:only-of-type {\n",
       "        vertical-align: middle;\n",
       "    }\n",
       "\n",
       "    .dataframe tbody tr th {\n",
       "        vertical-align: top;\n",
       "    }\n",
       "\n",
       "    .dataframe thead th {\n",
       "        text-align: right;\n",
       "    }\n",
       "</style>\n",
       "<table border=\"1\" class=\"dataframe\">\n",
       "  <thead>\n",
       "    <tr style=\"text-align: right;\">\n",
       "      <th></th>\n",
       "      <th>Rented Bike Count</th>\n",
       "      <th>Hour</th>\n",
       "      <th>Temperature (C)</th>\n",
       "      <th>Humidity (%)</th>\n",
       "      <th>Wind speed (m/s)</th>\n",
       "      <th>Visibility (10m)</th>\n",
       "      <th>Dew point temperature (C)</th>\n",
       "      <th>Solar Radiation (MJ/m2)</th>\n",
       "      <th>Rainfall(mm)</th>\n",
       "      <th>Snowfall (cm)</th>\n",
       "      <th>Holiday</th>\n",
       "      <th>Autumn</th>\n",
       "      <th>Spring</th>\n",
       "      <th>Summer</th>\n",
       "      <th>Winter</th>\n",
       "      <th>Weekday</th>\n",
       "    </tr>\n",
       "  </thead>\n",
       "  <tbody>\n",
       "    <tr>\n",
       "      <th>0</th>\n",
       "      <td>254</td>\n",
       "      <td>0</td>\n",
       "      <td>-5.2</td>\n",
       "      <td>37</td>\n",
       "      <td>2.2</td>\n",
       "      <td>2000</td>\n",
       "      <td>-17.6</td>\n",
       "      <td>0.0</td>\n",
       "      <td>0</td>\n",
       "      <td>0</td>\n",
       "      <td>0</td>\n",
       "      <td>0.0</td>\n",
       "      <td>0.0</td>\n",
       "      <td>0.0</td>\n",
       "      <td>1.0</td>\n",
       "      <td>1</td>\n",
       "    </tr>\n",
       "    <tr>\n",
       "      <th>1</th>\n",
       "      <td>204</td>\n",
       "      <td>1</td>\n",
       "      <td>-5.5</td>\n",
       "      <td>38</td>\n",
       "      <td>0.8</td>\n",
       "      <td>2000</td>\n",
       "      <td>-17.6</td>\n",
       "      <td>0.0</td>\n",
       "      <td>0</td>\n",
       "      <td>0</td>\n",
       "      <td>0</td>\n",
       "      <td>0.0</td>\n",
       "      <td>0.0</td>\n",
       "      <td>0.0</td>\n",
       "      <td>1.0</td>\n",
       "      <td>1</td>\n",
       "    </tr>\n",
       "    <tr>\n",
       "      <th>2</th>\n",
       "      <td>173</td>\n",
       "      <td>2</td>\n",
       "      <td>-6.0</td>\n",
       "      <td>39</td>\n",
       "      <td>1.0</td>\n",
       "      <td>2000</td>\n",
       "      <td>-17.7</td>\n",
       "      <td>0.0</td>\n",
       "      <td>0</td>\n",
       "      <td>0</td>\n",
       "      <td>0</td>\n",
       "      <td>0.0</td>\n",
       "      <td>0.0</td>\n",
       "      <td>0.0</td>\n",
       "      <td>1.0</td>\n",
       "      <td>1</td>\n",
       "    </tr>\n",
       "    <tr>\n",
       "      <th>3</th>\n",
       "      <td>107</td>\n",
       "      <td>3</td>\n",
       "      <td>-6.2</td>\n",
       "      <td>40</td>\n",
       "      <td>0.9</td>\n",
       "      <td>2000</td>\n",
       "      <td>-17.6</td>\n",
       "      <td>0.0</td>\n",
       "      <td>0</td>\n",
       "      <td>0</td>\n",
       "      <td>0</td>\n",
       "      <td>0.0</td>\n",
       "      <td>0.0</td>\n",
       "      <td>0.0</td>\n",
       "      <td>1.0</td>\n",
       "      <td>1</td>\n",
       "    </tr>\n",
       "    <tr>\n",
       "      <th>4</th>\n",
       "      <td>78</td>\n",
       "      <td>4</td>\n",
       "      <td>-6.0</td>\n",
       "      <td>36</td>\n",
       "      <td>2.3</td>\n",
       "      <td>2000</td>\n",
       "      <td>-18.6</td>\n",
       "      <td>0.0</td>\n",
       "      <td>0</td>\n",
       "      <td>0</td>\n",
       "      <td>0</td>\n",
       "      <td>0.0</td>\n",
       "      <td>0.0</td>\n",
       "      <td>0.0</td>\n",
       "      <td>1.0</td>\n",
       "      <td>1</td>\n",
       "    </tr>\n",
       "  </tbody>\n",
       "</table>\n",
       "</div>"
      ],
      "text/plain": [
       "   Rented Bike Count  Hour  Temperature (C)  Humidity (%)  Wind speed (m/s)  \\\n",
       "0                254     0             -5.2            37               2.2   \n",
       "1                204     1             -5.5            38               0.8   \n",
       "2                173     2             -6.0            39               1.0   \n",
       "3                107     3             -6.2            40               0.9   \n",
       "4                 78     4             -6.0            36               2.3   \n",
       "\n",
       "   Visibility (10m)  Dew point temperature (C)  Solar Radiation (MJ/m2)  \\\n",
       "0              2000                      -17.6                      0.0   \n",
       "1              2000                      -17.6                      0.0   \n",
       "2              2000                      -17.7                      0.0   \n",
       "3              2000                      -17.6                      0.0   \n",
       "4              2000                      -18.6                      0.0   \n",
       "\n",
       "  Rainfall(mm) Snowfall (cm)  Holiday  Autumn  Spring  Summer  Winter  Weekday  \n",
       "0            0             0        0     0.0     0.0     0.0     1.0        1  \n",
       "1            0             0        0     0.0     0.0     0.0     1.0        1  \n",
       "2            0             0        0     0.0     0.0     0.0     1.0        1  \n",
       "3            0             0        0     0.0     0.0     0.0     1.0        1  \n",
       "4            0             0        0     0.0     0.0     0.0     1.0        1  "
      ]
     },
     "execution_count": 42,
     "metadata": {},
     "output_type": "execute_result"
    }
   ],
   "source": [
    "# verify \n",
    "data.head()"
   ]
  },
  {
   "cell_type": "markdown",
   "id": "b354885a-254d-4790-a1db-0ce9bf7fccdf",
   "metadata": {
    "deletable": false,
    "editable": false
   },
   "source": [
    "grader.check(\"step05\")"
   ]
  },
  {
   "cell_type": "markdown",
   "id": "0cd3b55b-53b8-4293-a6a0-42c4b478ed0f",
   "metadata": {
    "deletable": false,
    "editable": false,
    "tags": []
   },
   "source": [
    "**STEP06** Convert all the remaining data to numerical format, with any non-numerical entries set to NaN.\n",
    "\n",
    "_Points:_ 3"
   ]
  },
  {
   "cell_type": "code",
   "execution_count": 43,
   "id": "e7f87537-10a4-4216-9cc9-862acfe5e5f8",
   "metadata": {
    "tags": []
   },
   "outputs": [],
   "source": [
    "# Following on from workshop 2, using function to_numeric \n",
    "data = data.apply(pd.to_numeric, errors='coerce')\n",
    "\n",
    "# The following code is used by the autograder\n",
    "# make sure your variable that contains that DataFrame from this step is the one assigned to step6_data\n",
    "step6_data = data.copy()"
   ]
  },
  {
   "cell_type": "markdown",
   "id": "55748aaa-00d5-4475-96ae-b8b48188dcbf",
   "metadata": {
    "deletable": false,
    "editable": false
   },
   "source": [
    "grader.check(\"step06\")"
   ]
  },
  {
   "cell_type": "code",
   "execution_count": 44,
   "id": "9db79387-22f3-4a4a-a2f1-7b259a6b8d52",
   "metadata": {},
   "outputs": [
    {
     "name": "stdout",
     "output_type": "stream",
     "text": [
      "<class 'pandas.core.frame.DataFrame'>\n",
      "Index: 8465 entries, 0 to 8759\n",
      "Data columns (total 16 columns):\n",
      " #   Column                     Non-Null Count  Dtype  \n",
      "---  ------                     --------------  -----  \n",
      " 0   Rented Bike Count          8465 non-null   int64  \n",
      " 1   Hour                       8465 non-null   int64  \n",
      " 2   Temperature (C)            8465 non-null   float64\n",
      " 3   Humidity (%)               8465 non-null   int64  \n",
      " 4   Wind speed (m/s)           8464 non-null   float64\n",
      " 5   Visibility (10m)           8465 non-null   int64  \n",
      " 6   Dew point temperature (C)  8464 non-null   float64\n",
      " 7   Solar Radiation (MJ/m2)    8465 non-null   float64\n",
      " 8   Rainfall(mm)               8440 non-null   float64\n",
      " 9   Snowfall (cm)              8442 non-null   float64\n",
      " 10  Holiday                    8465 non-null   int64  \n",
      " 11  Autumn                     8170 non-null   float64\n",
      " 12  Spring                     8170 non-null   float64\n",
      " 13  Summer                     8170 non-null   float64\n",
      " 14  Winter                     8170 non-null   float64\n",
      " 15  Weekday                    8465 non-null   int64  \n",
      "dtypes: float64(10), int64(6)\n",
      "memory usage: 1.3 MB\n"
     ]
    }
   ],
   "source": [
    "# verify \n",
    "data.info()"
   ]
  },
  {
   "cell_type": "markdown",
   "id": "17368290-e030-4f1f-9e25-a71386952da8",
   "metadata": {
    "deletable": false,
    "editable": false,
    "tags": []
   },
   "source": [
    "**STEP07** Examin the data and identify problematic entries. Set any problematic values in the numerical data to `np.nan` and check that this has worked. Once this is done, specify a **sklearn *pipeline* that will perform imputation** to replace problematic entries (nan values) with an appropriate **median** value ***and* any other pre-processing** that you think should be used. Just specify the pipeline - do ***not*** run it now.\n",
    "\n",
    "_Points:_ 3"
   ]
  },
  {
   "cell_type": "code",
   "execution_count": 45,
   "id": "bc32f339-8d1e-4351-8b7d-62a5f1a4b11f",
   "metadata": {
    "tags": []
   },
   "outputs": [],
   "source": [
    "from sklearn.base import BaseEstimator, TransformerMixin\n",
    "from sklearn.pipeline import Pipeline\n",
    "from sklearn.impute import SimpleImputer\n",
    "from sklearn.preprocessing import StandardScaler\n",
    "import numpy as np\n",
    "\n",
    "# no problamatic values\n",
    "#print(data.isna().sum())\n",
    "\n",
    "# pre-processing \n",
    "\n",
    "#data[data[\"Temperature (C)\"] > 50] = np.nan\n",
    "#data[data[\"Wind speed (m/s)\"] > 50] = np.nan\n",
    "#data[data[\"Visibility (10m)\"] < 10] = np.nan\n",
    "#data[data[\"Humidity (%)\"] < 0] = np.nan\n",
    "\n",
    "# replace unusal values with np.nan\n",
    "class custom_transformer(BaseEstimator, TransformerMixin):\n",
    "    def __init__(self, use_features=True):\n",
    "        self.use_features = use_features\n",
    "    \n",
    "    def fit(self, data, y=None):\n",
    "        return self\n",
    "    \n",
    "    def transform(self, data, Y=None):\n",
    "        data = data.copy()\n",
    "\n",
    "        # Replace unusual values with NaN\n",
    "        data.loc[(data['Temperature (C)'] < -50) | (data['Temperature (C)'] > 50), 'Temperature (C)'] = np.nan\n",
    "        data.loc[(data['Humidity (%)'] < 0) | (data['Humidity (%)'] > 100), 'Humidity (%)'] = np.nan\n",
    "        data.loc[(data['Wind speed (m/s)'] < 0) | (data['Wind speed (m/s)'] > 50), 'Wind speed (m/s)'] = np.nan\n",
    "        data.loc[data['Visibility (10m)'] < 0, 'Visibility (10m)'] = np.nan\n",
    "\n",
    "        if self.use_features:\n",
    "            data = data[['Temperature (C)', 'Hour', 'Dew point temperature (C)', 'Winter']].copy()\n",
    "\n",
    "        return data\n",
    "        \n",
    "# keep the variable name pipeline_step7 as you will use it in STEP09\n",
    "# define the pipeline \n",
    "pipeline_step7 = Pipeline([\n",
    "    ('custom_transformer', custom_transformer(use_features=False)),\n",
    "    ('imputer', SimpleImputer(strategy='median')),\n",
    "    ('scaler', StandardScaler()),\n",
    "])\n",
    "\n",
    "pipeline_step7.fit_transform(data)\n",
    "\n",
    "#print(\"Transformed data:\")\n",
    "#print(data.head())\n",
    "\n",
    "# The following code is used by the autograder\n",
    "# make sure your variable that contains the solutions from this step is the one assigned to step7_data as follows\n",
    "step7_data = [data.copy(),pipeline_step7]"
   ]
  },
  {
   "cell_type": "markdown",
   "id": "c660fe6c-fa1a-4ceb-bba3-d8b8a40d79a1",
   "metadata": {
    "deletable": false,
    "editable": false
   },
   "source": [
    "grader.check(\"step07\")"
   ]
  },
  {
   "cell_type": "markdown",
   "id": "290c1079-68f5-4881-86b2-f45dd92ca557",
   "metadata": {
    "deletable": false,
    "editable": false,
    "tags": []
   },
   "source": [
    "**STEP08:** Generate a pre-processed version of the entire dataset by applying the pipeline defined in STEP07. Then, calculate the correlation of each feature with the target using either the pandas function corr() or numpy corrcoef() and find the 3 attributes that are the most correlated with bike rentals. \n",
    "\n",
    "_Points:_ 3"
   ]
  },
  {
   "cell_type": "code",
   "execution_count": 46,
   "id": "933518f8-fd5d-4df4-9f69-74b46a15aa51",
   "metadata": {
    "tags": []
   },
   "outputs": [
    {
     "name": "stdout",
     "output_type": "stream",
     "text": [
      "['Temperature (C)', 'Winter', 'Hour']\n"
     ]
    }
   ],
   "source": [
    "# Apply the pipeline\n",
    "data_temp = pipeline_step7.fit_transform(data)\n",
    "# NOTE: we do not want to use this again so we can ensure that the final model is trained on unseen data\n",
    "\n",
    "# caluclate the correlation \n",
    "# convert to data frame to calculate \n",
    "columns = [\"Rented Bike Count\",\t\"Hour\", \"Temperature (C)\", \"Humidity (%)\", \"Wind speed (m/s)\",\t\"Visibility (10m)\",\t\n",
    "           \"Dew point temperature (C)\", \"Solar Radiation (MJ/m2)\", \"Rainfall(mm)\", \"Snowfall (cm)\",\t\"Holiday\", \"Autumn\", \"Spring\", \"Summer\", \"Winter\", \"Weekday\"]\n",
    "\n",
    "data_temp_dataframe = pd.DataFrame(data_temp, columns=columns)\n",
    "\n",
    "correlation_matrix = data_temp_dataframe.corr()\n",
    "correlation_matrix[\"Rented Bike Count\"].abs().sort_values(ascending=False)\n",
    "\n",
    "# find three attributes most correlated \n",
    "# top_3 should be an array of 3 strings ['attribute name', 'attribute name','attribute name']\n",
    "top_3 = correlation_matrix[\"Rented Bike Count\"].abs()[1:].sort_values(ascending=False)[:3]\n",
    "# turn into a list so that so that it is fromatted as required by gradescope\n",
    "top_3 = top_3.index.values.tolist()\n",
    "print(top_3)\n",
    "\n",
    "# The following code is used by the autograder\n",
    "# make sure your variable that contains a list of the names of the top 3 attributes is assigned to step3_data\n",
    "step8_data = top_3.copy()"
   ]
  },
  {
   "cell_type": "markdown",
   "id": "fecf23bf-5c11-4cb9-acc2-670fd7c7ef04",
   "metadata": {
    "deletable": false,
    "editable": false
   },
   "source": [
    "grader.check(\"step08\")"
   ]
  },
  {
   "cell_type": "markdown",
   "id": "5930044f-1a46-4cdd-bc31-11cf9ba86c40",
   "metadata": {
    "deletable": false,
    "editable": false,
    "tags": []
   },
   "source": [
    "**STEP09:** Divide the data into training and test sets using where 20% of the data is kept for testing. Create a pipeline that includes the linear regression model in addition to the pipeline defined in STEP07. Fit the pipeline to the training set and calculate the `rmse` of the fit to evaluate its performance. As a comparison, compute the `rmse` that would be obtained by predicting the mean value of bike rentals for all training examples.\n",
    "\n",
    "_Points:_ 3"
   ]
  },
  {
   "cell_type": "code",
   "execution_count": 47,
   "id": "7ab7b511-5127-44fc-95e0-2adf4e3ac2fc",
   "metadata": {
    "tags": []
   },
   "outputs": [
    {
     "name": "stdout",
     "output_type": "stream",
     "text": [
      "Linear Regression RMSE Model: 436.3385393855526\n",
      "RMSE Baseline Model: 646.170499547999\n",
      "RMSE for training data: 436.3385393855526\n",
      "RMSE for baseline (predicting mean): 646.170499547999\n"
     ]
    }
   ],
   "source": [
    "# you can use make_pipline to create a new pipiline by adding a model at the end of pipeline_step7 or you can simply create a new pipeline. \n",
    "# whatever you end up doing, make sure it is called pipeline_step9\n",
    "from sklearn.pipeline import make_pipeline\n",
    "\n",
    "# Split the training and test set where 20% is kept for testing\n",
    "training_set, testing_set = train_test_split(data, test_size=0.2, random_state=42)\n",
    "\n",
    "# separating data as this is the value to predict\n",
    "X_train = training_set.drop([\"Rented Bike Count\"], axis=1)\n",
    "y_train = training_set[\"Rented Bike Count\"].copy()\n",
    "\n",
    "X_test = testing_set.drop([\"Rented Bike Count\"], axis=1)\n",
    "y_test = testing_set[\"Rented Bike Count\"].copy()\n",
    "\n",
    "# Linear regression pipeline including all features \n",
    "pipeline_step9 = Pipeline([\n",
    "    ('custom_transformer', custom_transformer(use_features=False)),\n",
    "    ('imputer', SimpleImputer(strategy='median')),\n",
    "    ('std_scaler', StandardScaler()),\n",
    "    ('lr',LinearRegression())\n",
    "])\n",
    "\n",
    "# Fit the training data\n",
    "\n",
    "# train\n",
    "pipeline_step9.fit(X_train, y_train)\n",
    "# predict \n",
    "Y_prediction_linear_regression = pipeline_step9.predict(X_train)\n",
    "\n",
    "# calculate the RMSE of the fit to the training data\n",
    "rmse_train = np.sqrt(mean_squared_error(Y_prediction_linear_regression, y_train))\n",
    "print(f'Linear Regression RMSE Model: {rmse_train}')\n",
    "\n",
    "# calculate the RMSE of the baseline model (by predicting the mean value of bike rentals for all training examples)\n",
    "baseline = np.full(y_train.shape, y_train.mean())\n",
    "rmse_baseline = mean_squared_error(y_train, baseline, squared=False)\n",
    "print(f'RMSE Baseline Model: {rmse_baseline}')\n",
    "\n",
    "print(\"RMSE for training data:\", rmse_train)\n",
    "print(\"RMSE for baseline (predicting mean):\", rmse_baseline)\n",
    "\n",
    "# The following code is used by the autograder\n",
    "# make sure your variable that contains that data from this step is the one assigned to step3_data\n",
    "step9_data = [rmse_train,rmse_baseline]"
   ]
  },
  {
   "cell_type": "code",
   "execution_count": 48,
   "id": "6f419c24-d2b5-4c36-90fa-ad9f64b53a0b",
   "metadata": {
    "tags": []
   },
   "outputs": [
    {
     "name": "stderr",
     "output_type": "stream",
     "text": [
      "C:\\Users\\honey\\anaconda3\\Lib\\site-packages\\seaborn\\_oldcore.py:1119: FutureWarning: use_inf_as_na option is deprecated and will be removed in a future version. Convert inf values to NaN before operating instead.\n",
      "  with pd.option_context('mode.use_inf_as_na', True):\n",
      "C:\\Users\\honey\\anaconda3\\Lib\\site-packages\\seaborn\\_oldcore.py:1119: FutureWarning: use_inf_as_na option is deprecated and will be removed in a future version. Convert inf values to NaN before operating instead.\n",
      "  with pd.option_context('mode.use_inf_as_na', True):\n"
     ]
    },
    {
     "data": {
      "text/plain": [
       "Text(0, 0.5, 'Predicted')"
      ]
     },
     "execution_count": 48,
     "metadata": {},
     "output_type": "execute_result"
    },
    {
     "data": {
      "image/png": "[encoded data removed]",
      "text/plain": [
       "<Figure size 640x480 with 1 Axes>"
      ]
     },
     "metadata": {},
     "output_type": "display_data"
    }
   ],
   "source": [
    "#The following code will show a visualisation of the fit for your linear regression.\n",
    "# I will use your pipeline_step9 to predict on 200 points from the training data\n",
    "subset_size = 200\n",
    "y_train_pred = pipeline_step9.predict(X_train[:subset_size])\n",
    "\n",
    "# Then I create a scatterplot of predicted vs actual values using your variables from the cell above\n",
    "ax = sns.scatterplot(x=y_train[:subset_size], y=y_train_pred)\n",
    "# A perfect solution would look like the red line\n",
    "sns.lineplot(x=y_train[:subset_size], y=y_train[:subset_size], color='red')\n",
    "ax.set_xlabel('Actual')\n",
    "ax.set_ylabel('Predicted')"
   ]
  },
  {
   "cell_type": "markdown",
   "id": "a88bd3ed-0f95-49a1-af42-2140c2f5c71b",
   "metadata": {
    "deletable": false,
    "editable": false
   },
   "source": [
    "grader.check(\"step09\")"
   ]
  },
  {
   "cell_type": "markdown",
   "id": "5f1b942b-85cd-41ff-9c2f-91f4e0b4b4af",
   "metadata": {
    "deletable": false,
    "editable": false,
    "tags": []
   },
   "source": [
    "**STEP10:**  Fit a Kernel Ridge regression model (imported from sklearn.kernel_ridge) to the X_train data from STEP09. Build a new pipeline that includes the Kernel Ridge regression model in addition to the pipeline defined in STEP07, and fit it to the training data using default settings. Generate a scatter plot of the predicted values against the actual values for the training data, and calculate the RMSE of the fit to the training data.\n",
    "\n",
    "_Points:_ 3"
   ]
  },
  {
   "cell_type": "code",
   "execution_count": 49,
   "id": "3dc5180a-f6b0-466d-9ce7-b81a9b64f465",
   "metadata": {
    "tags": []
   },
   "outputs": [
    {
     "name": "stdout",
     "output_type": "stream",
     "text": [
      "Kernel Ridge model RMSE on training data: 851.6591412400843\n"
     ]
    }
   ],
   "source": [
    "from sklearn.kernel_ridge import KernelRidge\n",
    "\n",
    "# you can use make_pipline to create a new pipiline by adding a model at the end of pipeline_step7 or you can simply create a new pipeline. \n",
    "# whatever you end up doing, make sure it is called pipeline_step10\n",
    "pipeline_step10 = Pipeline([\n",
    "    ('custom_transformer', custom_transformer(use_features=False)),\n",
    "    ('imputer', SimpleImputer(strategy='median')),\n",
    "    ('std_scaler', StandardScaler()),\n",
    "    ('kr', KernelRidge())])\n",
    "\n",
    "# fit the training data and make predictions on the training data\n",
    "pipeline_step10.fit(X_train, y_train)\n",
    "y_pred_train_KR = pipeline_step10.predict(X_train)\n",
    "\n",
    "# calculate rmse for training data\n",
    "rmse_train_KR = np.sqrt(mean_squared_error(y_pred_train_KR, y_train))\n",
    "print('Kernel Ridge model RMSE on training data:', rmse_train_KR)\n",
    "\n",
    "# The following code is used by the autograder\n",
    "# make sure your variable that contains that data from this step is the one assigned to step3_data\n",
    "step10_data = [rmse_train_KR,pipeline_step10]"
   ]
  },
  {
   "cell_type": "code",
   "execution_count": 50,
   "id": "e31dd3ae-dea6-4555-8d49-eb2dba3b82ea",
   "metadata": {
    "tags": []
   },
   "outputs": [
    {
     "name": "stderr",
     "output_type": "stream",
     "text": [
      "C:\\Users\\honey\\anaconda3\\Lib\\site-packages\\seaborn\\_oldcore.py:1119: FutureWarning: use_inf_as_na option is deprecated and will be removed in a future version. Convert inf values to NaN before operating instead.\n",
      "  with pd.option_context('mode.use_inf_as_na', True):\n",
      "C:\\Users\\honey\\anaconda3\\Lib\\site-packages\\seaborn\\_oldcore.py:1119: FutureWarning: use_inf_as_na option is deprecated and will be removed in a future version. Convert inf values to NaN before operating instead.\n",
      "  with pd.option_context('mode.use_inf_as_na', True):\n"
     ]
    },
    {
     "data": {
      "text/plain": [
       "Text(0, 0.5, 'Predicted')"
      ]
     },
     "execution_count": 50,
     "metadata": {},
     "output_type": "execute_result"
    },
    {
     "data": {
      "image/png": "[encoded data removed]",
      "text/plain": [
       "<Figure size 640x480 with 1 Axes>"
      ]
     },
     "metadata": {},
     "output_type": "display_data"
    }
   ],
   "source": [
    "# I will use your pipeline_step10 to predict on 200 points from the training data\n",
    "subset_size = 200\n",
    "y_train_pred = pipeline_step10.predict(X_train[:subset_size])\n",
    "\n",
    "# Then create a scatterplot of predicted vs actual values using your variables from the cell above\n",
    "ax = sns.scatterplot(x=y_train[:subset_size], y=y_train_pred)\n",
    "sns.lineplot(x=y_train[:subset_size], y=y_train[:subset_size], color='red')\n",
    "ax.set_xlabel('Actual')\n",
    "ax.set_ylabel('Predicted')"
   ]
  },
  {
   "cell_type": "markdown",
   "id": "91b8bdab-ad38-418a-84df-d5ebd183c178",
   "metadata": {
    "deletable": false,
    "editable": false
   },
   "source": [
    "grader.check(\"step10\")"
   ]
  },
  {
   "cell_type": "markdown",
   "id": "6f98a96c-61a0-40b2-bb88-6eb1b431546c",
   "metadata": {
    "deletable": false,
    "editable": false,
    "tags": []
   },
   "source": [
    "**STEP11:** Fit a Support Vector Regression (from sklearn.svm import SVR). As you did for STEP10, create a new pipeline using the pipelinr from STEP07 and this model and fit it to your training data, using the default settings. Again, calculate the RMSE of the fit to the training data.\n",
    "\n",
    "_Points:_ 4"
   ]
  },
  {
   "cell_type": "code",
   "execution_count": 51,
   "id": "0ea3fcdb-18a2-42f2-ab54-b691a811a7ec",
   "metadata": {
    "tags": []
   },
   "outputs": [
    {
     "name": "stdout",
     "output_type": "stream",
     "text": [
      "Support Vector Regression model RMSE on training data: 531.9376431589083\n"
     ]
    }
   ],
   "source": [
    "from sklearn.svm import SVR\n",
    "\n",
    "# you can use make_pipline to create a new pipiline by adding a model at the end of pipeline_step7 or you can simply create a new pipeline. \n",
    "# whatever you end up doing, make sure it is called pipeline_step11\n",
    "pipeline_step11 = Pipeline([\n",
    "    ('custom_transformer', custom_transformer(use_features=False)),\n",
    "    ('imputer', SimpleImputer(strategy='median')),\n",
    "    ('std_scaler', StandardScaler()),\n",
    "    ('svr', SVR())])\n",
    "\n",
    "# fit model and make predictions on the training data\n",
    "pipeline_step11.fit(X_train, y_train)\n",
    "y_pred_train_SVR = pipeline_step11.predict(X_train)\n",
    "\n",
    "# calculate rmse for training data\n",
    "rmse_train_SVR = np.sqrt(mean_squared_error(y_train,y_pred_train_SVR))\n",
    "print('Support Vector Regression model RMSE on training data:', rmse_train_SVR)\n",
    "\n",
    "\n",
    "# The following code is used by the autograder\n",
    "# make sure your variable that contains that data from this step is the one assigned to step3_data\n",
    "step11_data = [rmse_train_SVR,pipeline_step11]"
   ]
  },
  {
   "cell_type": "code",
   "execution_count": 52,
   "id": "a019c7c4-2e67-4111-9d1c-a136ae45d0a8",
   "metadata": {
    "tags": []
   },
   "outputs": [
    {
     "name": "stderr",
     "output_type": "stream",
     "text": [
      "C:\\Users\\honey\\anaconda3\\Lib\\site-packages\\seaborn\\_oldcore.py:1119: FutureWarning: use_inf_as_na option is deprecated and will be removed in a future version. Convert inf values to NaN before operating instead.\n",
      "  with pd.option_context('mode.use_inf_as_na', True):\n",
      "C:\\Users\\honey\\anaconda3\\Lib\\site-packages\\seaborn\\_oldcore.py:1119: FutureWarning: use_inf_as_na option is deprecated and will be removed in a future version. Convert inf values to NaN before operating instead.\n",
      "  with pd.option_context('mode.use_inf_as_na', True):\n"
     ]
    },
    {
     "data": {
      "text/plain": [
       "Text(0, 0.5, 'Predicted')"
      ]
     },
     "execution_count": 52,
     "metadata": {},
     "output_type": "execute_result"
    },
    {
     "data": {
      "image/png": "[encoded data removed]",
      "text/plain": [
       "<Figure size 640x480 with 1 Axes>"
      ]
     },
     "metadata": {},
     "output_type": "display_data"
    }
   ],
   "source": [
    "# use your pipeline_step10 to predict on 200 points from the training data\n",
    "subset_size = 200\n",
    "y_train_pred = pipeline_step11.predict(X_train[:subset_size])\n",
    "\n",
    "# Then create a scatterplot of predicted vs actual values using your variables from the cell above\n",
    "ax = sns.scatterplot(x=y_train[:subset_size], y=y_train_pred)\n",
    "sns.lineplot(x=y_train[:subset_size], y=y_train[:subset_size], color='red')\n",
    "ax.set_xlabel('Actual')\n",
    "ax.set_ylabel('Predicted')"
   ]
  },
  {
   "cell_type": "markdown",
   "id": "7a4005b2-6645-4541-ab27-2b5cb27f531e",
   "metadata": {
    "deletable": false,
    "editable": false
   },
   "source": [
    "grader.check(\"step11\")"
   ]
  },
  {
   "cell_type": "markdown",
   "id": "6e1323f6-6969-47ef-a614-419b4722cabb",
   "metadata": {
    "deletable": false,
    "editable": false,
    "tags": []
   },
   "source": [
    "**STEP12:** Perform a 10 fold cross validation for each of the three model (LinearRegression,KernelRidge,SVR). This splits the training set (that we've used above) into 10 equal size subsets, and uses each in turn as the validation set while training a model with the other 9. You should therefore have 10 rmse values for each cross validation run. Find the mean and standard deviation of the rmse values obtained for each model for the validation splits.\n",
    "\n",
    "_Points:_ 5"
   ]
  },
  {
   "cell_type": "code",
   "execution_count": 53,
   "id": "57801463-c15f-493c-bb4b-32670168b0a9",
   "metadata": {
    "tags": []
   },
   "outputs": [
    {
     "name": "stdout",
     "output_type": "stream",
     "text": [
      "linear regression model: \n",
      "VAL RMSE for linear regression is 433.04885250908626\n",
      "TRAIN RMSE for linear regression is 436.7619889643699\n",
      "VAL RMSE for linear regression is 443.5418280714801\n",
      "TRAIN RMSE for linear regression is 435.6792753697086\n",
      "VAL RMSE for linear regression is 445.38022650538807\n",
      "TRAIN RMSE for linear regression is 435.6774599566956\n",
      "VAL RMSE for linear regression is 465.4078730662406\n",
      "TRAIN RMSE for linear regression is 433.0635094806503\n",
      "VAL RMSE for linear regression is 442.7460012713742\n",
      "TRAIN RMSE for linear regression is 435.65869333418084\n",
      "VAL RMSE for linear regression is 417.2069557549429\n",
      "TRAIN RMSE for linear regression is 438.4779083845927\n",
      "VAL RMSE for linear regression is 419.9506545108076\n",
      "TRAIN RMSE for linear regression is 438.16280296266035\n",
      "VAL RMSE for linear regression is 459.8993858634737\n",
      "TRAIN RMSE for linear regression is 433.714476028876\n",
      "VAL RMSE for linear regression is 424.98294071645216\n",
      "TRAIN RMSE for linear regression is 437.6155690574616\n",
      "VAL RMSE for linear regression is 423.7054931095832\n",
      "TRAIN RMSE for linear regression is 437.7618583040345\n",
      " \n",
      "Kernel Ridge model: \n",
      "VAL RMSE for Kernel Ridge is 852.8831660896982\n",
      "TRAIN RMSE for Kernel Ridge is 852.6339391028359\n",
      "VAL RMSE for Kernel Ridge is 854.845630761648\n",
      "TRAIN RMSE for Kernel Ridge is 850.5791193034461\n",
      "VAL RMSE for Kernel Ridge is 847.6504419741943\n",
      "TRAIN RMSE for Kernel Ridge is 851.3058819969269\n",
      "VAL RMSE for Kernel Ridge is 870.2402595975627\n",
      "TRAIN RMSE for Kernel Ridge is 848.4791981852438\n",
      "VAL RMSE for Kernel Ridge is 848.1270895132452\n",
      "TRAIN RMSE for Kernel Ridge is 850.4351900753877\n",
      "VAL RMSE for Kernel Ridge is 826.00170833729\n",
      "TRAIN RMSE for Kernel Ridge is 854.958256681047\n",
      "VAL RMSE for Kernel Ridge is 854.6241408465063\n",
      "TRAIN RMSE for Kernel Ridge is 853.3535864196714\n",
      "VAL RMSE for Kernel Ridge is 891.8338824489521\n",
      "TRAIN RMSE for Kernel Ridge is 848.8863647454161\n",
      "VAL RMSE for Kernel Ridge is 843.0070406720237\n",
      "TRAIN RMSE for Kernel Ridge is 851.0700376878881\n",
      "VAL RMSE for Kernel Ridge is 835.2290547619938\n",
      "TRAIN RMSE for Kernel Ridge is 854.4803490922652\n",
      " \n",
      "SVM model: \n",
      "VAL RMSE for SVM is 539.3507625886558\n",
      "TRAIN RMSE for SVM is 539.5220165577623\n",
      "VAL RMSE for SVM is 550.942292166933\n",
      "TRAIN RMSE for SVM is 538.8886299249797\n",
      "VAL RMSE for SVM is 534.6615397147525\n",
      "TRAIN RMSE for SVM is 540.7579085341183\n",
      "VAL RMSE for SVM is 561.1706605775757\n",
      "TRAIN RMSE for SVM is 538.288907550862\n",
      "VAL RMSE for SVM is 545.8112984271431\n",
      "TRAIN RMSE for SVM is 539.9371729599449\n",
      "VAL RMSE for SVM is 505.7436583479834\n",
      "TRAIN RMSE for SVM is 542.6506728565165\n",
      "VAL RMSE for SVM is 528.8419623779392\n",
      "TRAIN RMSE for SVM is 542.4464868738919\n",
      "VAL RMSE for SVM is 578.9194133604593\n",
      "TRAIN RMSE for SVM is 535.7860145738042\n",
      "VAL RMSE for SVM is 540.9115930857735\n",
      "TRAIN RMSE for SVM is 539.9568533573809\n",
      "VAL RMSE for SVM is 514.5442148421592\n",
      "TRAIN RMSE for SVM is 541.9618371728021\n"
     ]
    }
   ],
   "source": [
    "# you might need some or all of the following imports\n",
    "from sklearn.model_selection import KFold\n",
    "from sklearn.model_selection import cross_validate\n",
    "from sklearn.model_selection import cross_val_score\n",
    "\n",
    "import numpy as np\n",
    "from sklearn.model_selection import GridSearchCV\n",
    "\n",
    "print(\"linear regression model: \")\n",
    "kf = KFold(n_splits=10)\n",
    "kf.get_n_splits(X_train)\n",
    "for train_index, val_index in kf.split(X_train):\n",
    "    X_trainr, X_val = X_train.iloc[train_index], X_train.iloc[val_index]\n",
    "    y_trainr, y_val = y_train.iloc[train_index], y_train.iloc[val_index]\n",
    "    pipeline_step9.fit(X_trainr,y_trainr)\n",
    "    y_pred = pipeline_step9.predict(X_val)\n",
    "    rmse_LR_mean = np.sqrt(mean_squared_error(y_pred,y_val))\n",
    "    print(f'VAL RMSE for linear regression is {rmse_LR_mean}')\n",
    "    y_pred = pipeline_step9.predict(X_trainr)\n",
    "    rmse_LR_mean = np.sqrt(mean_squared_error(y_pred,y_trainr))\n",
    "    print(f'TRAIN RMSE for linear regression is {rmse_LR_mean}')\n",
    "\n",
    "    \n",
    "    \n",
    "print(\" \")    \n",
    "print(\"Kernel Ridge model: \")\n",
    "kf = KFold(n_splits=10)\n",
    "kf.get_n_splits(X_train)\n",
    "for train_index, val_index in kf.split(X_train):\n",
    "    X_trainr, X_val = X_train.iloc[train_index], X_train.iloc[val_index]\n",
    "    y_trainr, y_val = y_train.iloc[train_index], y_train.iloc[val_index]\n",
    "    pipeline_step10.fit(X_trainr,y_trainr)\n",
    "    y_pred = pipeline_step10.predict(X_val)\n",
    "    rmse_KR_mean = np.sqrt(mean_squared_error(y_pred,y_val))\n",
    "    print(f'VAL RMSE for Kernel Ridge is {rmse_KR_mean}')\n",
    "    y_pred = pipeline_step10.predict(X_trainr)\n",
    "    rmse_KR_mean = np.sqrt(mean_squared_error(y_pred,y_trainr))\n",
    "    print(f'TRAIN RMSE for Kernel Ridge is {rmse_KR_mean}')\n",
    "  \n",
    "\n",
    "print(\" \")\n",
    "print(\"SVM model: \")\n",
    "kf = KFold(n_splits=10)\n",
    "kf.get_n_splits(X_train)\n",
    "for train_index, val_index in kf.split(X_train):\n",
    "    X_trainr, X_val = X_train.iloc[train_index], X_train.iloc[val_index]\n",
    "    y_trainr, y_val = y_train.iloc[train_index], y_train.iloc[val_index]\n",
    "    pipeline_step11.fit(X_trainr,y_trainr)\n",
    "    y_pred = pipeline_step11.predict(X_val)\n",
    "    rmse_SVR_mean = np.sqrt(mean_squared_error(y_pred,y_val))\n",
    "    print(f'VAL RMSE for SVM is {rmse_SVR_mean}')\n",
    "    y_pred = pipeline_step11.predict(X_trainr)\n",
    "    rmse_SVR_mean = np.sqrt(mean_squared_error(y_pred,y_trainr))\n",
    "    print(f'TRAIN RMSE for SVM is {rmse_SVR_mean}')\n",
    "\n",
    "# The following code is used by the autograder\n",
    "step12_data = [rmse_LR_mean,rmse_KR_mean,rmse_SVR_mean]"
   ]
  },
  {
   "cell_type": "markdown",
   "id": "bac329bf-9f88-450b-98f2-f0982e38777e",
   "metadata": {
    "deletable": false,
    "editable": false
   },
   "source": [
    "grader.check(\"step12\")"
   ]
  },
  {
   "cell_type": "markdown",
   "id": "83026fa4-6a39-493e-adf8-db14904cc024",
   "metadata": {
    "deletable": false,
    "editable": false,
    "tags": []
   },
   "source": [
    "**STEP13:** Both the Kernel Ridge Regression and Support Vector Regression have hyperparameters that can be adjusted to suit the problem. Use grid search to systematically compare the generalisation performance (rmse) obtained with different hyperparameter settings (still with 10-fold CV). Use the sklearn function GridSearchCV to do this.\n",
    "\n",
    "For KernelRidge, vary the hyperparameter alpha. (note, if you are using KernelRidge as the last step in a pipeline, alpha is refered to as kernelridge__alpha) \n",
    "\n",
    "For SVR, vary the hyperparameter C. (note, if you are using SVR as the last step in a pipeline, C is refered to as SVR__C)\n",
    "\n",
    "Find the hyperparameter setting for each medel.\n",
    "\n",
    "Finally, train and apply both models, with the best hyperparameter settings, to the test set and report the performance as rmse.\n",
    "\n",
    "_Points:_ 5"
   ]
  },
  {
   "cell_type": "code",
   "execution_count": 55,
   "id": "dcc456cd-be46-4a94-8d79-8c015560279e",
   "metadata": {
    "tags": []
   },
   "outputs": [
    {
     "ename": "ValueError",
     "evalue": "Invalid parameter 'svr' for estimator SVR(kernel='linear'). Valid parameters are: ['C', 'cache_size', 'coef0', 'degree', 'epsilon', 'gamma', 'kernel', 'max_iter', 'shrinking', 'tol', 'verbose'].",
     "output_type": "error",
     "traceback": [
      "\u001b[1;31m---------------------------------------------------------------------------\u001b[0m",
      "\u001b[1;31mValueError\u001b[0m                                Traceback (most recent call last)",
      "Cell \u001b[1;32mIn[55], line 25\u001b[0m\n\u001b[0;32m     23\u001b[0m \u001b[38;5;66;03m# Perform grid search with 10-fold cross-validation for SVR\u001b[39;00m\n\u001b[0;32m     24\u001b[0m svr_cv \u001b[38;5;241m=\u001b[39m GridSearchCV(SVR(kernel\u001b[38;5;241m=\u001b[39m\u001b[38;5;124m'\u001b[39m\u001b[38;5;124mlinear\u001b[39m\u001b[38;5;124m'\u001b[39m), svr_params, cv\u001b[38;5;241m=\u001b[39mKFold(n_splits\u001b[38;5;241m=\u001b[39m\u001b[38;5;241m10\u001b[39m), scoring\u001b[38;5;241m=\u001b[39m\u001b[38;5;124m'\u001b[39m\u001b[38;5;124mneg_mean_squared_error\u001b[39m\u001b[38;5;124m'\u001b[39m)\n\u001b[1;32m---> 25\u001b[0m svr_cv\u001b[38;5;241m.\u001b[39mfit(X_train, y_train)\n\u001b[0;32m     27\u001b[0m \u001b[38;5;66;03m# Get the best hyperparameters for each model\u001b[39;00m\n\u001b[0;32m     28\u001b[0m best_alpha \u001b[38;5;241m=\u001b[39m kr_cv\u001b[38;5;241m.\u001b[39mbest_params_[\u001b[38;5;124m'\u001b[39m\u001b[38;5;124mkernelridge__alpha\u001b[39m\u001b[38;5;124m'\u001b[39m]\n",
      "File \u001b[1;32m~\\anaconda3\\Lib\\site-packages\\sklearn\\model_selection\\_search.py:874\u001b[0m, in \u001b[0;36mBaseSearchCV.fit\u001b[1;34m(self, X, y, groups, **fit_params)\u001b[0m\n\u001b[0;32m    868\u001b[0m     results \u001b[38;5;241m=\u001b[39m \u001b[38;5;28mself\u001b[39m\u001b[38;5;241m.\u001b[39m_format_results(\n\u001b[0;32m    869\u001b[0m         all_candidate_params, n_splits, all_out, all_more_results\n\u001b[0;32m    870\u001b[0m     )\n\u001b[0;32m    872\u001b[0m     \u001b[38;5;28;01mreturn\u001b[39;00m results\n\u001b[1;32m--> 874\u001b[0m \u001b[38;5;28mself\u001b[39m\u001b[38;5;241m.\u001b[39m_run_search(evaluate_candidates)\n\u001b[0;32m    876\u001b[0m \u001b[38;5;66;03m# multimetric is determined here because in the case of a callable\u001b[39;00m\n\u001b[0;32m    877\u001b[0m \u001b[38;5;66;03m# self.scoring the return type is only known after calling\u001b[39;00m\n\u001b[0;32m    878\u001b[0m first_test_score \u001b[38;5;241m=\u001b[39m all_out[\u001b[38;5;241m0\u001b[39m][\u001b[38;5;124m\"\u001b[39m\u001b[38;5;124mtest_scores\u001b[39m\u001b[38;5;124m\"\u001b[39m]\n",
      "File \u001b[1;32m~\\anaconda3\\Lib\\site-packages\\sklearn\\model_selection\\_search.py:1388\u001b[0m, in \u001b[0;36mGridSearchCV._run_search\u001b[1;34m(self, evaluate_candidates)\u001b[0m\n\u001b[0;32m   1386\u001b[0m \u001b[38;5;28;01mdef\u001b[39;00m \u001b[38;5;21m_run_search\u001b[39m(\u001b[38;5;28mself\u001b[39m, evaluate_candidates):\n\u001b[0;32m   1387\u001b[0m \u001b[38;5;250m    \u001b[39m\u001b[38;5;124;03m\"\"\"Search all candidates in param_grid\"\"\"\u001b[39;00m\n\u001b[1;32m-> 1388\u001b[0m     evaluate_candidates(ParameterGrid(\u001b[38;5;28mself\u001b[39m\u001b[38;5;241m.\u001b[39mparam_grid))\n",
      "File \u001b[1;32m~\\anaconda3\\Lib\\site-packages\\sklearn\\model_selection\\_search.py:821\u001b[0m, in \u001b[0;36mBaseSearchCV.fit.<locals>.evaluate_candidates\u001b[1;34m(candidate_params, cv, more_results)\u001b[0m\n\u001b[0;32m    813\u001b[0m \u001b[38;5;28;01mif\u001b[39;00m \u001b[38;5;28mself\u001b[39m\u001b[38;5;241m.\u001b[39mverbose \u001b[38;5;241m>\u001b[39m \u001b[38;5;241m0\u001b[39m:\n\u001b[0;32m    814\u001b[0m     \u001b[38;5;28mprint\u001b[39m(\n\u001b[0;32m    815\u001b[0m         \u001b[38;5;124m\"\u001b[39m\u001b[38;5;124mFitting \u001b[39m\u001b[38;5;132;01m{0}\u001b[39;00m\u001b[38;5;124m folds for each of \u001b[39m\u001b[38;5;132;01m{1}\u001b[39;00m\u001b[38;5;124m candidates,\u001b[39m\u001b[38;5;124m\"\u001b[39m\n\u001b[0;32m    816\u001b[0m         \u001b[38;5;124m\"\u001b[39m\u001b[38;5;124m totalling \u001b[39m\u001b[38;5;132;01m{2}\u001b[39;00m\u001b[38;5;124m fits\u001b[39m\u001b[38;5;124m\"\u001b[39m\u001b[38;5;241m.\u001b[39mformat(\n\u001b[0;32m    817\u001b[0m             n_splits, n_candidates, n_candidates \u001b[38;5;241m*\u001b[39m n_splits\n\u001b[0;32m    818\u001b[0m         )\n\u001b[0;32m    819\u001b[0m     )\n\u001b[1;32m--> 821\u001b[0m out \u001b[38;5;241m=\u001b[39m parallel(\n\u001b[0;32m    822\u001b[0m     delayed(_fit_and_score)(\n\u001b[0;32m    823\u001b[0m         clone(base_estimator),\n\u001b[0;32m    824\u001b[0m         X,\n\u001b[0;32m    825\u001b[0m         y,\n\u001b[0;32m    826\u001b[0m         train\u001b[38;5;241m=\u001b[39mtrain,\n\u001b[0;32m    827\u001b[0m         test\u001b[38;5;241m=\u001b[39mtest,\n\u001b[0;32m    828\u001b[0m         parameters\u001b[38;5;241m=\u001b[39mparameters,\n\u001b[0;32m    829\u001b[0m         split_progress\u001b[38;5;241m=\u001b[39m(split_idx, n_splits),\n\u001b[0;32m    830\u001b[0m         candidate_progress\u001b[38;5;241m=\u001b[39m(cand_idx, n_candidates),\n\u001b[0;32m    831\u001b[0m         \u001b[38;5;241m*\u001b[39m\u001b[38;5;241m*\u001b[39mfit_and_score_kwargs,\n\u001b[0;32m    832\u001b[0m     )\n\u001b[0;32m    833\u001b[0m     \u001b[38;5;28;01mfor\u001b[39;00m (cand_idx, parameters), (split_idx, (train, test)) \u001b[38;5;129;01min\u001b[39;00m product(\n\u001b[0;32m    834\u001b[0m         \u001b[38;5;28menumerate\u001b[39m(candidate_params), \u001b[38;5;28menumerate\u001b[39m(cv\u001b[38;5;241m.\u001b[39msplit(X, y, groups))\n\u001b[0;32m    835\u001b[0m     )\n\u001b[0;32m    836\u001b[0m )\n\u001b[0;32m    838\u001b[0m \u001b[38;5;28;01mif\u001b[39;00m \u001b[38;5;28mlen\u001b[39m(out) \u001b[38;5;241m<\u001b[39m \u001b[38;5;241m1\u001b[39m:\n\u001b[0;32m    839\u001b[0m     \u001b[38;5;28;01mraise\u001b[39;00m \u001b[38;5;167;01mValueError\u001b[39;00m(\n\u001b[0;32m    840\u001b[0m         \u001b[38;5;124m\"\u001b[39m\u001b[38;5;124mNo fits were performed. \u001b[39m\u001b[38;5;124m\"\u001b[39m\n\u001b[0;32m    841\u001b[0m         \u001b[38;5;124m\"\u001b[39m\u001b[38;5;124mWas the CV iterator empty? \u001b[39m\u001b[38;5;124m\"\u001b[39m\n\u001b[0;32m    842\u001b[0m         \u001b[38;5;124m\"\u001b[39m\u001b[38;5;124mWere there no candidates?\u001b[39m\u001b[38;5;124m\"\u001b[39m\n\u001b[0;32m    843\u001b[0m     )\n",
      "File \u001b[1;32m~\\anaconda3\\Lib\\site-packages\\sklearn\\utils\\parallel.py:63\u001b[0m, in \u001b[0;36mParallel.__call__\u001b[1;34m(self, iterable)\u001b[0m\n\u001b[0;32m     58\u001b[0m config \u001b[38;5;241m=\u001b[39m get_config()\n\u001b[0;32m     59\u001b[0m iterable_with_config \u001b[38;5;241m=\u001b[39m (\n\u001b[0;32m     60\u001b[0m     (_with_config(delayed_func, config), args, kwargs)\n\u001b[0;32m     61\u001b[0m     \u001b[38;5;28;01mfor\u001b[39;00m delayed_func, args, kwargs \u001b[38;5;129;01min\u001b[39;00m iterable\n\u001b[0;32m     62\u001b[0m )\n\u001b[1;32m---> 63\u001b[0m \u001b[38;5;28;01mreturn\u001b[39;00m \u001b[38;5;28msuper\u001b[39m()\u001b[38;5;241m.\u001b[39m\u001b[38;5;21m__call__\u001b[39m(iterable_with_config)\n",
      "File \u001b[1;32m~\\anaconda3\\Lib\\site-packages\\joblib\\parallel.py:1085\u001b[0m, in \u001b[0;36mParallel.__call__\u001b[1;34m(self, iterable)\u001b[0m\n\u001b[0;32m   1076\u001b[0m \u001b[38;5;28;01mtry\u001b[39;00m:\n\u001b[0;32m   1077\u001b[0m     \u001b[38;5;66;03m# Only set self._iterating to True if at least a batch\u001b[39;00m\n\u001b[0;32m   1078\u001b[0m     \u001b[38;5;66;03m# was dispatched. In particular this covers the edge\u001b[39;00m\n\u001b[1;32m   (...)\u001b[0m\n\u001b[0;32m   1082\u001b[0m     \u001b[38;5;66;03m# was very quick and its callback already dispatched all the\u001b[39;00m\n\u001b[0;32m   1083\u001b[0m     \u001b[38;5;66;03m# remaining jobs.\u001b[39;00m\n\u001b[0;32m   1084\u001b[0m     \u001b[38;5;28mself\u001b[39m\u001b[38;5;241m.\u001b[39m_iterating \u001b[38;5;241m=\u001b[39m \u001b[38;5;28;01mFalse\u001b[39;00m\n\u001b[1;32m-> 1085\u001b[0m     \u001b[38;5;28;01mif\u001b[39;00m \u001b[38;5;28mself\u001b[39m\u001b[38;5;241m.\u001b[39mdispatch_one_batch(iterator):\n\u001b[0;32m   1086\u001b[0m         \u001b[38;5;28mself\u001b[39m\u001b[38;5;241m.\u001b[39m_iterating \u001b[38;5;241m=\u001b[39m \u001b[38;5;28mself\u001b[39m\u001b[38;5;241m.\u001b[39m_original_iterator \u001b[38;5;129;01mis\u001b[39;00m \u001b[38;5;129;01mnot\u001b[39;00m \u001b[38;5;28;01mNone\u001b[39;00m\n\u001b[0;32m   1088\u001b[0m     \u001b[38;5;28;01mwhile\u001b[39;00m \u001b[38;5;28mself\u001b[39m\u001b[38;5;241m.\u001b[39mdispatch_one_batch(iterator):\n",
      "File \u001b[1;32m~\\anaconda3\\Lib\\site-packages\\joblib\\parallel.py:901\u001b[0m, in \u001b[0;36mParallel.dispatch_one_batch\u001b[1;34m(self, iterator)\u001b[0m\n\u001b[0;32m    899\u001b[0m     \u001b[38;5;28;01mreturn\u001b[39;00m \u001b[38;5;28;01mFalse\u001b[39;00m\n\u001b[0;32m    900\u001b[0m \u001b[38;5;28;01melse\u001b[39;00m:\n\u001b[1;32m--> 901\u001b[0m     \u001b[38;5;28mself\u001b[39m\u001b[38;5;241m.\u001b[39m_dispatch(tasks)\n\u001b[0;32m    902\u001b[0m     \u001b[38;5;28;01mreturn\u001b[39;00m \u001b[38;5;28;01mTrue\u001b[39;00m\n",
      "File \u001b[1;32m~\\anaconda3\\Lib\\site-packages\\joblib\\parallel.py:819\u001b[0m, in \u001b[0;36mParallel._dispatch\u001b[1;34m(self, batch)\u001b[0m\n\u001b[0;32m    817\u001b[0m \u001b[38;5;28;01mwith\u001b[39;00m \u001b[38;5;28mself\u001b[39m\u001b[38;5;241m.\u001b[39m_lock:\n\u001b[0;32m    818\u001b[0m     job_idx \u001b[38;5;241m=\u001b[39m \u001b[38;5;28mlen\u001b[39m(\u001b[38;5;28mself\u001b[39m\u001b[38;5;241m.\u001b[39m_jobs)\n\u001b[1;32m--> 819\u001b[0m     job \u001b[38;5;241m=\u001b[39m \u001b[38;5;28mself\u001b[39m\u001b[38;5;241m.\u001b[39m_backend\u001b[38;5;241m.\u001b[39mapply_async(batch, callback\u001b[38;5;241m=\u001b[39mcb)\n\u001b[0;32m    820\u001b[0m     \u001b[38;5;66;03m# A job can complete so quickly than its callback is\u001b[39;00m\n\u001b[0;32m    821\u001b[0m     \u001b[38;5;66;03m# called before we get here, causing self._jobs to\u001b[39;00m\n\u001b[0;32m    822\u001b[0m     \u001b[38;5;66;03m# grow. To ensure correct results ordering, .insert is\u001b[39;00m\n\u001b[0;32m    823\u001b[0m     \u001b[38;5;66;03m# used (rather than .append) in the following line\u001b[39;00m\n\u001b[0;32m    824\u001b[0m     \u001b[38;5;28mself\u001b[39m\u001b[38;5;241m.\u001b[39m_jobs\u001b[38;5;241m.\u001b[39minsert(job_idx, job)\n",
      "File \u001b[1;32m~\\anaconda3\\Lib\\site-packages\\joblib\\_parallel_backends.py:208\u001b[0m, in \u001b[0;36mSequentialBackend.apply_async\u001b[1;34m(self, func, callback)\u001b[0m\n\u001b[0;32m    206\u001b[0m \u001b[38;5;28;01mdef\u001b[39;00m \u001b[38;5;21mapply_async\u001b[39m(\u001b[38;5;28mself\u001b[39m, func, callback\u001b[38;5;241m=\u001b[39m\u001b[38;5;28;01mNone\u001b[39;00m):\n\u001b[0;32m    207\u001b[0m \u001b[38;5;250m    \u001b[39m\u001b[38;5;124;03m\"\"\"Schedule a func to be run\"\"\"\u001b[39;00m\n\u001b[1;32m--> 208\u001b[0m     result \u001b[38;5;241m=\u001b[39m ImmediateResult(func)\n\u001b[0;32m    209\u001b[0m     \u001b[38;5;28;01mif\u001b[39;00m callback:\n\u001b[0;32m    210\u001b[0m         callback(result)\n",
      "File \u001b[1;32m~\\anaconda3\\Lib\\site-packages\\joblib\\_parallel_backends.py:597\u001b[0m, in \u001b[0;36mImmediateResult.__init__\u001b[1;34m(self, batch)\u001b[0m\n\u001b[0;32m    594\u001b[0m \u001b[38;5;28;01mdef\u001b[39;00m \u001b[38;5;21m__init__\u001b[39m(\u001b[38;5;28mself\u001b[39m, batch):\n\u001b[0;32m    595\u001b[0m     \u001b[38;5;66;03m# Don't delay the application, to avoid keeping the input\u001b[39;00m\n\u001b[0;32m    596\u001b[0m     \u001b[38;5;66;03m# arguments in memory\u001b[39;00m\n\u001b[1;32m--> 597\u001b[0m     \u001b[38;5;28mself\u001b[39m\u001b[38;5;241m.\u001b[39mresults \u001b[38;5;241m=\u001b[39m batch()\n",
      "File \u001b[1;32m~\\anaconda3\\Lib\\site-packages\\joblib\\parallel.py:288\u001b[0m, in \u001b[0;36mBatchedCalls.__call__\u001b[1;34m(self)\u001b[0m\n\u001b[0;32m    284\u001b[0m \u001b[38;5;28;01mdef\u001b[39;00m \u001b[38;5;21m__call__\u001b[39m(\u001b[38;5;28mself\u001b[39m):\n\u001b[0;32m    285\u001b[0m     \u001b[38;5;66;03m# Set the default nested backend to self._backend but do not set the\u001b[39;00m\n\u001b[0;32m    286\u001b[0m     \u001b[38;5;66;03m# change the default number of processes to -1\u001b[39;00m\n\u001b[0;32m    287\u001b[0m     \u001b[38;5;28;01mwith\u001b[39;00m parallel_backend(\u001b[38;5;28mself\u001b[39m\u001b[38;5;241m.\u001b[39m_backend, n_jobs\u001b[38;5;241m=\u001b[39m\u001b[38;5;28mself\u001b[39m\u001b[38;5;241m.\u001b[39m_n_jobs):\n\u001b[1;32m--> 288\u001b[0m         \u001b[38;5;28;01mreturn\u001b[39;00m [func(\u001b[38;5;241m*\u001b[39margs, \u001b[38;5;241m*\u001b[39m\u001b[38;5;241m*\u001b[39mkwargs)\n\u001b[0;32m    289\u001b[0m                 \u001b[38;5;28;01mfor\u001b[39;00m func, args, kwargs \u001b[38;5;129;01min\u001b[39;00m \u001b[38;5;28mself\u001b[39m\u001b[38;5;241m.\u001b[39mitems]\n",
      "File \u001b[1;32m~\\anaconda3\\Lib\\site-packages\\joblib\\parallel.py:288\u001b[0m, in \u001b[0;36m<listcomp>\u001b[1;34m(.0)\u001b[0m\n\u001b[0;32m    284\u001b[0m \u001b[38;5;28;01mdef\u001b[39;00m \u001b[38;5;21m__call__\u001b[39m(\u001b[38;5;28mself\u001b[39m):\n\u001b[0;32m    285\u001b[0m     \u001b[38;5;66;03m# Set the default nested backend to self._backend but do not set the\u001b[39;00m\n\u001b[0;32m    286\u001b[0m     \u001b[38;5;66;03m# change the default number of processes to -1\u001b[39;00m\n\u001b[0;32m    287\u001b[0m     \u001b[38;5;28;01mwith\u001b[39;00m parallel_backend(\u001b[38;5;28mself\u001b[39m\u001b[38;5;241m.\u001b[39m_backend, n_jobs\u001b[38;5;241m=\u001b[39m\u001b[38;5;28mself\u001b[39m\u001b[38;5;241m.\u001b[39m_n_jobs):\n\u001b[1;32m--> 288\u001b[0m         \u001b[38;5;28;01mreturn\u001b[39;00m [func(\u001b[38;5;241m*\u001b[39margs, \u001b[38;5;241m*\u001b[39m\u001b[38;5;241m*\u001b[39mkwargs)\n\u001b[0;32m    289\u001b[0m                 \u001b[38;5;28;01mfor\u001b[39;00m func, args, kwargs \u001b[38;5;129;01min\u001b[39;00m \u001b[38;5;28mself\u001b[39m\u001b[38;5;241m.\u001b[39mitems]\n",
      "File \u001b[1;32m~\\anaconda3\\Lib\\site-packages\\sklearn\\utils\\parallel.py:123\u001b[0m, in \u001b[0;36m_FuncWrapper.__call__\u001b[1;34m(self, *args, **kwargs)\u001b[0m\n\u001b[0;32m    121\u001b[0m     config \u001b[38;5;241m=\u001b[39m {}\n\u001b[0;32m    122\u001b[0m \u001b[38;5;28;01mwith\u001b[39;00m config_context(\u001b[38;5;241m*\u001b[39m\u001b[38;5;241m*\u001b[39mconfig):\n\u001b[1;32m--> 123\u001b[0m     \u001b[38;5;28;01mreturn\u001b[39;00m \u001b[38;5;28mself\u001b[39m\u001b[38;5;241m.\u001b[39mfunction(\u001b[38;5;241m*\u001b[39margs, \u001b[38;5;241m*\u001b[39m\u001b[38;5;241m*\u001b[39mkwargs)\n",
      "File \u001b[1;32m~\\anaconda3\\Lib\\site-packages\\sklearn\\model_selection\\_validation.py:674\u001b[0m, in \u001b[0;36m_fit_and_score\u001b[1;34m(estimator, X, y, scorer, train, test, verbose, parameters, fit_params, return_train_score, return_parameters, return_n_test_samples, return_times, return_estimator, split_progress, candidate_progress, error_score)\u001b[0m\n\u001b[0;32m    671\u001b[0m     \u001b[38;5;28;01mfor\u001b[39;00m k, v \u001b[38;5;129;01min\u001b[39;00m parameters\u001b[38;5;241m.\u001b[39mitems():\n\u001b[0;32m    672\u001b[0m         cloned_parameters[k] \u001b[38;5;241m=\u001b[39m clone(v, safe\u001b[38;5;241m=\u001b[39m\u001b[38;5;28;01mFalse\u001b[39;00m)\n\u001b[1;32m--> 674\u001b[0m     estimator \u001b[38;5;241m=\u001b[39m estimator\u001b[38;5;241m.\u001b[39mset_params(\u001b[38;5;241m*\u001b[39m\u001b[38;5;241m*\u001b[39mcloned_parameters)\n\u001b[0;32m    676\u001b[0m start_time \u001b[38;5;241m=\u001b[39m time\u001b[38;5;241m.\u001b[39mtime()\n\u001b[0;32m    678\u001b[0m X_train, y_train \u001b[38;5;241m=\u001b[39m _safe_split(estimator, X, y, train)\n",
      "File \u001b[1;32m~\\anaconda3\\Lib\\site-packages\\sklearn\\base.py:205\u001b[0m, in \u001b[0;36mBaseEstimator.set_params\u001b[1;34m(self, **params)\u001b[0m\n\u001b[0;32m    203\u001b[0m \u001b[38;5;28;01mif\u001b[39;00m key \u001b[38;5;129;01mnot\u001b[39;00m \u001b[38;5;129;01min\u001b[39;00m valid_params:\n\u001b[0;32m    204\u001b[0m     local_valid_params \u001b[38;5;241m=\u001b[39m \u001b[38;5;28mself\u001b[39m\u001b[38;5;241m.\u001b[39m_get_param_names()\n\u001b[1;32m--> 205\u001b[0m     \u001b[38;5;28;01mraise\u001b[39;00m \u001b[38;5;167;01mValueError\u001b[39;00m(\n\u001b[0;32m    206\u001b[0m         \u001b[38;5;124mf\u001b[39m\u001b[38;5;124m\"\u001b[39m\u001b[38;5;124mInvalid parameter \u001b[39m\u001b[38;5;132;01m{\u001b[39;00mkey\u001b[38;5;132;01m!r}\u001b[39;00m\u001b[38;5;124m for estimator \u001b[39m\u001b[38;5;132;01m{\u001b[39;00m\u001b[38;5;28mself\u001b[39m\u001b[38;5;132;01m}\u001b[39;00m\u001b[38;5;124m. \u001b[39m\u001b[38;5;124m\"\u001b[39m\n\u001b[0;32m    207\u001b[0m         \u001b[38;5;124mf\u001b[39m\u001b[38;5;124m\"\u001b[39m\u001b[38;5;124mValid parameters are: \u001b[39m\u001b[38;5;132;01m{\u001b[39;00mlocal_valid_params\u001b[38;5;132;01m!r}\u001b[39;00m\u001b[38;5;124m.\u001b[39m\u001b[38;5;124m\"\u001b[39m\n\u001b[0;32m    208\u001b[0m     )\n\u001b[0;32m    210\u001b[0m \u001b[38;5;28;01mif\u001b[39;00m delim:\n\u001b[0;32m    211\u001b[0m     nested_params[key][sub_key] \u001b[38;5;241m=\u001b[39m value\n",
      "\u001b[1;31mValueError\u001b[0m: Invalid parameter 'svr' for estimator SVR(kernel='linear'). Valid parameters are: ['C', 'cache_size', 'coef0', 'degree', 'epsilon', 'gamma', 'kernel', 'max_iter', 'shrinking', 'tol', 'verbose']."
     ]
    }
   ],
   "source": [
    "from sklearn.model_selection import GridSearchCV\n",
    "from sklearn.kernel_ridge import KernelRidge\n",
    "from sklearn.svm import SVR\n",
    "from sklearn.metrics import mean_squared_error\n",
    "import numpy as np\n",
    "from sklearn.datasets import make_regression\n",
    "from sklearn.model_selection import GridSearchCV, KFold, train_test_split\n",
    "\n",
    "# Generate synthetic data\n",
    "X, y = make_regression(n_samples=100, n_features=10, noise=0.1, random_state=42)\n",
    "\n",
    "# Split data into train and test sets\n",
    "X_train, X_test, y_train, y_test = train_test_split(X, y, test_size=0.2, random_state=42)\n",
    "\n",
    "# Define the parameter grids for grid search with new pipeline\n",
    "kr_params = {'kernelridge__alpha': [1.0, 10.0, 100.0, 1000.0]}\n",
    "svr_params = {'svr__C': [10000, 50000, 100000]}\n",
    "\n",
    "# Perform grid search with 10-fold cross-validation for KernelRidge with new pipeline\n",
    "kr_cv = GridSearchCV(Pipeline([('kernelridge', KernelRidge())]), kr_params, cv=KFold(n_splits=10), scoring='neg_mean_squared_error')\n",
    "kr_cv.fit(X_train, y_train)\n",
    "\n",
    "# Perform grid search with 10-fold cross-validation for SVR\n",
    "svr_cv = GridSearchCV(SVR(kernel='linear'), svr_params, cv=KFold(n_splits=10), scoring='neg_mean_squared_error')\n",
    "svr_cv.fit(X_train, y_train)\n",
    "\n",
    "# Get the best hyperparameters for each model\n",
    "best_alpha = kr_cv.best_params_['kernelridge__alpha']\n",
    "best_C = svr_cv.best_params_['svr__C']\n",
    "\n",
    "print(\"Best alpha for KernelRidge:\", best_alpha)\n",
    "print(\"Best C for SVR:\", best_C)\n",
    "\n",
    "# Train final models with the best hyperparameters\n",
    "pipeline_best_kr = Pipeline([('kernelridge', KernelRidge(alpha=best_alpha))])\n",
    "pipeline_best_svr = Pipeline([('svr', SVR(kernel='linear', C=best_C))])\n",
    "\n",
    "pipeline_best_kr.fit(X_train, y_train)\n",
    "pipeline_best_svr.fit(X_train, y_train)\n",
    "\n",
    "# Predict on the test set\n",
    "y_pred_kr = pipeline_best_kr.predict(X_test)\n",
    "y_pred_svr = pipeline_best_svr.predict(X_test)\n",
    "\n",
    "# Calculate RMSE\n",
    "kr_rmse = np.sqrt(mean_squared_error(y_test, y_pred_kr))\n",
    "svr_rmse = np.sqrt(mean_squared_error(y_test, y_pred_svr))\n",
    "\n",
    "print(\"RMSE for KernelRidge:\", kr_rmse)\n",
    "print(\"RMSE for SVR:\", svr_rmse)\n",
    "\n",
    "# The following code is used by the autograder\n",
    "step13_data = [kr_rmse, svr_rmse, kr_cv, svr_cv, pipeline_best_kr, pipeline_best_svr]\n"
   ]
  },
  {
   "cell_type": "code",
   "execution_count": 56,
   "id": "750bbb82-c4bf-491e-94db-24fdb26c405d",
   "metadata": {
    "tags": []
   },
   "outputs": [
    {
     "ename": "NameError",
     "evalue": "name 'pipeline_best_svr' is not defined",
     "output_type": "error",
     "traceback": [
      "\u001b[1;31m---------------------------------------------------------------------------\u001b[0m",
      "\u001b[1;31mNameError\u001b[0m                                 Traceback (most recent call last)",
      "Cell \u001b[1;32mIn[56], line 5\u001b[0m\n\u001b[0;32m      3\u001b[0m \u001b[38;5;66;03m# use your pipeline_best_svr to predict on 200 points from the training data\u001b[39;00m\n\u001b[0;32m      4\u001b[0m subset_size \u001b[38;5;241m=\u001b[39m \u001b[38;5;241m200\u001b[39m\n\u001b[1;32m----> 5\u001b[0m y_train_pred \u001b[38;5;241m=\u001b[39m pipeline_best_svr\u001b[38;5;241m.\u001b[39mpredict(X_train[:subset_size])\n\u001b[0;32m      7\u001b[0m \u001b[38;5;66;03m# Then create a scatterplot of predicted vs actual values using your variables from the cell above\u001b[39;00m\n\u001b[0;32m      8\u001b[0m ax \u001b[38;5;241m=\u001b[39m sns\u001b[38;5;241m.\u001b[39mscatterplot(x\u001b[38;5;241m=\u001b[39my_train[:subset_size], y\u001b[38;5;241m=\u001b[39my_train_pred)\n",
      "\u001b[1;31mNameError\u001b[0m: name 'pipeline_best_svr' is not defined"
     ]
    }
   ],
   "source": [
    "import seaborn as sns\n",
    "\n",
    "# use your pipeline_best_svr to predict on 200 points from the training data\n",
    "subset_size = 200\n",
    "y_train_pred = pipeline_best_svr.predict(X_train[:subset_size])\n",
    "\n",
    "# Then create a scatterplot of predicted vs actual values using your variables from the cell above\n",
    "ax = sns.scatterplot(x=y_train[:subset_size], y=y_train_pred)\n",
    "sns.lineplot(x=y_train[:subset_size], y=y_train[:subset_size], color='red')\n",
    "ax.set_xlabel('Actual')\n",
    "ax.set_ylabel('Predicted')"
   ]
  },
  {
   "cell_type": "markdown",
   "id": "249b7d78-6f91-4e88-8110-f46389bd9b83",
   "metadata": {
    "deletable": false,
    "editable": false
   },
   "source": [
    "grader.check(\"step13\")"
   ]
  }
 ],
 "metadata": {
  "kernelspec": {
   "display_name": "Python 3 (ipykernel)",
   "language": "python",
   "name": "python3"
  },
  "language_info": {
   "codemirror_mode": {
    "name": "ipython",
    "version": 3
   },
   "file_extension": ".py",
   "mimetype": "text/x-python",
   "name": "python",
   "nbconvert_exporter": "python",
   "pygments_lexer": "ipython3",
   "version": "3.11.7"
  },
  "otter": {
   "OK_FORMAT": false,
   "tests": {
    "step01": "from otter.test_files import test_case\n\nOK_FORMAT = False\n\nname = \"step01\"\npoints = 2\n\n@test_case(points=2, hidden=False, \n    failure_message=\"data shape is incorrect\")\ndef test_q1(step1_sol):\n    import unittest as UT\n    TC = UT.TestCase()\n    TC.assertEqual(step1_sol,(8760, 14),\"error\")\n",
    "step02": "from otter.test_files import test_case\n\nOK_FORMAT = False\n\nname = \"step02\"\npoints = 0\n\n@test_case(points=0, hidden=False)\ndef test_q2():\n    import unittest as UT\n    TC = UT.TestCase()\n    TC.assertEqual(1,1)\n",
    "step03": "from otter.test_files import test_case\n\nOK_FORMAT = False\n\nname = \"step03\"\npoints = 3\n\n@test_case(points=3, hidden=False, \n    failure_message=\"Did you make the required changes by removing the rows and the column based on the question specification?\")\ndef test_q3(step3_data):\n    import unittest as UT\n    TC = UT.TestCase()\n    TC.assertEqual(step3_data.loc[step3_data['Rented Bike Count'] == 0].shape[0],0)\n    TC.assertNotIn('Functioning Day', step3_data.columns)\n",
    "step04": "from otter.test_files import test_case\n\nOK_FORMAT = False\n\nname = \"step04\"\npoints = 3\n\n@test_case(points=3, hidden=False, \n    failure_message=\"Did you make the required changes by changing the rows and removing the column based on the question specification?\")\ndef test_q4(step4_data):\n    import unittest as UT\n    TC = UT.TestCase()\n    D = step4_data\n    TC.assertIn('Holiday', D.columns)\n    TC.assertTrue((D['Holiday'] == 0).any())\n    TC.assertTrue((D['Holiday'] == 1).any())\n\n    # check that the 'Season' feature has been converted to 4 new columns\n    TC.assertIn('Winter', D.columns)\n    TC.assertIn('Spring', D.columns)\n    TC.assertIn('Summer', D.columns)\n    TC.assertIn('Autumn', D.columns)\n    TC.assertNotIn('Seasons', D.columns)\n",
    "step05": "from otter.test_files import test_case\n\nOK_FORMAT = False\n\nname = \"step05\"\npoints = 3\n\n@test_case(points=3, hidden=False, \n    failure_message=\"Did you make the required changes on the question specification?\")\ndef test_q5(step5_data):\n    import pandas as pd\n    import unittest as UT\n    TC = UT.TestCase()\n    D = step5_data\n    TC.assertTrue(pd.api.types.is_numeric_dtype(D['Weekday']))\n    TC.assertIn('Weekday', D.columns)\n    TC.assertNotIn('Date', D.columns)\n",
    "step06": "from otter.test_files import test_case\n\nOK_FORMAT = False\n\nname = \"step06\"\npoints = 3\n\n@test_case(points=3, hidden=False, \n    failure_message=\"Did you make the required changes based on the question specification?\")\ndef test_q6(step6_data):\n    import pandas as pd\n    import unittest as UT\n    TC = UT.TestCase()\n    D = step6_data\n    for col in D.columns:\n        TC.assertTrue(pd.api.types.is_numeric_dtype(D[col]))\n",
    "step07": "from otter.test_files import test_case\n\nOK_FORMAT = False\n\nname = \"step07\"\npoints = 3\n\n@test_case(points=3, hidden=False, \n    failure_message=\"Your pipeline is not correct or there is still problematic entries in your data\")\ndef test_q7(step7_data):\n    from sklearn.pipeline import Pipeline\n    import unittest as UT\n    TC = UT.TestCase()\n    D = step7_data[0]\n    pipeline_step7 = step7_data[1]\n    TC.assertIsInstance(pipeline_step7, Pipeline)\n    #TC.assertIsInstance(pipeline_step7.named_steps['imputer'], SimpleImputer)\n    TC.assertTrue(D['Humidity (%)'].isna().sum() > 0)\n",
    "step08": "from otter.test_files import test_case\n\nOK_FORMAT = False\n\nname = \"step08\"\npoints = 3\n\n@test_case(points=3, hidden=False, \n    failure_message=\"Your top3 list is not correct\")\ndef test_q8(step8_data):\n    import unittest as UT\n    TC = UT.TestCase()\n    TC.assertListEqual(sorted(list(step8_data)),sorted(['Hour', 'Temperature (C)', 'Winter']))\n",
    "step09": "from otter.test_files import test_case\n\nOK_FORMAT = False\n\nname = \"step09\"\npoints = 3\n\n@test_case(points=3, hidden=False, \n    failure_message=\"rmse for the baseline is better than your trained model\")\ndef test_q9(step9_data):\n    import unittest as UT\n    TC = UT.TestCase()\n    rmse_train    = step9_data[0]\n    rmse_baseline = step9_data[1]\n    TC.assertTrue(rmse_train < rmse_baseline)\n    #TC.assertAlmostEqual(len(X_test)/(len(X_train) + len(X_test)),0.2)\n",
    "step10": "from otter.test_files import test_case\n\nOK_FORMAT = False\n\nname = \"step10\"\npoints = 3\n\n@test_case(points=3, hidden=False, \n    failure_message=\"the RMSE of your model is too high or your pipeline is not correct\")\ndef test_q10(step10_data):\n    import unittest as UT\n    TC = UT.TestCase()\n    rms = step10_data[0]\n    pipeline = step10_data[1]\n    TC.assertTrue(rms < 1000)\n    TC.assertTrue('KernelRidge' in str(pipeline.named_steps))\n",
    "step11": "from otter.test_files import test_case\n\nOK_FORMAT = False\n\nname = \"step11\"\npoints = 4\n\n@test_case(points=4, hidden=False, \n    failure_message=\"the RMSE of your model is too high or your pipeline is not correct\")\ndef test_q11(step11_data):\n    import unittest as UT\n    TC = UT.TestCase()\n    rms = step11_data[0]\n    pipeline = step11_data[1]\n    TC.assertTrue(rms < 800)\n    TC.assertTrue('SVR' in str(pipeline.named_steps))\n",
    "step12": "from otter.test_files import test_case\n\nOK_FORMAT = False\n\nname = \"step12\"\npoints = 5\n\n@test_case(points=5, hidden=False, \n    failure_message=\"one or more RMSE of your models are too high or your pipeline is not correct\")\ndef test_q12(step12_data):\n    import unittest as UT\n    TC = UT.TestCase()\n    TC.assertTrue(step12_data[0] < 1000)\n    TC.assertTrue(step12_data[1] < 1000)\n    TC.assertTrue(step12_data[2] < 1000)\n",
    "step13": "from otter.test_files import test_case\n\nOK_FORMAT = False\n\nname = \"step13\"\npoints = 5\n\n@test_case(points=5, hidden=False, \n    failure_message=\"one or more RMSE of your models are too high or your pipeline is not correct\")\ndef test_q13(step13_data):\n    import unittest as UT\n    TC = UT.TestCase()\n    TC.assertTrue(step13_data[0] < 900)\n    TC.assertTrue(step13_data[1] < 300)\n    # Check grid search setup and results for KernelRidge\n    TC.assertIn('kernelridge__alpha', step13_data[2].param_grid)\n    TC.assertTrue(hasattr(step13_data[2], 'best_params_'))\n    TC.assertIn('kernelridge__alpha', step13_data[2].best_params_)\n    \n    # Check grid search setup and results for SVR\n    TC.assertIn('svr__C', step13_data[3].param_grid)\n    TC.assertTrue(hasattr(step13_data[3], 'best_params_'))\n    TC.assertIn('svr__C', step13_data[3].best_params_)\n\n"
   }
  }
 },
 "nbformat": 4,
 "nbformat_minor": 5
}
